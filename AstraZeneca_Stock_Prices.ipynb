{
  "nbformat": 4,
  "nbformat_minor": 0,
  "metadata": {
    "colab": {
      "name": "AstraZeneca Stock Prices.ipynb",
      "provenance": [],
      "collapsed_sections": [],
      "authorship_tag": "ABX9TyM3sJl2ZOedgDvyZaHsI+pZ"
    },
    "kernelspec": {
      "display_name": "Python 3",
      "name": "python3"
    },
    "language_info": {
      "name": "python"
    }
  },
  "cells": [
    {
      "cell_type": "markdown",
      "metadata": {
        "id": "AobJPrFpuCx-"
      },
      "source": [
        "# Predicting AstraZeneca Stock Prices\n",
        "### Melania Czobit\n"
      ]
    },
    {
      "cell_type": "code",
      "metadata": {
        "colab": {
          "background_save": true
        },
        "id": "s4ot9ScE3dFc"
      },
      "source": [
        "import warnings\n",
        "warnings.filterwarnings('ignore')"
      ],
      "execution_count": null,
      "outputs": []
    },
    {
      "cell_type": "code",
      "metadata": {
        "colab": {
          "background_save": true,
          "base_uri": "https://localhost:8080/"
        },
        "id": "HG4JPpqEt5Sa",
        "outputId": "692a54b6-6a89-41be-e0ef-3005120cbbb7"
      },
      "source": [
        "!pip install yfinance\n",
        "\n",
        "import pandas as pd\n",
        "import numpy as np\n",
        "import matplotlib.pyplot as plt\n",
        "import yfinance as yf\n",
        "import seaborn as sns"
      ],
      "execution_count": null,
      "outputs": [
        {
          "output_type": "stream",
          "text": [
            "Requirement already satisfied: yfinance in /usr/local/lib/python3.7/dist-packages (0.1.61)\n",
            "Requirement already satisfied: lxml>=4.5.1 in /usr/local/lib/python3.7/dist-packages (from yfinance) (4.6.3)\n",
            "Requirement already satisfied: multitasking>=0.0.7 in /usr/local/lib/python3.7/dist-packages (from yfinance) (0.0.9)\n",
            "Requirement already satisfied: numpy>=1.15 in /usr/local/lib/python3.7/dist-packages (from yfinance) (1.19.5)\n",
            "Requirement already satisfied: pandas>=0.24 in /usr/local/lib/python3.7/dist-packages (from yfinance) (1.1.5)\n",
            "Requirement already satisfied: requests>=2.20 in /usr/local/lib/python3.7/dist-packages (from yfinance) (2.23.0)\n",
            "Requirement already satisfied: pytz>=2017.2 in /usr/local/lib/python3.7/dist-packages (from pandas>=0.24->yfinance) (2018.9)\n",
            "Requirement already satisfied: python-dateutil>=2.7.3 in /usr/local/lib/python3.7/dist-packages (from pandas>=0.24->yfinance) (2.8.1)\n",
            "Requirement already satisfied: urllib3!=1.25.0,!=1.25.1,<1.26,>=1.21.1 in /usr/local/lib/python3.7/dist-packages (from requests>=2.20->yfinance) (1.24.3)\n",
            "Requirement already satisfied: certifi>=2017.4.17 in /usr/local/lib/python3.7/dist-packages (from requests>=2.20->yfinance) (2021.5.30)\n",
            "Requirement already satisfied: idna<3,>=2.5 in /usr/local/lib/python3.7/dist-packages (from requests>=2.20->yfinance) (2.10)\n",
            "Requirement already satisfied: chardet<4,>=3.0.2 in /usr/local/lib/python3.7/dist-packages (from requests>=2.20->yfinance) (3.0.4)\n",
            "Requirement already satisfied: six>=1.5 in /usr/local/lib/python3.7/dist-packages (from python-dateutil>=2.7.3->pandas>=0.24->yfinance) (1.15.0)\n"
          ],
          "name": "stdout"
        }
      ]
    },
    {
      "cell_type": "markdown",
      "metadata": {
        "id": "nDrk8RhZudGw"
      },
      "source": [
        "**Importing stock data**"
      ]
    },
    {
      "cell_type": "markdown",
      "metadata": {
        "id": "2xXXKcmQYUnT"
      },
      "source": [
        "The AZN stock price data will be obtained from Yahoo finance. "
      ]
    },
    {
      "cell_type": "code",
      "metadata": {
        "colab": {
          "background_save": true,
          "base_uri": "https://localhost:8080/"
        },
        "id": "QQJOdJZhuQ6l",
        "outputId": "22f10ad1-3bec-4f1d-c177-d741ddfdb78f"
      },
      "source": [
        "df = yf.download('AZN','2012-12-31','2020-01-01')"
      ],
      "execution_count": null,
      "outputs": [
        {
          "output_type": "stream",
          "text": [
            "\r[*********************100%***********************]  1 of 1 completed\n"
          ],
          "name": "stdout"
        }
      ]
    },
    {
      "cell_type": "markdown",
      "metadata": {
        "id": "FL6CpYHryvBU"
      },
      "source": [
        "**Data Preparation**"
      ]
    },
    {
      "cell_type": "code",
      "metadata": {
        "colab": {
          "background_save": true,
          "base_uri": "https://localhost:8080/",
          "height": 235
        },
        "id": "7xH4VYRhvsr6",
        "outputId": "963efe53-581a-42c1-efd1-5b78b01601e3"
      },
      "source": [
        "df.head()"
      ],
      "execution_count": null,
      "outputs": [
        {
          "output_type": "execute_result",
          "data": {
            "text/html": [
              "<div>\n",
              "<style scoped>\n",
              "    .dataframe tbody tr th:only-of-type {\n",
              "        vertical-align: middle;\n",
              "    }\n",
              "\n",
              "    .dataframe tbody tr th {\n",
              "        vertical-align: top;\n",
              "    }\n",
              "\n",
              "    .dataframe thead th {\n",
              "        text-align: right;\n",
              "    }\n",
              "</style>\n",
              "<table border=\"1\" class=\"dataframe\">\n",
              "  <thead>\n",
              "    <tr style=\"text-align: right;\">\n",
              "      <th></th>\n",
              "      <th>Open</th>\n",
              "      <th>High</th>\n",
              "      <th>Low</th>\n",
              "      <th>Close</th>\n",
              "      <th>Adj Close</th>\n",
              "      <th>Volume</th>\n",
              "    </tr>\n",
              "    <tr>\n",
              "      <th>Date</th>\n",
              "      <th></th>\n",
              "      <th></th>\n",
              "      <th></th>\n",
              "      <th></th>\n",
              "      <th></th>\n",
              "      <th></th>\n",
              "    </tr>\n",
              "  </thead>\n",
              "  <tbody>\n",
              "    <tr>\n",
              "      <th>2012-12-31</th>\n",
              "      <td>23.375000</td>\n",
              "      <td>23.660000</td>\n",
              "      <td>23.360001</td>\n",
              "      <td>23.635000</td>\n",
              "      <td>16.594944</td>\n",
              "      <td>1916600</td>\n",
              "    </tr>\n",
              "    <tr>\n",
              "      <th>2013-01-02</th>\n",
              "      <td>24.080000</td>\n",
              "      <td>24.120001</td>\n",
              "      <td>23.980000</td>\n",
              "      <td>24.120001</td>\n",
              "      <td>16.935476</td>\n",
              "      <td>2812000</td>\n",
              "    </tr>\n",
              "    <tr>\n",
              "      <th>2013-01-03</th>\n",
              "      <td>24.020000</td>\n",
              "      <td>24.115000</td>\n",
              "      <td>23.980000</td>\n",
              "      <td>24.075001</td>\n",
              "      <td>16.903885</td>\n",
              "      <td>1941200</td>\n",
              "    </tr>\n",
              "    <tr>\n",
              "      <th>2013-01-04</th>\n",
              "      <td>23.959999</td>\n",
              "      <td>24.120001</td>\n",
              "      <td>23.959999</td>\n",
              "      <td>24.075001</td>\n",
              "      <td>16.903885</td>\n",
              "      <td>1854800</td>\n",
              "    </tr>\n",
              "    <tr>\n",
              "      <th>2013-01-07</th>\n",
              "      <td>23.995001</td>\n",
              "      <td>24.100000</td>\n",
              "      <td>23.975000</td>\n",
              "      <td>24.055000</td>\n",
              "      <td>16.889841</td>\n",
              "      <td>1932200</td>\n",
              "    </tr>\n",
              "  </tbody>\n",
              "</table>\n",
              "</div>"
            ],
            "text/plain": [
              "                 Open       High        Low      Close  Adj Close   Volume\n",
              "Date                                                                      \n",
              "2012-12-31  23.375000  23.660000  23.360001  23.635000  16.594944  1916600\n",
              "2013-01-02  24.080000  24.120001  23.980000  24.120001  16.935476  2812000\n",
              "2013-01-03  24.020000  24.115000  23.980000  24.075001  16.903885  1941200\n",
              "2013-01-04  23.959999  24.120001  23.959999  24.075001  16.903885  1854800\n",
              "2013-01-07  23.995001  24.100000  23.975000  24.055000  16.889841  1932200"
            ]
          },
          "metadata": {
            "tags": []
          },
          "execution_count": 0
        }
      ]
    },
    {
      "cell_type": "markdown",
      "metadata": {
        "id": "05L8kBTgXXE3"
      },
      "source": [
        "The dataset is missing a few days - weekends and holidays are not in the dataset. These values will be added into the dataset by forward-filling. "
      ]
    },
    {
      "cell_type": "code",
      "metadata": {
        "colab": {
          "background_save": true,
          "base_uri": "https://localhost:8080/",
          "height": 390
        },
        "id": "2bWqV3OhZIcF",
        "outputId": "b9eb6b2b-fcf9-462b-bef8-cfb5e53b0a33"
      },
      "source": [
        "df = df.resample('D').ffill()\n",
        "df.head(10)"
      ],
      "execution_count": null,
      "outputs": [
        {
          "output_type": "execute_result",
          "data": {
            "text/html": [
              "<div>\n",
              "<style scoped>\n",
              "    .dataframe tbody tr th:only-of-type {\n",
              "        vertical-align: middle;\n",
              "    }\n",
              "\n",
              "    .dataframe tbody tr th {\n",
              "        vertical-align: top;\n",
              "    }\n",
              "\n",
              "    .dataframe thead th {\n",
              "        text-align: right;\n",
              "    }\n",
              "</style>\n",
              "<table border=\"1\" class=\"dataframe\">\n",
              "  <thead>\n",
              "    <tr style=\"text-align: right;\">\n",
              "      <th></th>\n",
              "      <th>Open</th>\n",
              "      <th>High</th>\n",
              "      <th>Low</th>\n",
              "      <th>Close</th>\n",
              "      <th>Adj Close</th>\n",
              "      <th>Volume</th>\n",
              "    </tr>\n",
              "    <tr>\n",
              "      <th>Date</th>\n",
              "      <th></th>\n",
              "      <th></th>\n",
              "      <th></th>\n",
              "      <th></th>\n",
              "      <th></th>\n",
              "      <th></th>\n",
              "    </tr>\n",
              "  </thead>\n",
              "  <tbody>\n",
              "    <tr>\n",
              "      <th>2012-12-31</th>\n",
              "      <td>23.375000</td>\n",
              "      <td>23.660000</td>\n",
              "      <td>23.360001</td>\n",
              "      <td>23.635000</td>\n",
              "      <td>16.594944</td>\n",
              "      <td>1916600</td>\n",
              "    </tr>\n",
              "    <tr>\n",
              "      <th>2013-01-01</th>\n",
              "      <td>23.375000</td>\n",
              "      <td>23.660000</td>\n",
              "      <td>23.360001</td>\n",
              "      <td>23.635000</td>\n",
              "      <td>16.594944</td>\n",
              "      <td>1916600</td>\n",
              "    </tr>\n",
              "    <tr>\n",
              "      <th>2013-01-02</th>\n",
              "      <td>24.080000</td>\n",
              "      <td>24.120001</td>\n",
              "      <td>23.980000</td>\n",
              "      <td>24.120001</td>\n",
              "      <td>16.935476</td>\n",
              "      <td>2812000</td>\n",
              "    </tr>\n",
              "    <tr>\n",
              "      <th>2013-01-03</th>\n",
              "      <td>24.020000</td>\n",
              "      <td>24.115000</td>\n",
              "      <td>23.980000</td>\n",
              "      <td>24.075001</td>\n",
              "      <td>16.903885</td>\n",
              "      <td>1941200</td>\n",
              "    </tr>\n",
              "    <tr>\n",
              "      <th>2013-01-04</th>\n",
              "      <td>23.959999</td>\n",
              "      <td>24.120001</td>\n",
              "      <td>23.959999</td>\n",
              "      <td>24.075001</td>\n",
              "      <td>16.903885</td>\n",
              "      <td>1854800</td>\n",
              "    </tr>\n",
              "    <tr>\n",
              "      <th>2013-01-05</th>\n",
              "      <td>23.959999</td>\n",
              "      <td>24.120001</td>\n",
              "      <td>23.959999</td>\n",
              "      <td>24.075001</td>\n",
              "      <td>16.903885</td>\n",
              "      <td>1854800</td>\n",
              "    </tr>\n",
              "    <tr>\n",
              "      <th>2013-01-06</th>\n",
              "      <td>23.959999</td>\n",
              "      <td>24.120001</td>\n",
              "      <td>23.959999</td>\n",
              "      <td>24.075001</td>\n",
              "      <td>16.903885</td>\n",
              "      <td>1854800</td>\n",
              "    </tr>\n",
              "    <tr>\n",
              "      <th>2013-01-07</th>\n",
              "      <td>23.995001</td>\n",
              "      <td>24.100000</td>\n",
              "      <td>23.975000</td>\n",
              "      <td>24.055000</td>\n",
              "      <td>16.889841</td>\n",
              "      <td>1932200</td>\n",
              "    </tr>\n",
              "    <tr>\n",
              "      <th>2013-01-08</th>\n",
              "      <td>23.875000</td>\n",
              "      <td>24.110001</td>\n",
              "      <td>23.870001</td>\n",
              "      <td>24.075001</td>\n",
              "      <td>16.903885</td>\n",
              "      <td>1853800</td>\n",
              "    </tr>\n",
              "    <tr>\n",
              "      <th>2013-01-09</th>\n",
              "      <td>23.995001</td>\n",
              "      <td>24.049999</td>\n",
              "      <td>23.879999</td>\n",
              "      <td>23.920000</td>\n",
              "      <td>16.795052</td>\n",
              "      <td>2471800</td>\n",
              "    </tr>\n",
              "  </tbody>\n",
              "</table>\n",
              "</div>"
            ],
            "text/plain": [
              "                 Open       High        Low      Close  Adj Close   Volume\n",
              "Date                                                                      \n",
              "2012-12-31  23.375000  23.660000  23.360001  23.635000  16.594944  1916600\n",
              "2013-01-01  23.375000  23.660000  23.360001  23.635000  16.594944  1916600\n",
              "2013-01-02  24.080000  24.120001  23.980000  24.120001  16.935476  2812000\n",
              "2013-01-03  24.020000  24.115000  23.980000  24.075001  16.903885  1941200\n",
              "2013-01-04  23.959999  24.120001  23.959999  24.075001  16.903885  1854800\n",
              "2013-01-05  23.959999  24.120001  23.959999  24.075001  16.903885  1854800\n",
              "2013-01-06  23.959999  24.120001  23.959999  24.075001  16.903885  1854800\n",
              "2013-01-07  23.995001  24.100000  23.975000  24.055000  16.889841  1932200\n",
              "2013-01-08  23.875000  24.110001  23.870001  24.075001  16.903885  1853800\n",
              "2013-01-09  23.995001  24.049999  23.879999  23.920000  16.795052  2471800"
            ]
          },
          "metadata": {
            "tags": []
          },
          "execution_count": 0
        }
      ]
    },
    {
      "cell_type": "markdown",
      "metadata": {
        "id": "FHu1RyeyXlkc"
      },
      "source": [
        "The first row, with date 2012-12-31, will be omitted. It was required to forward-fill the row for 2013-01-01. "
      ]
    },
    {
      "cell_type": "code",
      "metadata": {
        "colab": {
          "background_save": true,
          "base_uri": "https://localhost:8080/",
          "height": 450
        },
        "id": "dFTv6rmnFbxi",
        "outputId": "89786117-61ce-4179-de4a-189caee3839d"
      },
      "source": [
        "df = df.iloc[1:]\n",
        "df"
      ],
      "execution_count": null,
      "outputs": [
        {
          "output_type": "execute_result",
          "data": {
            "text/html": [
              "<div>\n",
              "<style scoped>\n",
              "    .dataframe tbody tr th:only-of-type {\n",
              "        vertical-align: middle;\n",
              "    }\n",
              "\n",
              "    .dataframe tbody tr th {\n",
              "        vertical-align: top;\n",
              "    }\n",
              "\n",
              "    .dataframe thead th {\n",
              "        text-align: right;\n",
              "    }\n",
              "</style>\n",
              "<table border=\"1\" class=\"dataframe\">\n",
              "  <thead>\n",
              "    <tr style=\"text-align: right;\">\n",
              "      <th></th>\n",
              "      <th>Open</th>\n",
              "      <th>High</th>\n",
              "      <th>Low</th>\n",
              "      <th>Close</th>\n",
              "      <th>Adj Close</th>\n",
              "      <th>Volume</th>\n",
              "    </tr>\n",
              "    <tr>\n",
              "      <th>Date</th>\n",
              "      <th></th>\n",
              "      <th></th>\n",
              "      <th></th>\n",
              "      <th></th>\n",
              "      <th></th>\n",
              "      <th></th>\n",
              "    </tr>\n",
              "  </thead>\n",
              "  <tbody>\n",
              "    <tr>\n",
              "      <th>2013-01-01</th>\n",
              "      <td>23.375000</td>\n",
              "      <td>23.660000</td>\n",
              "      <td>23.360001</td>\n",
              "      <td>23.635000</td>\n",
              "      <td>16.594944</td>\n",
              "      <td>1916600</td>\n",
              "    </tr>\n",
              "    <tr>\n",
              "      <th>2013-01-02</th>\n",
              "      <td>24.080000</td>\n",
              "      <td>24.120001</td>\n",
              "      <td>23.980000</td>\n",
              "      <td>24.120001</td>\n",
              "      <td>16.935476</td>\n",
              "      <td>2812000</td>\n",
              "    </tr>\n",
              "    <tr>\n",
              "      <th>2013-01-03</th>\n",
              "      <td>24.020000</td>\n",
              "      <td>24.115000</td>\n",
              "      <td>23.980000</td>\n",
              "      <td>24.075001</td>\n",
              "      <td>16.903885</td>\n",
              "      <td>1941200</td>\n",
              "    </tr>\n",
              "    <tr>\n",
              "      <th>2013-01-04</th>\n",
              "      <td>23.959999</td>\n",
              "      <td>24.120001</td>\n",
              "      <td>23.959999</td>\n",
              "      <td>24.075001</td>\n",
              "      <td>16.903885</td>\n",
              "      <td>1854800</td>\n",
              "    </tr>\n",
              "    <tr>\n",
              "      <th>2013-01-05</th>\n",
              "      <td>23.959999</td>\n",
              "      <td>24.120001</td>\n",
              "      <td>23.959999</td>\n",
              "      <td>24.075001</td>\n",
              "      <td>16.903885</td>\n",
              "      <td>1854800</td>\n",
              "    </tr>\n",
              "    <tr>\n",
              "      <th>...</th>\n",
              "      <td>...</td>\n",
              "      <td>...</td>\n",
              "      <td>...</td>\n",
              "      <td>...</td>\n",
              "      <td>...</td>\n",
              "      <td>...</td>\n",
              "    </tr>\n",
              "    <tr>\n",
              "      <th>2019-12-27</th>\n",
              "      <td>50.570000</td>\n",
              "      <td>50.660000</td>\n",
              "      <td>50.299999</td>\n",
              "      <td>50.439999</td>\n",
              "      <td>48.110725</td>\n",
              "      <td>1636200</td>\n",
              "    </tr>\n",
              "    <tr>\n",
              "      <th>2019-12-28</th>\n",
              "      <td>50.570000</td>\n",
              "      <td>50.660000</td>\n",
              "      <td>50.299999</td>\n",
              "      <td>50.439999</td>\n",
              "      <td>48.110725</td>\n",
              "      <td>1636200</td>\n",
              "    </tr>\n",
              "    <tr>\n",
              "      <th>2019-12-29</th>\n",
              "      <td>50.570000</td>\n",
              "      <td>50.660000</td>\n",
              "      <td>50.299999</td>\n",
              "      <td>50.439999</td>\n",
              "      <td>48.110725</td>\n",
              "      <td>1636200</td>\n",
              "    </tr>\n",
              "    <tr>\n",
              "      <th>2019-12-30</th>\n",
              "      <td>50.830002</td>\n",
              "      <td>50.840000</td>\n",
              "      <td>49.810001</td>\n",
              "      <td>50.009998</td>\n",
              "      <td>47.700581</td>\n",
              "      <td>1960300</td>\n",
              "    </tr>\n",
              "    <tr>\n",
              "      <th>2019-12-31</th>\n",
              "      <td>49.770000</td>\n",
              "      <td>49.939999</td>\n",
              "      <td>49.680000</td>\n",
              "      <td>49.860001</td>\n",
              "      <td>47.557510</td>\n",
              "      <td>1750000</td>\n",
              "    </tr>\n",
              "  </tbody>\n",
              "</table>\n",
              "<p>2556 rows × 6 columns</p>\n",
              "</div>"
            ],
            "text/plain": [
              "                 Open       High        Low      Close  Adj Close   Volume\n",
              "Date                                                                      \n",
              "2013-01-01  23.375000  23.660000  23.360001  23.635000  16.594944  1916600\n",
              "2013-01-02  24.080000  24.120001  23.980000  24.120001  16.935476  2812000\n",
              "2013-01-03  24.020000  24.115000  23.980000  24.075001  16.903885  1941200\n",
              "2013-01-04  23.959999  24.120001  23.959999  24.075001  16.903885  1854800\n",
              "2013-01-05  23.959999  24.120001  23.959999  24.075001  16.903885  1854800\n",
              "...               ...        ...        ...        ...        ...      ...\n",
              "2019-12-27  50.570000  50.660000  50.299999  50.439999  48.110725  1636200\n",
              "2019-12-28  50.570000  50.660000  50.299999  50.439999  48.110725  1636200\n",
              "2019-12-29  50.570000  50.660000  50.299999  50.439999  48.110725  1636200\n",
              "2019-12-30  50.830002  50.840000  49.810001  50.009998  47.700581  1960300\n",
              "2019-12-31  49.770000  49.939999  49.680000  49.860001  47.557510  1750000\n",
              "\n",
              "[2556 rows x 6 columns]"
            ]
          },
          "metadata": {
            "tags": []
          },
          "execution_count": 0
        }
      ]
    },
    {
      "cell_type": "code",
      "metadata": {
        "colab": {
          "background_save": true,
          "base_uri": "https://localhost:8080/"
        },
        "id": "2gic84BRbxOj",
        "outputId": "cf2a797c-ea5b-4f7e-a44d-2034e815f441"
      },
      "source": [
        "df.info()"
      ],
      "execution_count": null,
      "outputs": [
        {
          "output_type": "stream",
          "text": [
            "<class 'pandas.core.frame.DataFrame'>\n",
            "DatetimeIndex: 2556 entries, 2013-01-01 to 2019-12-31\n",
            "Freq: D\n",
            "Data columns (total 6 columns):\n",
            " #   Column     Non-Null Count  Dtype  \n",
            "---  ------     --------------  -----  \n",
            " 0   Open       2556 non-null   float64\n",
            " 1   High       2556 non-null   float64\n",
            " 2   Low        2556 non-null   float64\n",
            " 3   Close      2556 non-null   float64\n",
            " 4   Adj Close  2556 non-null   float64\n",
            " 5   Volume     2556 non-null   int64  \n",
            "dtypes: float64(5), int64(1)\n",
            "memory usage: 139.8 KB\n"
          ],
          "name": "stdout"
        }
      ]
    },
    {
      "cell_type": "markdown",
      "metadata": {
        "id": "q6aLO2i2hYoB"
      },
      "source": [
        "The descriptive statistics of the full dataset is shown below. "
      ]
    },
    {
      "cell_type": "code",
      "metadata": {
        "colab": {
          "background_save": true,
          "base_uri": "https://localhost:8080/",
          "height": 297
        },
        "id": "InSAHbifvvtu",
        "outputId": "e9383e43-0dd0-46e7-e1ac-534f602547e6"
      },
      "source": [
        "df.describe()"
      ],
      "execution_count": null,
      "outputs": [
        {
          "output_type": "execute_result",
          "data": {
            "text/html": [
              "<div>\n",
              "<style scoped>\n",
              "    .dataframe tbody tr th:only-of-type {\n",
              "        vertical-align: middle;\n",
              "    }\n",
              "\n",
              "    .dataframe tbody tr th {\n",
              "        vertical-align: top;\n",
              "    }\n",
              "\n",
              "    .dataframe thead th {\n",
              "        text-align: right;\n",
              "    }\n",
              "</style>\n",
              "<table border=\"1\" class=\"dataframe\">\n",
              "  <thead>\n",
              "    <tr style=\"text-align: right;\">\n",
              "      <th></th>\n",
              "      <th>Open</th>\n",
              "      <th>High</th>\n",
              "      <th>Low</th>\n",
              "      <th>Close</th>\n",
              "      <th>Adj Close</th>\n",
              "      <th>Volume</th>\n",
              "    </tr>\n",
              "  </thead>\n",
              "  <tbody>\n",
              "    <tr>\n",
              "      <th>count</th>\n",
              "      <td>2556.000000</td>\n",
              "      <td>2556.000000</td>\n",
              "      <td>2556.000000</td>\n",
              "      <td>2556.000000</td>\n",
              "      <td>2556.000000</td>\n",
              "      <td>2.556000e+03</td>\n",
              "    </tr>\n",
              "    <tr>\n",
              "      <th>mean</th>\n",
              "      <td>33.590059</td>\n",
              "      <td>33.813324</td>\n",
              "      <td>33.389468</td>\n",
              "      <td>33.611375</td>\n",
              "      <td>28.451753</td>\n",
              "      <td>4.379344e+06</td>\n",
              "    </tr>\n",
              "    <tr>\n",
              "      <th>std</th>\n",
              "      <td>5.515301</td>\n",
              "      <td>5.548125</td>\n",
              "      <td>5.467639</td>\n",
              "      <td>5.500987</td>\n",
              "      <td>6.646207</td>\n",
              "      <td>3.445372e+06</td>\n",
              "    </tr>\n",
              "    <tr>\n",
              "      <th>min</th>\n",
              "      <td>22.370001</td>\n",
              "      <td>22.385000</td>\n",
              "      <td>22.230000</td>\n",
              "      <td>22.334999</td>\n",
              "      <td>16.336739</td>\n",
              "      <td>7.558000e+05</td>\n",
              "    </tr>\n",
              "    <tr>\n",
              "      <th>25%</th>\n",
              "      <td>29.590000</td>\n",
              "      <td>29.760000</td>\n",
              "      <td>29.400000</td>\n",
              "      <td>29.660000</td>\n",
              "      <td>24.663406</td>\n",
              "      <td>2.536600e+06</td>\n",
              "    </tr>\n",
              "    <tr>\n",
              "      <th>50%</th>\n",
              "      <td>33.737501</td>\n",
              "      <td>34.032499</td>\n",
              "      <td>33.594999</td>\n",
              "      <td>33.830002</td>\n",
              "      <td>27.486526</td>\n",
              "      <td>3.574900e+06</td>\n",
              "    </tr>\n",
              "    <tr>\n",
              "      <th>75%</th>\n",
              "      <td>36.803749</td>\n",
              "      <td>36.990002</td>\n",
              "      <td>36.541250</td>\n",
              "      <td>36.810001</td>\n",
              "      <td>31.903486</td>\n",
              "      <td>5.019200e+06</td>\n",
              "    </tr>\n",
              "    <tr>\n",
              "      <th>max</th>\n",
              "      <td>50.830002</td>\n",
              "      <td>51.230000</td>\n",
              "      <td>50.330002</td>\n",
              "      <td>50.459999</td>\n",
              "      <td>48.129799</td>\n",
              "      <td>5.746580e+07</td>\n",
              "    </tr>\n",
              "  </tbody>\n",
              "</table>\n",
              "</div>"
            ],
            "text/plain": [
              "              Open         High  ...    Adj Close        Volume\n",
              "count  2556.000000  2556.000000  ...  2556.000000  2.556000e+03\n",
              "mean     33.590059    33.813324  ...    28.451753  4.379344e+06\n",
              "std       5.515301     5.548125  ...     6.646207  3.445372e+06\n",
              "min      22.370001    22.385000  ...    16.336739  7.558000e+05\n",
              "25%      29.590000    29.760000  ...    24.663406  2.536600e+06\n",
              "50%      33.737501    34.032499  ...    27.486526  3.574900e+06\n",
              "75%      36.803749    36.990002  ...    31.903486  5.019200e+06\n",
              "max      50.830002    51.230000  ...    48.129799  5.746580e+07\n",
              "\n",
              "[8 rows x 6 columns]"
            ]
          },
          "metadata": {
            "tags": []
          },
          "execution_count": 0
        }
      ]
    },
    {
      "cell_type": "code",
      "metadata": {
        "colab": {
          "background_save": true,
          "base_uri": "https://localhost:8080/"
        },
        "id": "NyqeiIS1cqLi",
        "outputId": "768bdc5f-77b2-4a62-a667-a0cfb49c29e7"
      },
      "source": [
        "df.shape"
      ],
      "execution_count": null,
      "outputs": [
        {
          "output_type": "execute_result",
          "data": {
            "text/plain": [
              "(2556, 6)"
            ]
          },
          "metadata": {
            "tags": []
          },
          "execution_count": 0
        }
      ]
    },
    {
      "cell_type": "code",
      "metadata": {
        "colab": {
          "background_save": true,
          "base_uri": "https://localhost:8080/"
        },
        "id": "AMtu-CpiF0kB",
        "outputId": "dc61aa4d-fb0a-405a-a36d-46eb3291d3ce"
      },
      "source": [
        "df.isnull().sum()"
      ],
      "execution_count": null,
      "outputs": [
        {
          "output_type": "execute_result",
          "data": {
            "text/plain": [
              "Open         0\n",
              "High         0\n",
              "Low          0\n",
              "Close        0\n",
              "Adj Close    0\n",
              "Volume       0\n",
              "dtype: int64"
            ]
          },
          "metadata": {
            "tags": []
          },
          "execution_count": 0
        }
      ]
    },
    {
      "cell_type": "markdown",
      "metadata": {
        "id": "saZKW_txp2lh"
      },
      "source": [
        "The prices for the whole dataset were plotted to visualize the change throughout time."
      ]
    },
    {
      "cell_type": "code",
      "metadata": {
        "colab": {
          "background_save": true,
          "base_uri": "https://localhost:8080/",
          "height": 295
        },
        "id": "v1OZ3TsTnnhB",
        "outputId": "6d545cc0-f131-4ba0-dde7-11cf9d44fa31"
      },
      "source": [
        "plt.plot(df['Open'], label='Open')\n",
        "plt.plot(df['High'], label='High')\n",
        "plt.plot(df['Low'], label='Low')\n",
        "plt.plot(df['Close'], label='Close')\n",
        "plt.plot(df['Adj Close'], label='Adj Close')\n",
        "plt.legend(ncol=3)\n",
        "plt.title('AstraZeneca Stock Prices')\n",
        "plt.xlabel('Date')\n",
        "plt.ylabel('Price')\n",
        "plt.show()"
      ],
      "execution_count": null,
      "outputs": [
        {
          "output_type": "display_data",
          "data": {
            "image/png": "[encoded data removed]",
            "text/plain": [
              "<Figure size 432x288 with 1 Axes>"
            ]
          },
          "metadata": {
            "tags": []
          }
        }
      ]
    },
    {
      "cell_type": "markdown",
      "metadata": {
        "id": "KcUCM4SZ6UbO"
      },
      "source": [
        "**Splitting into train and test set**"
      ]
    },
    {
      "cell_type": "markdown",
      "metadata": {
        "id": "88SVSoL7-Kkq"
      },
      "source": [
        "The data will be split into a train and test set.  The data preparation will be applied to the train set only to prevent leaking information from the test set."
      ]
    },
    {
      "cell_type": "code",
      "metadata": {
        "colab": {
          "background_save": true
        },
        "id": "S7aXI9HM5IUN"
      },
      "source": [
        "train = df.iloc[:-730,:]\n",
        "test = df.iloc[-730:,:]"
      ],
      "execution_count": null,
      "outputs": []
    },
    {
      "cell_type": "markdown",
      "metadata": {
        "id": "qPanT5ZvwJmd"
      },
      "source": [
        "Creating a correlation matrix can give insight about the dataset."
      ]
    },
    {
      "cell_type": "code",
      "metadata": {
        "colab": {
          "background_save": true,
          "base_uri": "https://localhost:8080/",
          "height": 286
        },
        "id": "BDMmXaXOwGXQ",
        "outputId": "43c0e4a7-8564-4021-a0b2-311f955b216d"
      },
      "source": [
        "corr_matrix=train.corr()\n",
        "sns.heatmap(corr_matrix,cmap='YlGnBu',annot=True)"
      ],
      "execution_count": null,
      "outputs": [
        {
          "output_type": "execute_result",
          "data": {
            "text/plain": [
              "<matplotlib.axes._subplots.AxesSubplot at 0x7fbab45e9650>"
            ]
          },
          "metadata": {
            "tags": []
          },
          "execution_count": 0
        },
        {
          "output_type": "display_data",
          "data": {
            "image/png": "[encoded data removed]",
            "text/plain": [
              "<Figure size 432x288 with 2 Axes>"
            ]
          },
          "metadata": {
            "tags": []
          }
        }
      ]
    },
    {
      "cell_type": "markdown",
      "metadata": {
        "id": "S0vVZnGEwN9J"
      },
      "source": [
        "The correlation matrix above indicates that most of the attributes are highly correlated."
      ]
    },
    {
      "cell_type": "code",
      "metadata": {
        "colab": {
          "background_save": true,
          "base_uri": "https://localhost:8080/",
          "height": 298
        },
        "id": "ARAcPYHnHkY5",
        "outputId": "7e590a64-ab76-4b08-d1c7-0b65c373f6ae"
      },
      "source": [
        "boxplot1 = train.boxplot(column=['Open','High','Low','Close','Adj Close'])\n",
        "plt.title('Distribution of Stock Price Attributes')\n",
        "plt.ylabel('Price')"
      ],
      "execution_count": null,
      "outputs": [
        {
          "output_type": "execute_result",
          "data": {
            "text/plain": [
              "Text(0, 0.5, 'Price')"
            ]
          },
          "metadata": {
            "tags": []
          },
          "execution_count": 0
        },
        {
          "output_type": "display_data",
          "data": {
            "image/png": "[encoded data removed]",
            "text/plain": [
              "<Figure size 432x288 with 1 Axes>"
            ]
          },
          "metadata": {
            "tags": []
          }
        }
      ]
    },
    {
      "cell_type": "code",
      "metadata": {
        "colab": {
          "background_save": true,
          "base_uri": "https://localhost:8080/",
          "height": 298
        },
        "id": "de7dg76dJsRk",
        "outputId": "c3f009ed-d22f-4461-fe4e-0ab1ad52003c"
      },
      "source": [
        "boxplot2 = train.boxplot('Volume')\n",
        "plt.title('Distirbution of Stock Volume')\n",
        "plt.ylabel(\"Number of Shares (e7)\")"
      ],
      "execution_count": null,
      "outputs": [
        {
          "output_type": "execute_result",
          "data": {
            "text/plain": [
              "Text(0, 0.5, 'Number of Shares (e7)')"
            ]
          },
          "metadata": {
            "tags": []
          },
          "execution_count": 0
        },
        {
          "output_type": "display_data",
          "data": {
            "image/png": "[encoded data removed]",
            "text/plain": [
              "<Figure size 432x288 with 1 Axes>"
            ]
          },
          "metadata": {
            "tags": []
          }
        }
      ]
    },
    {
      "cell_type": "markdown",
      "metadata": {
        "id": "y3ksAJuQv2tZ"
      },
      "source": [
        "Next, a histogram for the Close price is visualized."
      ]
    },
    {
      "cell_type": "code",
      "metadata": {
        "colab": {
          "background_save": true,
          "base_uri": "https://localhost:8080/",
          "height": 295
        },
        "id": "rwd59C_LvvM7",
        "outputId": "5d5b3665-4c78-4901-f3a1-3cf43e200ee7"
      },
      "source": [
        "plt.hist(train['Close'])\n",
        "plt.title('Histogram of Close Price')\n",
        "plt.xlabel('Close Price')\n",
        "plt.ylabel('Frequency')\n",
        "plt.show()"
      ],
      "execution_count": null,
      "outputs": [
        {
          "output_type": "display_data",
          "data": {
            "image/png": "[encoded data removed]",
            "text/plain": [
              "<Figure size 432x288 with 1 Axes>"
            ]
          },
          "metadata": {
            "tags": []
          }
        }
      ]
    },
    {
      "cell_type": "markdown",
      "metadata": {
        "id": "TCc5s5Jyv8kr"
      },
      "source": [
        "The distribution of the Close price is skewed left."
      ]
    },
    {
      "cell_type": "markdown",
      "metadata": {
        "id": "XV2zP3yYrRYf"
      },
      "source": [
        "**Testing for Stationarity**"
      ]
    },
    {
      "cell_type": "code",
      "metadata": {
        "colab": {
          "background_save": true
        },
        "id": "xIzc_GrwhASe"
      },
      "source": [
        "import statsmodels\n",
        "from statsmodels.tsa.stattools import adfuller"
      ],
      "execution_count": null,
      "outputs": []
    },
    {
      "cell_type": "code",
      "metadata": {
        "colab": {
          "background_save": true
        },
        "id": "A9kf8RAbiui7"
      },
      "source": [
        "def test_stationarity(timeseries):\n",
        "\n",
        "  results = adfuller(timeseries, autolag='AIC')\n",
        "  print('Results of Augmented Dickey Fuller Test')\n",
        "  print('Test Statistic: ' + str(results[0]))\n",
        "  print('p-value: ' + str(results[1]))\n",
        "  print('No. of lags used: ' + str(results[2]))\n",
        "  print('Number of observations used: ' + str(results[3]))\n",
        "\n",
        "  for key, value in results[4].items():\n",
        "    print('Critial Values:')\n",
        "    print(f'   {key}, {value}')\n",
        "\n",
        "  if results[1] <= 0.05:\n",
        "    print (\"Reject null hypothesis. Data is stationary\")\n",
        "  else:\n",
        "    print (\"Fail to reject nyll hypothesis. Data is non-stationary\")"
      ],
      "execution_count": null,
      "outputs": []
    },
    {
      "cell_type": "markdown",
      "metadata": {
        "id": "-5UBSYvEEzqu"
      },
      "source": [
        "It is important to determine whether the data is stationary. We apply the test_stationarity function to the close price. "
      ]
    },
    {
      "cell_type": "code",
      "metadata": {
        "colab": {
          "background_save": true,
          "base_uri": "https://localhost:8080/"
        },
        "id": "s28LUkhJkMGQ",
        "outputId": "3dd30dbd-de02-4324-a521-b2f4b80e995f"
      },
      "source": [
        "test_stationarity(train['Close'])"
      ],
      "execution_count": null,
      "outputs": [
        {
          "output_type": "stream",
          "text": [
            "Results of Augmented Dickey Fuller Test\n",
            "Test Statistic: -2.4546370846141765\n",
            "p-value: 0.12690522366441254\n",
            "No. of lags used: 7\n",
            "Number of observations used: 1818\n",
            "Critial Values:\n",
            "   1%, -3.4339520666978056\n",
            "Critial Values:\n",
            "   5%, -2.8631311116872475\n",
            "Critial Values:\n",
            "   10%, -2.567617054512932\n",
            "Fail to reject nyll hypothesis. Data is non-stationary\n"
          ],
          "name": "stdout"
        }
      ]
    },
    {
      "cell_type": "markdown",
      "metadata": {
        "id": "_8BS7o_djYeX"
      },
      "source": [
        "The close price is not stationary. Need to apply differencing and transformations to make the close price stationary. \n",
        "\n",
        "The close price will undergo the following transformations separately:\n",
        "\n",
        "* Log transformation\n",
        "* Square root transformation\n",
        "* First degree differencing\n"
      ]
    },
    {
      "cell_type": "code",
      "metadata": {
        "colab": {
          "background_save": true
        },
        "id": "W-l2tuSCUppE"
      },
      "source": [
        "train['Close_log'] = np.log(train['Close'])\n",
        "train['Close_sqrt'] = np.sqrt(train['Close'])\n",
        "train['Close_diff'] = train['Close'].diff()"
      ],
      "execution_count": null,
      "outputs": []
    },
    {
      "cell_type": "markdown",
      "metadata": {
        "id": "T68EXDqLVFnA"
      },
      "source": [
        "The transformations will be plotted to visually identify if the time-series data is stationary. "
      ]
    },
    {
      "cell_type": "code",
      "metadata": {
        "colab": {
          "background_save": true,
          "base_uri": "https://localhost:8080/",
          "height": 350
        },
        "id": "RIviuy8UBAer",
        "outputId": "2e9b4c03-87a2-444c-8dd0-8d437fb1062f"
      },
      "source": [
        "figure, axis = plt.subplots(ncols=4, figsize = (20,5))\n",
        "axis[0].plot(train[\"Close\"])\n",
        "axis[0].set_title(\"Original Data\")\n",
        "axis[0].set_xlabel(\"Date\")\n",
        "axis[0].set_ylabel(\"Price\")\n",
        "\n",
        "axis[1].plot(train[\"Close_log\"])\n",
        "axis[1].set_title(\"Log Transformation\")\n",
        "axis[1].set_xlabel(\"Date\")\n",
        "axis[1].set_ylabel(\"Log Price\")\n",
        "\n",
        "axis[2].plot(train[\"Close_sqrt\"])\n",
        "axis[2].set_title(\"Square Root Transformation\")\n",
        "axis[2].set_xlabel(\"Date\")\n",
        "axis[2].set_ylabel(\"Square Root Price\")\n",
        "\n",
        "axis[3].plot(train[\"Close_diff\"])\n",
        "axis[3].set_title(\"First Degree Differencing\")\n",
        "axis[3].set_xlabel(\"Date\")\n",
        "axis[3].set_ylabel(\"Differenced Price\")\n",
        "\n",
        "plt.show()"
      ],
      "execution_count": null,
      "outputs": [
        {
          "output_type": "display_data",
          "data": {
            "image/png": "[encoded data removed]",
            "text/plain": [
              "<Figure size 1440x360 with 4 Axes>"
            ]
          },
          "metadata": {
            "tags": []
          }
        }
      ]
    },
    {
      "cell_type": "markdown",
      "metadata": {
        "id": "eghb68FaWFvU"
      },
      "source": [
        "Visually, the dataset looks stationary following first degree differencing. By applying the Augmented Dickey-Fuller test, we can determine if the dataset is stationary. A p-value of less than 0.05 indicates the dataset is stationary. "
      ]
    },
    {
      "cell_type": "code",
      "metadata": {
        "colab": {
          "background_save": true
        },
        "id": "3_EcNpKJm31G"
      },
      "source": [
        "train = train.dropna()"
      ],
      "execution_count": null,
      "outputs": []
    },
    {
      "cell_type": "code",
      "metadata": {
        "colab": {
          "background_save": true,
          "base_uri": "https://localhost:8080/"
        },
        "id": "dunjRrLMlgTL",
        "outputId": "427ef2ba-9199-4ae3-818c-23e6c9e51595"
      },
      "source": [
        "test_stationarity(train['Close_diff'])"
      ],
      "execution_count": null,
      "outputs": [
        {
          "output_type": "stream",
          "text": [
            "Results of Augmented Dickey Fuller Test\n",
            "Test Statistic: -15.845059333521252\n",
            "p-value: 9.593098574496171e-29\n",
            "No. of lags used: 6\n",
            "Number of observations used: 1818\n",
            "Critial Values:\n",
            "   1%, -3.4339520666978056\n",
            "Critial Values:\n",
            "   5%, -2.8631311116872475\n",
            "Critial Values:\n",
            "   10%, -2.567617054512932\n",
            "Reject null hypothesis. Data is stationary\n"
          ],
          "name": "stdout"
        }
      ]
    },
    {
      "cell_type": "markdown",
      "metadata": {
        "id": "neMlTae_kAOz"
      },
      "source": [
        "**Testing for autocorrelation**"
      ]
    },
    {
      "cell_type": "code",
      "metadata": {
        "colab": {
          "background_save": true
        },
        "id": "51f3NN4-aqLp"
      },
      "source": [
        "from statsmodels.graphics import tsaplots\n",
        "from statsmodels.tsa.stattools import acf\n",
        "from statsmodels.graphics.tsaplots import plot_acf"
      ],
      "execution_count": null,
      "outputs": []
    },
    {
      "cell_type": "markdown",
      "metadata": {
        "id": "PkPijY_Z-cFc"
      },
      "source": [
        "Autocorrelation will be tested on the close price and the differenced close price for comparison. "
      ]
    },
    {
      "cell_type": "code",
      "metadata": {
        "colab": {
          "background_save": true,
          "base_uri": "https://localhost:8080/",
          "height": 281
        },
        "id": "zRgGN74S-Y4J",
        "outputId": "543d2001-19f0-48fd-8abc-29bd1dbf45dd"
      },
      "source": [
        "plot_acf(train['Close'], lags=30, title='Autocorrelation Plot of Close Price');"
      ],
      "execution_count": null,
      "outputs": [
        {
          "output_type": "display_data",
          "data": {
            "image/png": "[encoded data removed]",
            "text/plain": [
              "<Figure size 432x288 with 1 Axes>"
            ]
          },
          "metadata": {
            "tags": []
          }
        }
      ]
    },
    {
      "cell_type": "code",
      "metadata": {
        "colab": {
          "background_save": true,
          "base_uri": "https://localhost:8080/",
          "height": 281
        },
        "id": "TxxODOv6fx63",
        "outputId": "695d8447-2d7f-4a38-fd46-1e2aac61834c"
      },
      "source": [
        "plot_acf(train['Close_diff'], lags=30, title='Autocorrelation Plot of Differenced Close Price');"
      ],
      "execution_count": null,
      "outputs": [
        {
          "output_type": "display_data",
          "data": {
            "image/png": "[encoded data removed]",
            "text/plain": [
              "<Figure size 432x288 with 1 Axes>"
            ]
          },
          "metadata": {
            "tags": []
          }
        }
      ]
    },
    {
      "cell_type": "markdown",
      "metadata": {
        "id": "k1h8k_3Fobx7"
      },
      "source": [
        "From the autocorrelation plot of the differenced close price, it is evident that the data is stationary. "
      ]
    },
    {
      "cell_type": "markdown",
      "metadata": {
        "id": "oU-2oxHfmv8C"
      },
      "source": [
        "**Testing for Seasonality**"
      ]
    },
    {
      "cell_type": "code",
      "metadata": {
        "colab": {
          "background_save": true
        },
        "id": "WIskSb5jmWWp"
      },
      "source": [
        "from statsmodels.tsa.seasonal import seasonal_decompose"
      ],
      "execution_count": null,
      "outputs": []
    },
    {
      "cell_type": "code",
      "metadata": {
        "colab": {
          "background_save": true,
          "base_uri": "https://localhost:8080/",
          "height": 299
        },
        "id": "fcAgJhvjnB81",
        "outputId": "77d41cb5-e8be-4003-8e1a-fe83fa803de8"
      },
      "source": [
        "output = seasonal_decompose(train['Close'][:180], model='additive')\n",
        "output.plot();"
      ],
      "execution_count": null,
      "outputs": [
        {
          "output_type": "display_data",
          "data": {
            "image/png": "[encoded data removed]",
            "text/plain": [
              "<Figure size 432x288 with 4 Axes>"
            ]
          },
          "metadata": {
            "tags": []
          }
        }
      ]
    },
    {
      "cell_type": "code",
      "metadata": {
        "colab": {
          "background_save": true,
          "base_uri": "https://localhost:8080/",
          "height": 300
        },
        "id": "hgNHtDoumzQn",
        "outputId": "8b37ce68-0dd2-4e89-fd6f-c0bb8b0f7a30"
      },
      "source": [
        "decomposed = seasonal_decompose(train['Close_diff'][:180], model='additive')\n",
        "decomposed.plot();"
      ],
      "execution_count": null,
      "outputs": [
        {
          "output_type": "display_data",
          "data": {
            "image/png": "[encoded data removed]",
            "text/plain": [
              "<Figure size 432x288 with 4 Axes>"
            ]
          },
          "metadata": {
            "tags": []
          }
        }
      ]
    },
    {
      "cell_type": "markdown",
      "metadata": {
        "id": "DwpLMd713xSl"
      },
      "source": [
        "Prior to modeling, there are a few columns that will be dropped that will not be used to train the model."
      ]
    },
    {
      "cell_type": "code",
      "metadata": {
        "colab": {
          "background_save": true,
          "base_uri": "https://localhost:8080/"
        },
        "id": "utQCxZjT8WqI",
        "outputId": "d2f7f65b-c9b7-4b04-d780-350b361437b8"
      },
      "source": [
        "train_diff = train.drop(['Close_log','Close_sqrt','Close'],1)\n",
        "train_diff.shape"
      ],
      "execution_count": null,
      "outputs": [
        {
          "output_type": "execute_result",
          "data": {
            "text/plain": [
              "(1825, 6)"
            ]
          },
          "metadata": {
            "tags": []
          },
          "execution_count": 0
        }
      ]
    },
    {
      "cell_type": "code",
      "metadata": {
        "colab": {
          "background_save": true
        },
        "id": "v4Vh8r_J3xoj"
      },
      "source": [
        "X_train = train_diff.drop('Close_diff', 1)\n",
        "X_test = test.drop('Close',1)\n",
        "\n",
        "y_train = train_diff['Close_diff'].values\n",
        "y_test = test['Close'].values"
      ],
      "execution_count": null,
      "outputs": []
    },
    {
      "cell_type": "markdown",
      "metadata": {
        "id": "9_-CsPIyvsJi"
      },
      "source": [
        "**Linear Regression Model**"
      ]
    },
    {
      "cell_type": "code",
      "metadata": {
        "colab": {
          "background_save": true
        },
        "id": "MOA-8QZ-vuPF"
      },
      "source": [
        "from sklearn.linear_model import LinearRegression\n",
        "from sklearn import metrics\n",
        "from sklearn.metrics import mean_squared_error, mean_absolute_error, mean_absolute_error, r2_score"
      ],
      "execution_count": null,
      "outputs": []
    },
    {
      "cell_type": "code",
      "metadata": {
        "colab": {
          "background_save": true
        },
        "id": "hJwufgAWRjdY"
      },
      "source": [
        "model = LinearRegression().fit(X_train,y_train)"
      ],
      "execution_count": null,
      "outputs": []
    },
    {
      "cell_type": "code",
      "metadata": {
        "colab": {
          "background_save": true
        },
        "id": "yazSi_uGPQ8L"
      },
      "source": [
        "y_prediction = model.predict(X_test)"
      ],
      "execution_count": null,
      "outputs": []
    },
    {
      "cell_type": "code",
      "metadata": {
        "colab": {
          "background_save": true,
          "base_uri": "https://localhost:8080/"
        },
        "id": "h217DgsqWAQ9",
        "outputId": "d7e4f4a4-d121-4c15-d7bd-3e6be42a733a"
      },
      "source": [
        "predictions_diff = pd.Series(y_prediction, copy=True)\n",
        "\n",
        "print('Total no of predictions: ', len(predictions_diff))\n",
        "predictions_diff.head()"
      ],
      "execution_count": null,
      "outputs": [
        {
          "output_type": "stream",
          "text": [
            "Total no of predictions:  730\n"
          ],
          "name": "stdout"
        },
        {
          "output_type": "execute_result",
          "data": {
            "text/plain": [
              "0    0.006298\n",
              "1   -0.027571\n",
              "2    0.073773\n",
              "3   -0.052115\n",
              "4    0.095105\n",
              "dtype: float64"
            ]
          },
          "metadata": {
            "tags": []
          },
          "execution_count": 0
        }
      ]
    },
    {
      "cell_type": "markdown",
      "metadata": {
        "id": "WgnNOkrYYw6W"
      },
      "source": [
        "The cumulative sum (cumsum) function will be applied to the prediction to inverse the differencing applied to the train set. "
      ]
    },
    {
      "cell_type": "code",
      "metadata": {
        "colab": {
          "background_save": true,
          "base_uri": "https://localhost:8080/"
        },
        "id": "dJ_gaR2tWLtd",
        "outputId": "ba855547-3616-42b3-a6f9-bce46b18ff33"
      },
      "source": [
        "predictions_diff_cumsum = predictions_diff.cumsum()\n",
        "predictions_diff_cumsum.head()"
      ],
      "execution_count": null,
      "outputs": [
        {
          "output_type": "execute_result",
          "data": {
            "text/plain": [
              "0    0.006298\n",
              "1   -0.021273\n",
              "2    0.052500\n",
              "3    0.000385\n",
              "4    0.095490\n",
              "dtype: float64"
            ]
          },
          "metadata": {
            "tags": []
          },
          "execution_count": 0
        }
      ]
    },
    {
      "cell_type": "markdown",
      "metadata": {
        "id": "0u2NL70OZc9D"
      },
      "source": [
        "The values from predictions_diff_cumsum will be added to the last value in train['Close'] "
      ]
    },
    {
      "cell_type": "code",
      "metadata": {
        "colab": {
          "background_save": true
        },
        "id": "zljqS6lMwCqt"
      },
      "source": [
        "last_price = train['Close'].iloc[-1] \n",
        "price_diff_rev = []\n",
        "\n",
        "for i in predictions_diff_cumsum:\n",
        "    close_pred = last_price + i\n",
        "    price_diff_rev.append(close_pred)"
      ],
      "execution_count": null,
      "outputs": []
    },
    {
      "cell_type": "code",
      "metadata": {
        "colab": {
          "background_save": true
        },
        "id": "emobJyOxflEt"
      },
      "source": [
        "y_pred = np.array(price_diff_rev) "
      ],
      "execution_count": null,
      "outputs": []
    },
    {
      "cell_type": "markdown",
      "metadata": {
        "id": "6Q_cFo5BZyHl"
      },
      "source": [
        "The model will be evaluated with the R2, MAE, MSE and RMSE values. "
      ]
    },
    {
      "cell_type": "code",
      "metadata": {
        "colab": {
          "background_save": true,
          "base_uri": "https://localhost:8080/"
        },
        "id": "CYCHy7UHPzEa",
        "outputId": "075ca880-ed7f-4bcf-a8b2-cbb32469443e"
      },
      "source": [
        "print (\"R2 of Linear Regresson:\", r2_score(y_test,y_pred) )\n",
        "print('MAE: ',metrics.mean_absolute_error(y_test, y_pred))\n",
        "print('MSE: ',metrics.mean_squared_error(y_test, y_pred))\n",
        "print('RMSE:',np.sqrt(metrics.mean_squared_error(y_test, y_pred)))"
      ],
      "execution_count": null,
      "outputs": [
        {
          "output_type": "stream",
          "text": [
            "R2 of Linear Regresson: 0.1366182995679459\n",
            "MAE:  2.9853654767765403\n",
            "MSE:  14.504837611080148\n",
            "RMSE: 3.8085217094143164\n"
          ],
          "name": "stdout"
        }
      ]
    },
    {
      "cell_type": "markdown",
      "metadata": {
        "id": "8xGsfOcPZ8GS"
      },
      "source": [
        "The actual and predicted close price are plotted for comparison. "
      ]
    },
    {
      "cell_type": "code",
      "metadata": {
        "colab": {
          "background_save": true,
          "base_uri": "https://localhost:8080/",
          "height": 339
        },
        "id": "rqySL6z-t8JN",
        "outputId": "650b183f-252d-4be4-ebc0-f2ec32a4eb72"
      },
      "source": [
        "forecast = pd.Series(y_pred, copy=True, index=test.index)\n",
        "plt.plot(test['Close'], label='Actual')\n",
        "plt.plot(forecast, label='Predicted')\n",
        "plt.legend(ncol=2)\n",
        "plt.xticks(rotation=45)\n",
        "plt.title('Actual versus Predicted Close Price')\n",
        "plt.xlabel('Date')\n",
        "plt.ylabel('Close Price')"
      ],
      "execution_count": null,
      "outputs": [
        {
          "output_type": "execute_result",
          "data": {
            "text/plain": [
              "Text(0, 0.5, 'Close Price')"
            ]
          },
          "metadata": {
            "tags": []
          },
          "execution_count": 0
        },
        {
          "output_type": "display_data",
          "data": {
            "image/png": "[encoded data removed]",
            "text/plain": [
              "<Figure size 432x288 with 1 Axes>"
            ]
          },
          "metadata": {
            "tags": []
          }
        }
      ]
    },
    {
      "cell_type": "markdown",
      "metadata": {
        "id": "Sxqv5p6fe-P2"
      },
      "source": [
        "To determine if the best model was produced, feature selection will be completed to determine the attributes that best predict the Close price. Feature selection will be completed using backward elimination."
      ]
    },
    {
      "cell_type": "code",
      "metadata": {
        "colab": {
          "background_save": true,
          "base_uri": "https://localhost:8080/"
        },
        "id": "ps40eCsnRD2y",
        "outputId": "d10e1c02-d6f8-492d-a3bc-1dc1a0a59306"
      },
      "source": [
        "X_train2 = train_diff.drop(['Volume','Close_diff'], 1)\n",
        "X_test2 = test.drop(['Volume','Close'],1)\n",
        "\n",
        "model = LinearRegression().fit(X_train2,y_train)\n",
        "y_prediction2 = model.predict(X_test2)\n",
        "predictions_diff2 = pd.Series(y_prediction2, copy=True)\n",
        "predictions_diff_cumsum2 = predictions_diff2.cumsum()\n",
        "last_price = train['Close'].iloc[-1] \n",
        "price_rev = []\n",
        "\n",
        "for i in predictions_diff_cumsum2:\n",
        "    close_pred = last_price + i\n",
        "    price_rev.append(close_pred)\n",
        "\n",
        "y_pred2 = np.array(price_rev) \n",
        "\n",
        "print (\"R2 of Linear Regresson:\", r2_score(y_test,y_pred2) )\n",
        "print('MAE: ',metrics.mean_absolute_error(y_test, y_pred2))\n",
        "print('MSE: ',metrics.mean_squared_error(y_test, y_pred2))\n",
        "print('RMSE:',np.sqrt(metrics.mean_squared_error(y_test, y_pred2)))"
      ],
      "execution_count": null,
      "outputs": [
        {
          "output_type": "stream",
          "text": [
            "R2 of Linear Regresson: 0.2798999489606454\n",
            "MAE:  2.595303447286277\n",
            "MSE:  12.097701745160343\n",
            "RMSE: 3.478175059590926\n"
          ],
          "name": "stdout"
        }
      ]
    },
    {
      "cell_type": "code",
      "metadata": {
        "colab": {
          "base_uri": "https://localhost:8080/"
        },
        "id": "OS8SWgAFT7jv",
        "outputId": "a58630a2-0158-408a-9999-255197e687ed"
      },
      "source": [
        "X_train3 = train_diff.drop(['Low','Volume','Close_diff'], 1)\n",
        "X_test3 = test.drop(['Low','Volume','Close'],1)\n",
        "\n",
        "model = LinearRegression().fit(X_train3,y_train)\n",
        "y_prediction3 = model.predict(X_test3)\n",
        "predictions_diff3 = pd.Series(y_prediction3, copy=True)\n",
        "predictions_diff_cumsum3 = predictions_diff3.cumsum()\n",
        "last_price = train['Close'].iloc[-1] \n",
        "price_diff_rev = []\n",
        "\n",
        "for i in predictions_diff_cumsum3:\n",
        "    close_pred = last_price + i\n",
        "    price_diff_rev.append(close_pred)\n",
        "\n",
        "y_pred3 = np.array(price_diff_rev) \n",
        "\n",
        "print (\"R2 of Linear Regresson:\", r2_score(y_test,y_pred3))\n",
        "print('MAE: ',metrics.mean_absolute_error(y_test, y_pred3))\n",
        "print('MSE: ',metrics.mean_squared_error(y_test, y_pred3))\n",
        "print('RMSE:',np.sqrt(metrics.mean_squared_error(y_test, y_pred3)))"
      ],
      "execution_count": 51,
      "outputs": [
        {
          "output_type": "stream",
          "text": [
            "R2 of Linear Regresson: 0.23713010253532574\n",
            "MAE:  2.626903319879636\n",
            "MSE:  12.816236405716216\n",
            "RMSE: 3.5799771515634307\n"
          ],
          "name": "stdout"
        }
      ]
    },
    {
      "cell_type": "code",
      "metadata": {
        "colab": {
          "background_save": true,
          "base_uri": "https://localhost:8080/"
        },
        "id": "4vBkhFV1rne8",
        "outputId": "dc8864a9-c6f4-480d-f6e2-b3c04cb21c38"
      },
      "source": [
        "X_train4 = train_diff.drop(['High','Low','Adj Close','Volume','Close_diff'], 1)\n",
        "X_test4 = test.drop(['High','Low','Adj Close','Volume','Close'],1)\n",
        "\n",
        "model = LinearRegression().fit(X_train4,y_train)\n",
        "y_prediction4 = model.predict(X_test4)\n",
        "predictions_diff4 = pd.Series(y_prediction4, copy=True)\n",
        "predictions_diff_cumsum4 = predictions_diff4.cumsum()\n",
        "last_price = train['Close'].iloc[-1] \n",
        "price_diff_rev = []\n",
        "\n",
        "for i in predictions_diff_cumsum4:\n",
        "    close_pred = last_price + i\n",
        "    price_diff_rev.append(close_pred)\n",
        "\n",
        "y_pred4 = np.array(price_diff_rev) \n",
        "\n",
        "print (\"R2 of Linear Regresson:\", r2_score(y_test,y_pred4))\n",
        "print('MAE: ',metrics.mean_absolute_error(y_test, y_pred4))\n",
        "print('MSE: ',metrics.mean_squared_error(y_test, y_pred4))\n",
        "print('RMSE:',np.sqrt(metrics.mean_squared_error(y_test, y_pred4)))"
      ],
      "execution_count": null,
      "outputs": [
        {
          "output_type": "stream",
          "text": [
            "R2 of Linear Regresson: 0.775335140697748\n",
            "MAE:  1.4646497267504153\n",
            "MSE:  3.7743761530555955\n",
            "RMSE: 1.9427753738030538\n"
          ],
          "name": "stdout"
        }
      ]
    },
    {
      "cell_type": "markdown",
      "metadata": {
        "id": "9s16YLFIsnXv"
      },
      "source": [
        "From the four linear regression models, the best performing model only includes the open price in X_train and X_test."
      ]
    },
    {
      "cell_type": "markdown",
      "metadata": {
        "id": "OgY-rUuLaZvy"
      },
      "source": [
        "**KNN Regression**"
      ]
    },
    {
      "cell_type": "code",
      "metadata": {
        "colab": {
          "background_save": true
        },
        "id": "Jh_DuKJ0fEzm"
      },
      "source": [
        "from sklearn.neighbors import KNeighborsRegressor"
      ],
      "execution_count": null,
      "outputs": []
    },
    {
      "cell_type": "code",
      "metadata": {
        "colab": {
          "background_save": true,
          "base_uri": "https://localhost:8080/"
        },
        "id": "hLlyUlfwFjB5",
        "outputId": "a17bb64b-5679-492b-d715-6027d1babd12"
      },
      "source": [
        "mse_dict = {}\n",
        "rmse = []\n",
        "\n",
        "for k in range(1,50,2):\n",
        "  Knn=KNeighborsRegressor(n_neighbors=k, metric='euclidean')\n",
        "  Knn.fit(X_train,y_train)\n",
        "  knn_y_prediction = Knn.predict(X_test)\n",
        "\n",
        "  knn_predictions_diff = pd.Series(knn_y_prediction, copy=True)\n",
        "  knn_predictions_diff_cumsum = knn_predictions_diff.cumsum()\n",
        "\n",
        "  last_price = train['Close'].iloc[-1] \n",
        "  knn_price_diff_rev = []\n",
        "\n",
        "  for i in knn_predictions_diff_cumsum:\n",
        "    pred = last_price + i\n",
        "    knn_price_diff_rev.append(pred)\n",
        "\n",
        "  knn_y_pred = np.array(knn_price_diff_rev) \n",
        "\n",
        "  MSE = mean_squared_error(y_test, knn_y_pred)\n",
        "  mse_dict[k] = MSE\n",
        "  best_k = min(mse_dict, key=mse_dict.get)\n",
        "\n",
        "  RMSE = np.sqrt(mean_squared_error(y_test, knn_y_pred))\n",
        "  rmse.append(RMSE)\n",
        "\n",
        "print('The k-value with the lowest MSE value is', best_k)\n",
        "print('The lowest RMSE value is', min(rmse))"
      ],
      "execution_count": null,
      "outputs": [
        {
          "output_type": "stream",
          "text": [
            "The k-value with the lowest MSE value is 47\n",
            "The lowest RMSE value is 4.253551905134447\n"
          ],
          "name": "stdout"
        }
      ]
    },
    {
      "cell_type": "markdown",
      "metadata": {
        "id": "srfb0CyjRTTx"
      },
      "source": [
        "For k=13, let's obtain the predicted values. "
      ]
    },
    {
      "cell_type": "code",
      "metadata": {
        "colab": {
          "background_save": true
        },
        "id": "8_imPZ66RYu8"
      },
      "source": [
        "Knn=KNeighborsRegressor(n_neighbors=13, metric='euclidean')\n",
        "Knn.fit(X_train,y_train)\n",
        "knn_y_prediction = Knn.predict(X_test)\n",
        "\n",
        "knn_predictions_diff = pd.Series(knn_y_prediction, copy=True)\n",
        "knn_predictions_diff_cumsum = knn_predictions_diff.cumsum()\n",
        "\n",
        "last_price = train['Close'].iloc[-1] \n",
        "knn_price_diff_rev = []\n",
        "\n",
        "for i in knn_predictions_diff_cumsum:\n",
        "  pred = last_price + i\n",
        "  knn_price_diff_rev.append(pred)\n",
        "\n",
        "knn13_y_pred = np.array(knn_price_diff_rev) "
      ],
      "execution_count": null,
      "outputs": []
    },
    {
      "cell_type": "code",
      "metadata": {
        "colab": {
          "background_save": true,
          "base_uri": "https://localhost:8080/",
          "height": 339
        },
        "id": "pUr9pJRJRkwj",
        "outputId": "66fc61a0-a32d-4ca1-9516-18ccc6636803"
      },
      "source": [
        "knn_forecasted = pd.Series(knn13_y_pred, copy=True, index=test.index)\n",
        "plt.plot(test['Close'], label='Actual')\n",
        "plt.plot(knn_forecasted, label='Predicted')\n",
        "plt.legend(ncol=2)\n",
        "plt.xticks(rotation=45)\n",
        "plt.title('KNN Regression')\n",
        "plt.xlabel('Date')\n",
        "plt.ylabel('Close Price')"
      ],
      "execution_count": null,
      "outputs": [
        {
          "output_type": "execute_result",
          "data": {
            "text/plain": [
              "Text(0, 0.5, 'Close Price')"
            ]
          },
          "metadata": {
            "tags": []
          },
          "execution_count": 0
        },
        {
          "output_type": "display_data",
          "data": {
            "image/png": "[encoded data removed]",
            "text/plain": [
              "<Figure size 432x288 with 1 Axes>"
            ]
          },
          "metadata": {
            "tags": []
          }
        }
      ]
    },
    {
      "cell_type": "markdown",
      "metadata": {
        "id": "GNaMdHyD8N_z"
      },
      "source": [
        "**LSTM Model**"
      ]
    },
    {
      "cell_type": "code",
      "metadata": {
        "colab": {
          "background_save": true
        },
        "id": "2Tfc-c8e8Qk6"
      },
      "source": [
        "from keras.models import Sequential\n",
        "from keras.layers import Dense\n",
        "from keras.layers import Dropout\n",
        "from keras.layers import LSTM"
      ],
      "execution_count": null,
      "outputs": []
    },
    {
      "cell_type": "code",
      "metadata": {
        "colab": {
          "background_save": true
        },
        "id": "VB_KmqDIVAnk"
      },
      "source": [
        ""
      ],
      "execution_count": null,
      "outputs": []
    }
  ]
}