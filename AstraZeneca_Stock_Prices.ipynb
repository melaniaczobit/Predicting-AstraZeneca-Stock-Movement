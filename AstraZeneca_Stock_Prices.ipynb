{
  "nbformat": 4,
  "nbformat_minor": 0,
  "metadata": {
    "colab": {
      "name": "AstraZeneca Stock Prices.ipynb",
      "provenance": [],
      "collapsed_sections": [],
      "authorship_tag": "ABX9TyNcrz7v/pOAX139nLgVQVnh"
    },
    "kernelspec": {
      "display_name": "Python 3",
      "name": "python3"
    },
    "language_info": {
      "name": "python"
    }
  },
  "cells": [
    {
      "cell_type": "markdown",
      "metadata": {
        "id": "AobJPrFpuCx-"
      },
      "source": [
        "## Predicting AstraZeneca Stock Prices\n",
        "### Melania Czobit\n"
      ]
    },
    {
      "cell_type": "code",
      "metadata": {
        "id": "s4ot9ScE3dFc"
      },
      "source": [
        "import warnings\n",
        "warnings.filterwarnings('ignore')"
      ],
      "execution_count": 3,
      "outputs": []
    },
    {
      "cell_type": "code",
      "metadata": {
        "colab": {
          "base_uri": "https://localhost:8080/"
        },
        "id": "HG4JPpqEt5Sa",
        "outputId": "2dd1bd14-5d88-415f-d749-b3b797fb4175"
      },
      "source": [
        "!pip install yfinance\n",
        "\n",
        "import pandas as pd\n",
        "import numpy as np\n",
        "import matplotlib.pyplot as plt\n",
        "import yfinance as yf\n",
        "import seaborn as sns"
      ],
      "execution_count": 4,
      "outputs": [
        {
          "output_type": "stream",
          "text": [
            "Collecting yfinance\n",
            "  Downloading https://files.pythonhosted.org/packages/5e/4e/88d31f5509edcbc51bcbb7eeae72516b17ada1bc2ad5b496e2d05d62c696/yfinance-0.1.60.tar.gz\n",
            "Requirement already satisfied: pandas>=0.24 in /usr/local/lib/python3.7/dist-packages (from yfinance) (1.1.5)\n",
            "Requirement already satisfied: numpy>=1.15 in /usr/local/lib/python3.7/dist-packages (from yfinance) (1.19.5)\n",
            "Requirement already satisfied: requests>=2.20 in /usr/local/lib/python3.7/dist-packages (from yfinance) (2.23.0)\n",
            "Requirement already satisfied: multitasking>=0.0.7 in /usr/local/lib/python3.7/dist-packages (from yfinance) (0.0.9)\n",
            "Collecting lxml>=4.5.1\n",
            "\u001b[?25l  Downloading https://files.pythonhosted.org/packages/30/c0/d0526314971fc661b083ab135747dc68446a3022686da8c16d25fcf6ef07/lxml-4.6.3-cp37-cp37m-manylinux2014_x86_64.whl (6.3MB)\n",
            "\u001b[K     |████████████████████████████████| 6.3MB 12.8MB/s \n",
            "\u001b[?25hRequirement already satisfied: python-dateutil>=2.7.3 in /usr/local/lib/python3.7/dist-packages (from pandas>=0.24->yfinance) (2.8.1)\n",
            "Requirement already satisfied: pytz>=2017.2 in /usr/local/lib/python3.7/dist-packages (from pandas>=0.24->yfinance) (2018.9)\n",
            "Requirement already satisfied: certifi>=2017.4.17 in /usr/local/lib/python3.7/dist-packages (from requests>=2.20->yfinance) (2021.5.30)\n",
            "Requirement already satisfied: chardet<4,>=3.0.2 in /usr/local/lib/python3.7/dist-packages (from requests>=2.20->yfinance) (3.0.4)\n",
            "Requirement already satisfied: urllib3!=1.25.0,!=1.25.1,<1.26,>=1.21.1 in /usr/local/lib/python3.7/dist-packages (from requests>=2.20->yfinance) (1.24.3)\n",
            "Requirement already satisfied: idna<3,>=2.5 in /usr/local/lib/python3.7/dist-packages (from requests>=2.20->yfinance) (2.10)\n",
            "Requirement already satisfied: six>=1.5 in /usr/local/lib/python3.7/dist-packages (from python-dateutil>=2.7.3->pandas>=0.24->yfinance) (1.15.0)\n",
            "Building wheels for collected packages: yfinance\n",
            "  Building wheel for yfinance (setup.py) ... \u001b[?25l\u001b[?25hdone\n",
            "  Created wheel for yfinance: filename=yfinance-0.1.60-py2.py3-none-any.whl size=23819 sha256=46fd9eae0dac7cbf2e825b300327db538bd8572e8d1a7a40c4765c1485b43d5f\n",
            "  Stored in directory: /root/.cache/pip/wheels/f0/be/a4/846f02c5985562250917b0ab7b33fff737c8e6e8cd5209aa3b\n",
            "Successfully built yfinance\n",
            "Installing collected packages: lxml, yfinance\n",
            "  Found existing installation: lxml 4.2.6\n",
            "    Uninstalling lxml-4.2.6:\n",
            "      Successfully uninstalled lxml-4.2.6\n",
            "Successfully installed lxml-4.6.3 yfinance-0.1.60\n"
          ],
          "name": "stdout"
        }
      ]
    },
    {
      "cell_type": "markdown",
      "metadata": {
        "id": "nDrk8RhZudGw"
      },
      "source": [
        "**Importing stock data**"
      ]
    },
    {
      "cell_type": "code",
      "metadata": {
        "colab": {
          "base_uri": "https://localhost:8080/"
        },
        "id": "QQJOdJZhuQ6l",
        "outputId": "eb5be92d-06fd-4e69-8e5b-cf716161d0b2"
      },
      "source": [
        "# get AZN data from Yahoo finance \n",
        "df = yf.download('AZN','2012-12-31','2020-01-01')"
      ],
      "execution_count": 5,
      "outputs": [
        {
          "output_type": "stream",
          "text": [
            "\r[*********************100%***********************]  1 of 1 completed\n"
          ],
          "name": "stdout"
        }
      ]
    },
    {
      "cell_type": "markdown",
      "metadata": {
        "id": "FL6CpYHryvBU"
      },
      "source": [
        "**Data Preparation**"
      ]
    },
    {
      "cell_type": "code",
      "metadata": {
        "colab": {
          "base_uri": "https://localhost:8080/",
          "height": 235
        },
        "id": "7xH4VYRhvsr6",
        "outputId": "cc33a54a-c166-44f4-c5f2-12a385fd70e9"
      },
      "source": [
        "df.head()"
      ],
      "execution_count": 6,
      "outputs": [
        {
          "output_type": "execute_result",
          "data": {
            "text/html": [
              "<div>\n",
              "<style scoped>\n",
              "    .dataframe tbody tr th:only-of-type {\n",
              "        vertical-align: middle;\n",
              "    }\n",
              "\n",
              "    .dataframe tbody tr th {\n",
              "        vertical-align: top;\n",
              "    }\n",
              "\n",
              "    .dataframe thead th {\n",
              "        text-align: right;\n",
              "    }\n",
              "</style>\n",
              "<table border=\"1\" class=\"dataframe\">\n",
              "  <thead>\n",
              "    <tr style=\"text-align: right;\">\n",
              "      <th></th>\n",
              "      <th>Open</th>\n",
              "      <th>High</th>\n",
              "      <th>Low</th>\n",
              "      <th>Close</th>\n",
              "      <th>Adj Close</th>\n",
              "      <th>Volume</th>\n",
              "    </tr>\n",
              "    <tr>\n",
              "      <th>Date</th>\n",
              "      <th></th>\n",
              "      <th></th>\n",
              "      <th></th>\n",
              "      <th></th>\n",
              "      <th></th>\n",
              "      <th></th>\n",
              "    </tr>\n",
              "  </thead>\n",
              "  <tbody>\n",
              "    <tr>\n",
              "      <th>2012-12-31</th>\n",
              "      <td>23.375000</td>\n",
              "      <td>23.660000</td>\n",
              "      <td>23.360001</td>\n",
              "      <td>23.635000</td>\n",
              "      <td>16.594944</td>\n",
              "      <td>1916600</td>\n",
              "    </tr>\n",
              "    <tr>\n",
              "      <th>2013-01-02</th>\n",
              "      <td>24.080000</td>\n",
              "      <td>24.120001</td>\n",
              "      <td>23.980000</td>\n",
              "      <td>24.120001</td>\n",
              "      <td>16.935476</td>\n",
              "      <td>2812000</td>\n",
              "    </tr>\n",
              "    <tr>\n",
              "      <th>2013-01-03</th>\n",
              "      <td>24.020000</td>\n",
              "      <td>24.115000</td>\n",
              "      <td>23.980000</td>\n",
              "      <td>24.075001</td>\n",
              "      <td>16.903885</td>\n",
              "      <td>1941200</td>\n",
              "    </tr>\n",
              "    <tr>\n",
              "      <th>2013-01-04</th>\n",
              "      <td>23.959999</td>\n",
              "      <td>24.120001</td>\n",
              "      <td>23.959999</td>\n",
              "      <td>24.075001</td>\n",
              "      <td>16.903885</td>\n",
              "      <td>1854800</td>\n",
              "    </tr>\n",
              "    <tr>\n",
              "      <th>2013-01-07</th>\n",
              "      <td>23.995001</td>\n",
              "      <td>24.100000</td>\n",
              "      <td>23.975000</td>\n",
              "      <td>24.055000</td>\n",
              "      <td>16.889841</td>\n",
              "      <td>1932200</td>\n",
              "    </tr>\n",
              "  </tbody>\n",
              "</table>\n",
              "</div>"
            ],
            "text/plain": [
              "                 Open       High        Low      Close  Adj Close   Volume\n",
              "Date                                                                      \n",
              "2012-12-31  23.375000  23.660000  23.360001  23.635000  16.594944  1916600\n",
              "2013-01-02  24.080000  24.120001  23.980000  24.120001  16.935476  2812000\n",
              "2013-01-03  24.020000  24.115000  23.980000  24.075001  16.903885  1941200\n",
              "2013-01-04  23.959999  24.120001  23.959999  24.075001  16.903885  1854800\n",
              "2013-01-07  23.995001  24.100000  23.975000  24.055000  16.889841  1932200"
            ]
          },
          "metadata": {
            "tags": []
          },
          "execution_count": 6
        }
      ]
    },
    {
      "cell_type": "code",
      "metadata": {
        "colab": {
          "base_uri": "https://localhost:8080/"
        },
        "id": "LfFkA-lPcTlh",
        "outputId": "ebd2dfd9-0b23-4228-8a96-a9d2fe01d055"
      },
      "source": [
        "df.info()"
      ],
      "execution_count": null,
      "outputs": [
        {
          "output_type": "stream",
          "text": [
            "<class 'pandas.core.frame.DataFrame'>\n",
            "DatetimeIndex: 1763 entries, 2012-12-31 to 2019-12-31\n",
            "Data columns (total 6 columns):\n",
            " #   Column     Non-Null Count  Dtype  \n",
            "---  ------     --------------  -----  \n",
            " 0   Open       1763 non-null   float64\n",
            " 1   High       1763 non-null   float64\n",
            " 2   Low        1763 non-null   float64\n",
            " 3   Close      1763 non-null   float64\n",
            " 4   Adj Close  1763 non-null   float64\n",
            " 5   Volume     1763 non-null   int64  \n",
            "dtypes: float64(5), int64(1)\n",
            "memory usage: 96.4 KB\n"
          ],
          "name": "stdout"
        }
      ]
    },
    {
      "cell_type": "code",
      "metadata": {
        "colab": {
          "base_uri": "https://localhost:8080/",
          "height": 449
        },
        "id": "2bWqV3OhZIcF",
        "outputId": "dec50975-4ab0-474f-857d-cd4f079d99e8"
      },
      "source": [
        "# dataset is missing weekends and holidays. Backfill missing days\n",
        "df = df.resample('D').bfill()\n",
        "df"
      ],
      "execution_count": 7,
      "outputs": [
        {
          "output_type": "execute_result",
          "data": {
            "text/html": [
              "<div>\n",
              "<style scoped>\n",
              "    .dataframe tbody tr th:only-of-type {\n",
              "        vertical-align: middle;\n",
              "    }\n",
              "\n",
              "    .dataframe tbody tr th {\n",
              "        vertical-align: top;\n",
              "    }\n",
              "\n",
              "    .dataframe thead th {\n",
              "        text-align: right;\n",
              "    }\n",
              "</style>\n",
              "<table border=\"1\" class=\"dataframe\">\n",
              "  <thead>\n",
              "    <tr style=\"text-align: right;\">\n",
              "      <th></th>\n",
              "      <th>Open</th>\n",
              "      <th>High</th>\n",
              "      <th>Low</th>\n",
              "      <th>Close</th>\n",
              "      <th>Adj Close</th>\n",
              "      <th>Volume</th>\n",
              "    </tr>\n",
              "    <tr>\n",
              "      <th>Date</th>\n",
              "      <th></th>\n",
              "      <th></th>\n",
              "      <th></th>\n",
              "      <th></th>\n",
              "      <th></th>\n",
              "      <th></th>\n",
              "    </tr>\n",
              "  </thead>\n",
              "  <tbody>\n",
              "    <tr>\n",
              "      <th>2012-12-31</th>\n",
              "      <td>23.375000</td>\n",
              "      <td>23.660000</td>\n",
              "      <td>23.360001</td>\n",
              "      <td>23.635000</td>\n",
              "      <td>16.594944</td>\n",
              "      <td>1916600</td>\n",
              "    </tr>\n",
              "    <tr>\n",
              "      <th>2013-01-01</th>\n",
              "      <td>24.080000</td>\n",
              "      <td>24.120001</td>\n",
              "      <td>23.980000</td>\n",
              "      <td>24.120001</td>\n",
              "      <td>16.935476</td>\n",
              "      <td>2812000</td>\n",
              "    </tr>\n",
              "    <tr>\n",
              "      <th>2013-01-02</th>\n",
              "      <td>24.080000</td>\n",
              "      <td>24.120001</td>\n",
              "      <td>23.980000</td>\n",
              "      <td>24.120001</td>\n",
              "      <td>16.935476</td>\n",
              "      <td>2812000</td>\n",
              "    </tr>\n",
              "    <tr>\n",
              "      <th>2013-01-03</th>\n",
              "      <td>24.020000</td>\n",
              "      <td>24.115000</td>\n",
              "      <td>23.980000</td>\n",
              "      <td>24.075001</td>\n",
              "      <td>16.903885</td>\n",
              "      <td>1941200</td>\n",
              "    </tr>\n",
              "    <tr>\n",
              "      <th>2013-01-04</th>\n",
              "      <td>23.959999</td>\n",
              "      <td>24.120001</td>\n",
              "      <td>23.959999</td>\n",
              "      <td>24.075001</td>\n",
              "      <td>16.903885</td>\n",
              "      <td>1854800</td>\n",
              "    </tr>\n",
              "    <tr>\n",
              "      <th>...</th>\n",
              "      <td>...</td>\n",
              "      <td>...</td>\n",
              "      <td>...</td>\n",
              "      <td>...</td>\n",
              "      <td>...</td>\n",
              "      <td>...</td>\n",
              "    </tr>\n",
              "    <tr>\n",
              "      <th>2019-12-27</th>\n",
              "      <td>50.570000</td>\n",
              "      <td>50.660000</td>\n",
              "      <td>50.299999</td>\n",
              "      <td>50.439999</td>\n",
              "      <td>48.110725</td>\n",
              "      <td>1636200</td>\n",
              "    </tr>\n",
              "    <tr>\n",
              "      <th>2019-12-28</th>\n",
              "      <td>50.830002</td>\n",
              "      <td>50.840000</td>\n",
              "      <td>49.810001</td>\n",
              "      <td>50.009998</td>\n",
              "      <td>47.700581</td>\n",
              "      <td>1960300</td>\n",
              "    </tr>\n",
              "    <tr>\n",
              "      <th>2019-12-29</th>\n",
              "      <td>50.830002</td>\n",
              "      <td>50.840000</td>\n",
              "      <td>49.810001</td>\n",
              "      <td>50.009998</td>\n",
              "      <td>47.700581</td>\n",
              "      <td>1960300</td>\n",
              "    </tr>\n",
              "    <tr>\n",
              "      <th>2019-12-30</th>\n",
              "      <td>50.830002</td>\n",
              "      <td>50.840000</td>\n",
              "      <td>49.810001</td>\n",
              "      <td>50.009998</td>\n",
              "      <td>47.700581</td>\n",
              "      <td>1960300</td>\n",
              "    </tr>\n",
              "    <tr>\n",
              "      <th>2019-12-31</th>\n",
              "      <td>49.770000</td>\n",
              "      <td>49.939999</td>\n",
              "      <td>49.680000</td>\n",
              "      <td>49.860001</td>\n",
              "      <td>47.557510</td>\n",
              "      <td>1750000</td>\n",
              "    </tr>\n",
              "  </tbody>\n",
              "</table>\n",
              "<p>2557 rows × 6 columns</p>\n",
              "</div>"
            ],
            "text/plain": [
              "                 Open       High        Low      Close  Adj Close   Volume\n",
              "Date                                                                      \n",
              "2012-12-31  23.375000  23.660000  23.360001  23.635000  16.594944  1916600\n",
              "2013-01-01  24.080000  24.120001  23.980000  24.120001  16.935476  2812000\n",
              "2013-01-02  24.080000  24.120001  23.980000  24.120001  16.935476  2812000\n",
              "2013-01-03  24.020000  24.115000  23.980000  24.075001  16.903885  1941200\n",
              "2013-01-04  23.959999  24.120001  23.959999  24.075001  16.903885  1854800\n",
              "...               ...        ...        ...        ...        ...      ...\n",
              "2019-12-27  50.570000  50.660000  50.299999  50.439999  48.110725  1636200\n",
              "2019-12-28  50.830002  50.840000  49.810001  50.009998  47.700581  1960300\n",
              "2019-12-29  50.830002  50.840000  49.810001  50.009998  47.700581  1960300\n",
              "2019-12-30  50.830002  50.840000  49.810001  50.009998  47.700581  1960300\n",
              "2019-12-31  49.770000  49.939999  49.680000  49.860001  47.557510  1750000\n",
              "\n",
              "[2557 rows x 6 columns]"
            ]
          },
          "metadata": {
            "tags": []
          },
          "execution_count": 7
        }
      ]
    },
    {
      "cell_type": "code",
      "metadata": {
        "colab": {
          "base_uri": "https://localhost:8080/",
          "height": 449
        },
        "id": "dFTv6rmnFbxi",
        "outputId": "b91a7a8e-3031-416d-c30a-d6c038b82ab0"
      },
      "source": [
        "# delete first row with date 2012-12-31. Needed to backfill row \n",
        "df = df.iloc[1:]\n",
        "df"
      ],
      "execution_count": 8,
      "outputs": [
        {
          "output_type": "execute_result",
          "data": {
            "text/html": [
              "<div>\n",
              "<style scoped>\n",
              "    .dataframe tbody tr th:only-of-type {\n",
              "        vertical-align: middle;\n",
              "    }\n",
              "\n",
              "    .dataframe tbody tr th {\n",
              "        vertical-align: top;\n",
              "    }\n",
              "\n",
              "    .dataframe thead th {\n",
              "        text-align: right;\n",
              "    }\n",
              "</style>\n",
              "<table border=\"1\" class=\"dataframe\">\n",
              "  <thead>\n",
              "    <tr style=\"text-align: right;\">\n",
              "      <th></th>\n",
              "      <th>Open</th>\n",
              "      <th>High</th>\n",
              "      <th>Low</th>\n",
              "      <th>Close</th>\n",
              "      <th>Adj Close</th>\n",
              "      <th>Volume</th>\n",
              "    </tr>\n",
              "    <tr>\n",
              "      <th>Date</th>\n",
              "      <th></th>\n",
              "      <th></th>\n",
              "      <th></th>\n",
              "      <th></th>\n",
              "      <th></th>\n",
              "      <th></th>\n",
              "    </tr>\n",
              "  </thead>\n",
              "  <tbody>\n",
              "    <tr>\n",
              "      <th>2013-01-01</th>\n",
              "      <td>24.080000</td>\n",
              "      <td>24.120001</td>\n",
              "      <td>23.980000</td>\n",
              "      <td>24.120001</td>\n",
              "      <td>16.935476</td>\n",
              "      <td>2812000</td>\n",
              "    </tr>\n",
              "    <tr>\n",
              "      <th>2013-01-02</th>\n",
              "      <td>24.080000</td>\n",
              "      <td>24.120001</td>\n",
              "      <td>23.980000</td>\n",
              "      <td>24.120001</td>\n",
              "      <td>16.935476</td>\n",
              "      <td>2812000</td>\n",
              "    </tr>\n",
              "    <tr>\n",
              "      <th>2013-01-03</th>\n",
              "      <td>24.020000</td>\n",
              "      <td>24.115000</td>\n",
              "      <td>23.980000</td>\n",
              "      <td>24.075001</td>\n",
              "      <td>16.903885</td>\n",
              "      <td>1941200</td>\n",
              "    </tr>\n",
              "    <tr>\n",
              "      <th>2013-01-04</th>\n",
              "      <td>23.959999</td>\n",
              "      <td>24.120001</td>\n",
              "      <td>23.959999</td>\n",
              "      <td>24.075001</td>\n",
              "      <td>16.903885</td>\n",
              "      <td>1854800</td>\n",
              "    </tr>\n",
              "    <tr>\n",
              "      <th>2013-01-05</th>\n",
              "      <td>23.995001</td>\n",
              "      <td>24.100000</td>\n",
              "      <td>23.975000</td>\n",
              "      <td>24.055000</td>\n",
              "      <td>16.889841</td>\n",
              "      <td>1932200</td>\n",
              "    </tr>\n",
              "    <tr>\n",
              "      <th>...</th>\n",
              "      <td>...</td>\n",
              "      <td>...</td>\n",
              "      <td>...</td>\n",
              "      <td>...</td>\n",
              "      <td>...</td>\n",
              "      <td>...</td>\n",
              "    </tr>\n",
              "    <tr>\n",
              "      <th>2019-12-27</th>\n",
              "      <td>50.570000</td>\n",
              "      <td>50.660000</td>\n",
              "      <td>50.299999</td>\n",
              "      <td>50.439999</td>\n",
              "      <td>48.110725</td>\n",
              "      <td>1636200</td>\n",
              "    </tr>\n",
              "    <tr>\n",
              "      <th>2019-12-28</th>\n",
              "      <td>50.830002</td>\n",
              "      <td>50.840000</td>\n",
              "      <td>49.810001</td>\n",
              "      <td>50.009998</td>\n",
              "      <td>47.700581</td>\n",
              "      <td>1960300</td>\n",
              "    </tr>\n",
              "    <tr>\n",
              "      <th>2019-12-29</th>\n",
              "      <td>50.830002</td>\n",
              "      <td>50.840000</td>\n",
              "      <td>49.810001</td>\n",
              "      <td>50.009998</td>\n",
              "      <td>47.700581</td>\n",
              "      <td>1960300</td>\n",
              "    </tr>\n",
              "    <tr>\n",
              "      <th>2019-12-30</th>\n",
              "      <td>50.830002</td>\n",
              "      <td>50.840000</td>\n",
              "      <td>49.810001</td>\n",
              "      <td>50.009998</td>\n",
              "      <td>47.700581</td>\n",
              "      <td>1960300</td>\n",
              "    </tr>\n",
              "    <tr>\n",
              "      <th>2019-12-31</th>\n",
              "      <td>49.770000</td>\n",
              "      <td>49.939999</td>\n",
              "      <td>49.680000</td>\n",
              "      <td>49.860001</td>\n",
              "      <td>47.557510</td>\n",
              "      <td>1750000</td>\n",
              "    </tr>\n",
              "  </tbody>\n",
              "</table>\n",
              "<p>2556 rows × 6 columns</p>\n",
              "</div>"
            ],
            "text/plain": [
              "                 Open       High        Low      Close  Adj Close   Volume\n",
              "Date                                                                      \n",
              "2013-01-01  24.080000  24.120001  23.980000  24.120001  16.935476  2812000\n",
              "2013-01-02  24.080000  24.120001  23.980000  24.120001  16.935476  2812000\n",
              "2013-01-03  24.020000  24.115000  23.980000  24.075001  16.903885  1941200\n",
              "2013-01-04  23.959999  24.120001  23.959999  24.075001  16.903885  1854800\n",
              "2013-01-05  23.995001  24.100000  23.975000  24.055000  16.889841  1932200\n",
              "...               ...        ...        ...        ...        ...      ...\n",
              "2019-12-27  50.570000  50.660000  50.299999  50.439999  48.110725  1636200\n",
              "2019-12-28  50.830002  50.840000  49.810001  50.009998  47.700581  1960300\n",
              "2019-12-29  50.830002  50.840000  49.810001  50.009998  47.700581  1960300\n",
              "2019-12-30  50.830002  50.840000  49.810001  50.009998  47.700581  1960300\n",
              "2019-12-31  49.770000  49.939999  49.680000  49.860001  47.557510  1750000\n",
              "\n",
              "[2556 rows x 6 columns]"
            ]
          },
          "metadata": {
            "tags": []
          },
          "execution_count": 8
        }
      ]
    },
    {
      "cell_type": "code",
      "metadata": {
        "colab": {
          "base_uri": "https://localhost:8080/"
        },
        "id": "2gic84BRbxOj",
        "outputId": "eaeda10f-183d-41ab-c4c1-efd19c48d758"
      },
      "source": [
        "df.info()"
      ],
      "execution_count": null,
      "outputs": [
        {
          "output_type": "stream",
          "text": [
            "<class 'pandas.core.frame.DataFrame'>\n",
            "DatetimeIndex: 2556 entries, 2013-01-01 to 2019-12-31\n",
            "Freq: D\n",
            "Data columns (total 6 columns):\n",
            " #   Column     Non-Null Count  Dtype  \n",
            "---  ------     --------------  -----  \n",
            " 0   Open       2556 non-null   float64\n",
            " 1   High       2556 non-null   float64\n",
            " 2   Low        2556 non-null   float64\n",
            " 3   Close      2556 non-null   float64\n",
            " 4   Adj Close  2556 non-null   float64\n",
            " 5   Volume     2556 non-null   int64  \n",
            "dtypes: float64(5), int64(1)\n",
            "memory usage: 139.8 KB\n"
          ],
          "name": "stdout"
        }
      ]
    },
    {
      "cell_type": "code",
      "metadata": {
        "colab": {
          "base_uri": "https://localhost:8080/",
          "height": 235
        },
        "id": "D7-7rjULbyOu",
        "outputId": "db5782fa-77b2-44dc-9ffc-bd4afdbca126"
      },
      "source": [
        "df.head()"
      ],
      "execution_count": null,
      "outputs": [
        {
          "output_type": "execute_result",
          "data": {
            "text/html": [
              "<div>\n",
              "<style scoped>\n",
              "    .dataframe tbody tr th:only-of-type {\n",
              "        vertical-align: middle;\n",
              "    }\n",
              "\n",
              "    .dataframe tbody tr th {\n",
              "        vertical-align: top;\n",
              "    }\n",
              "\n",
              "    .dataframe thead th {\n",
              "        text-align: right;\n",
              "    }\n",
              "</style>\n",
              "<table border=\"1\" class=\"dataframe\">\n",
              "  <thead>\n",
              "    <tr style=\"text-align: right;\">\n",
              "      <th></th>\n",
              "      <th>Open</th>\n",
              "      <th>High</th>\n",
              "      <th>Low</th>\n",
              "      <th>Close</th>\n",
              "      <th>Adj Close</th>\n",
              "      <th>Volume</th>\n",
              "    </tr>\n",
              "    <tr>\n",
              "      <th>Date</th>\n",
              "      <th></th>\n",
              "      <th></th>\n",
              "      <th></th>\n",
              "      <th></th>\n",
              "      <th></th>\n",
              "      <th></th>\n",
              "    </tr>\n",
              "  </thead>\n",
              "  <tbody>\n",
              "    <tr>\n",
              "      <th>2013-01-01</th>\n",
              "      <td>24.080000</td>\n",
              "      <td>24.120001</td>\n",
              "      <td>23.980000</td>\n",
              "      <td>24.120001</td>\n",
              "      <td>16.935476</td>\n",
              "      <td>2812000</td>\n",
              "    </tr>\n",
              "    <tr>\n",
              "      <th>2013-01-02</th>\n",
              "      <td>24.080000</td>\n",
              "      <td>24.120001</td>\n",
              "      <td>23.980000</td>\n",
              "      <td>24.120001</td>\n",
              "      <td>16.935476</td>\n",
              "      <td>2812000</td>\n",
              "    </tr>\n",
              "    <tr>\n",
              "      <th>2013-01-03</th>\n",
              "      <td>24.020000</td>\n",
              "      <td>24.115000</td>\n",
              "      <td>23.980000</td>\n",
              "      <td>24.075001</td>\n",
              "      <td>16.903885</td>\n",
              "      <td>1941200</td>\n",
              "    </tr>\n",
              "    <tr>\n",
              "      <th>2013-01-04</th>\n",
              "      <td>23.959999</td>\n",
              "      <td>24.120001</td>\n",
              "      <td>23.959999</td>\n",
              "      <td>24.075001</td>\n",
              "      <td>16.903885</td>\n",
              "      <td>1854800</td>\n",
              "    </tr>\n",
              "    <tr>\n",
              "      <th>2013-01-05</th>\n",
              "      <td>23.995001</td>\n",
              "      <td>24.100000</td>\n",
              "      <td>23.975000</td>\n",
              "      <td>24.055000</td>\n",
              "      <td>16.889841</td>\n",
              "      <td>1932200</td>\n",
              "    </tr>\n",
              "  </tbody>\n",
              "</table>\n",
              "</div>"
            ],
            "text/plain": [
              "                 Open       High        Low      Close  Adj Close   Volume\n",
              "Date                                                                      \n",
              "2013-01-01  24.080000  24.120001  23.980000  24.120001  16.935476  2812000\n",
              "2013-01-02  24.080000  24.120001  23.980000  24.120001  16.935476  2812000\n",
              "2013-01-03  24.020000  24.115000  23.980000  24.075001  16.903885  1941200\n",
              "2013-01-04  23.959999  24.120001  23.959999  24.075001  16.903885  1854800\n",
              "2013-01-05  23.995001  24.100000  23.975000  24.055000  16.889841  1932200"
            ]
          },
          "metadata": {
            "tags": []
          },
          "execution_count": 8
        }
      ]
    },
    {
      "cell_type": "code",
      "metadata": {
        "colab": {
          "base_uri": "https://localhost:8080/",
          "height": 296
        },
        "id": "InSAHbifvvtu",
        "outputId": "1164f173-5cc1-4fbf-f438-406ab3a2acc8"
      },
      "source": [
        "df.describe()"
      ],
      "execution_count": null,
      "outputs": [
        {
          "output_type": "execute_result",
          "data": {
            "text/html": [
              "<div>\n",
              "<style scoped>\n",
              "    .dataframe tbody tr th:only-of-type {\n",
              "        vertical-align: middle;\n",
              "    }\n",
              "\n",
              "    .dataframe tbody tr th {\n",
              "        vertical-align: top;\n",
              "    }\n",
              "\n",
              "    .dataframe thead th {\n",
              "        text-align: right;\n",
              "    }\n",
              "</style>\n",
              "<table border=\"1\" class=\"dataframe\">\n",
              "  <thead>\n",
              "    <tr style=\"text-align: right;\">\n",
              "      <th></th>\n",
              "      <th>Open</th>\n",
              "      <th>High</th>\n",
              "      <th>Low</th>\n",
              "      <th>Close</th>\n",
              "      <th>Adj Close</th>\n",
              "      <th>Volume</th>\n",
              "    </tr>\n",
              "  </thead>\n",
              "  <tbody>\n",
              "    <tr>\n",
              "      <th>count</th>\n",
              "      <td>2556.000000</td>\n",
              "      <td>2556.000000</td>\n",
              "      <td>2556.000000</td>\n",
              "      <td>2556.000000</td>\n",
              "      <td>2556.000000</td>\n",
              "      <td>2.556000e+03</td>\n",
              "    </tr>\n",
              "    <tr>\n",
              "      <th>mean</th>\n",
              "      <td>33.604810</td>\n",
              "      <td>33.817005</td>\n",
              "      <td>33.396299</td>\n",
              "      <td>33.609597</td>\n",
              "      <td>28.449691</td>\n",
              "      <td>4.351601e+06</td>\n",
              "    </tr>\n",
              "    <tr>\n",
              "      <th>std</th>\n",
              "      <td>5.512456</td>\n",
              "      <td>5.542782</td>\n",
              "      <td>5.461036</td>\n",
              "      <td>5.494346</td>\n",
              "      <td>6.639866</td>\n",
              "      <td>3.781834e+06</td>\n",
              "    </tr>\n",
              "    <tr>\n",
              "      <th>min</th>\n",
              "      <td>22.370001</td>\n",
              "      <td>22.385000</td>\n",
              "      <td>22.230000</td>\n",
              "      <td>22.334999</td>\n",
              "      <td>16.336739</td>\n",
              "      <td>7.558000e+05</td>\n",
              "    </tr>\n",
              "    <tr>\n",
              "      <th>25%</th>\n",
              "      <td>29.600000</td>\n",
              "      <td>29.815000</td>\n",
              "      <td>29.500000</td>\n",
              "      <td>29.655000</td>\n",
              "      <td>24.651939</td>\n",
              "      <td>2.574800e+06</td>\n",
              "    </tr>\n",
              "    <tr>\n",
              "      <th>50%</th>\n",
              "      <td>33.732500</td>\n",
              "      <td>34.035000</td>\n",
              "      <td>33.599998</td>\n",
              "      <td>33.840000</td>\n",
              "      <td>27.463512</td>\n",
              "      <td>3.566650e+06</td>\n",
              "    </tr>\n",
              "    <tr>\n",
              "      <th>75%</th>\n",
              "      <td>36.759998</td>\n",
              "      <td>36.980000</td>\n",
              "      <td>36.560001</td>\n",
              "      <td>36.778751</td>\n",
              "      <td>31.883987</td>\n",
              "      <td>4.868800e+06</td>\n",
              "    </tr>\n",
              "    <tr>\n",
              "      <th>max</th>\n",
              "      <td>50.830002</td>\n",
              "      <td>51.230000</td>\n",
              "      <td>50.330002</td>\n",
              "      <td>50.459999</td>\n",
              "      <td>48.129799</td>\n",
              "      <td>5.746580e+07</td>\n",
              "    </tr>\n",
              "  </tbody>\n",
              "</table>\n",
              "</div>"
            ],
            "text/plain": [
              "              Open         High  ...    Adj Close        Volume\n",
              "count  2556.000000  2556.000000  ...  2556.000000  2.556000e+03\n",
              "mean     33.604810    33.817005  ...    28.449691  4.351601e+06\n",
              "std       5.512456     5.542782  ...     6.639866  3.781834e+06\n",
              "min      22.370001    22.385000  ...    16.336739  7.558000e+05\n",
              "25%      29.600000    29.815000  ...    24.651939  2.574800e+06\n",
              "50%      33.732500    34.035000  ...    27.463512  3.566650e+06\n",
              "75%      36.759998    36.980000  ...    31.883987  4.868800e+06\n",
              "max      50.830002    51.230000  ...    48.129799  5.746580e+07\n",
              "\n",
              "[8 rows x 6 columns]"
            ]
          },
          "metadata": {
            "tags": []
          },
          "execution_count": 9
        }
      ]
    },
    {
      "cell_type": "code",
      "metadata": {
        "colab": {
          "base_uri": "https://localhost:8080/"
        },
        "id": "NyqeiIS1cqLi",
        "outputId": "0c26ed13-8d06-488f-9b06-837c31227db0"
      },
      "source": [
        "df.shape"
      ],
      "execution_count": null,
      "outputs": [
        {
          "output_type": "execute_result",
          "data": {
            "text/plain": [
              "(2556, 6)"
            ]
          },
          "metadata": {
            "tags": []
          },
          "execution_count": 10
        }
      ]
    },
    {
      "cell_type": "code",
      "metadata": {
        "colab": {
          "base_uri": "https://localhost:8080/"
        },
        "id": "q20Sid1wyBLc",
        "outputId": "5312bced-4aaa-44bd-be48-4b85f10e1e9a"
      },
      "source": [
        "df.isnull().values.any()"
      ],
      "execution_count": null,
      "outputs": [
        {
          "output_type": "execute_result",
          "data": {
            "text/plain": [
              "False"
            ]
          },
          "metadata": {
            "tags": []
          },
          "execution_count": 11
        }
      ]
    },
    {
      "cell_type": "code",
      "metadata": {
        "colab": {
          "base_uri": "https://localhost:8080/"
        },
        "id": "AMtu-CpiF0kB",
        "outputId": "62d1067c-9d07-44e7-cc6f-2e0877c64b95"
      },
      "source": [
        "df.isnull().sum()"
      ],
      "execution_count": null,
      "outputs": [
        {
          "output_type": "execute_result",
          "data": {
            "text/plain": [
              "Open         0\n",
              "High         0\n",
              "Low          0\n",
              "Close        0\n",
              "Adj Close    0\n",
              "Volume       0\n",
              "dtype: int64"
            ]
          },
          "metadata": {
            "tags": []
          },
          "execution_count": 12
        }
      ]
    },
    {
      "cell_type": "markdown",
      "metadata": {
        "id": "KcUCM4SZ6UbO"
      },
      "source": [
        "**Splitting into train and test set**"
      ]
    },
    {
      "cell_type": "code",
      "metadata": {
        "id": "S7aXI9HM5IUN"
      },
      "source": [
        "train = df.iloc[:-730,:]\n",
        "test = df.iloc[-730:,:]"
      ],
      "execution_count": 9,
      "outputs": []
    },
    {
      "cell_type": "code",
      "metadata": {
        "colab": {
          "base_uri": "https://localhost:8080/",
          "height": 287
        },
        "id": "wErEL2ZSySB4",
        "outputId": "07cfdaa9-9451-4c8d-e40f-84a84b9267c6"
      },
      "source": [
        "corr_matrix=train.corr()\n",
        "sns.heatmap(corr_matrix,cmap='YlGnBu',annot=True)"
      ],
      "execution_count": null,
      "outputs": [
        {
          "output_type": "execute_result",
          "data": {
            "text/plain": [
              "<matplotlib.axes._subplots.AxesSubplot at 0x7f4442d15190>"
            ]
          },
          "metadata": {
            "tags": []
          },
          "execution_count": 14
        },
        {
          "output_type": "display_data",
          "data": {
            "image/png": "[encoded data removed]",
            "text/plain": [
              "<Figure size 432x288 with 2 Axes>"
            ]
          },
          "metadata": {
            "tags": []
          }
        }
      ]
    },
    {
      "cell_type": "code",
      "metadata": {
        "colab": {
          "base_uri": "https://localhost:8080/",
          "height": 336
        },
        "id": "FhErbeuQv19O",
        "outputId": "f24a113d-d85f-460d-979e-7c0cb9cecd6f"
      },
      "source": [
        "figure, axis = plt.subplots(ncols=5, figsize = (20,5))\n",
        "axis[0].plot(train[\"Open\"])\n",
        "axis[0].set_title(\"Open\")\n",
        "\n",
        "axis[1].plot(train[\"High\"])\n",
        "axis[1].set_title(\"High\")\n",
        "\n",
        "axis[2].plot(train[\"Low\"])\n",
        "axis[2].set_title(\"Low\")\n",
        "\n",
        "axis[3].plot(train[\"Close\"])\n",
        "axis[3].set_title(\"Close\")\n",
        "\n",
        "axis[4].plot(train[\"Adj Close\"])\n",
        "axis[4].set_title(\"Adj Close\")\n",
        "\n",
        "plt.show()"
      ],
      "execution_count": null,
      "outputs": [
        {
          "output_type": "display_data",
          "data": {
            "image/png": "[encoded data removed]",
            "text/plain": [
              "<Figure size 1440x360 with 5 Axes>"
            ]
          },
          "metadata": {
            "tags": []
          }
        }
      ]
    },
    {
      "cell_type": "code",
      "metadata": {
        "colab": {
          "base_uri": "https://localhost:8080/",
          "height": 283
        },
        "id": "ARAcPYHnHkY5",
        "outputId": "ceb9ee2b-e3ef-41b6-fa5a-c8c5ef4f02d2"
      },
      "source": [
        "train.boxplot(column=['Open','High','Low','Close','Adj Close'])"
      ],
      "execution_count": null,
      "outputs": [
        {
          "output_type": "execute_result",
          "data": {
            "text/plain": [
              "<matplotlib.axes._subplots.AxesSubplot at 0x7f4439232490>"
            ]
          },
          "metadata": {
            "tags": []
          },
          "execution_count": 16
        },
        {
          "output_type": "display_data",
          "data": {
            "image/png": "[encoded data removed]",
            "text/plain": [
              "<Figure size 432x288 with 1 Axes>"
            ]
          },
          "metadata": {
            "tags": []
          }
        }
      ]
    },
    {
      "cell_type": "code",
      "metadata": {
        "colab": {
          "base_uri": "https://localhost:8080/",
          "height": 294
        },
        "id": "de7dg76dJsRk",
        "outputId": "66e39c19-4f95-4f3a-a29f-0d8c2b864377"
      },
      "source": [
        "train.boxplot('Volume')"
      ],
      "execution_count": null,
      "outputs": [
        {
          "output_type": "execute_result",
          "data": {
            "text/plain": [
              "<matplotlib.axes._subplots.AxesSubplot at 0x7f443791c890>"
            ]
          },
          "metadata": {
            "tags": []
          },
          "execution_count": 17
        },
        {
          "output_type": "display_data",
          "data": {
            "image/png": "[encoded data removed]",
            "text/plain": [
              "<Figure size 432x288 with 1 Axes>"
            ]
          },
          "metadata": {
            "tags": []
          }
        }
      ]
    },
    {
      "cell_type": "code",
      "metadata": {
        "colab": {
          "base_uri": "https://localhost:8080/",
          "height": 265
        },
        "id": "2SvUTjWEyspt",
        "outputId": "25fb7dfb-b754-4e40-9092-c3b554c5810d"
      },
      "source": [
        "plt.hist(train['Close'])\n",
        "plt.show()\n",
        "# distribution of close price is skewed right"
      ],
      "execution_count": null,
      "outputs": [
        {
          "output_type": "display_data",
          "data": {
            "image/png": "[encoded data removed]",
            "text/plain": [
              "<Figure size 432x288 with 1 Axes>"
            ]
          },
          "metadata": {
            "tags": []
          }
        }
      ]
    },
    {
      "cell_type": "markdown",
      "metadata": {
        "id": "XV2zP3yYrRYf"
      },
      "source": [
        "**Testing for Stationarity**"
      ]
    },
    {
      "cell_type": "code",
      "metadata": {
        "id": "xIzc_GrwhASe"
      },
      "source": [
        "import statsmodels\n",
        "from statsmodels.tsa.stattools import adfuller"
      ],
      "execution_count": 10,
      "outputs": []
    },
    {
      "cell_type": "code",
      "metadata": {
        "id": "A9kf8RAbiui7"
      },
      "source": [
        "def test_stationarity(timeseries):\n",
        "\n",
        "  results = adfuller(timeseries, autolag='AIC')\n",
        "  print('Results of Augmented Dickey Fuller Test')\n",
        "  print('Test Statistic: ' + str(results[0]))\n",
        "  print('p-value: ' + str(results[1]))\n",
        "  print('No. of lags used: ' + str(results[2]))\n",
        "  print('Number of observations used: ' + str(results[3]))\n",
        "\n",
        "  for key, value in results[4].items():\n",
        "    print('Critial Values:')\n",
        "    print(f'   {key}, {value}')\n",
        "\n",
        "  if results[1] <= 0.05:\n",
        "    print (\"Reject null hypothesis. Data is stationary\")\n",
        "  else:\n",
        "    print (\"Fail to reject nyll hypothesis. Data is non-stationary\")"
      ],
      "execution_count": 11,
      "outputs": []
    },
    {
      "cell_type": "code",
      "metadata": {
        "colab": {
          "base_uri": "https://localhost:8080/"
        },
        "id": "s28LUkhJkMGQ",
        "outputId": "ff70b63e-0d87-4a97-b50f-f376c3e5a595"
      },
      "source": [
        "test_stationarity(train['Close'])"
      ],
      "execution_count": 12,
      "outputs": [
        {
          "output_type": "stream",
          "text": [
            "Results of Augmented Dickey Fuller Test\n",
            "Test Statistic: -2.29680654876106\n",
            "p-value: 0.172999991796578\n",
            "No. of lags used: 13\n",
            "Number of observations used: 1812\n",
            "Critial Values:\n",
            "   1%, -3.4339640110318004\n",
            "Critial Values:\n",
            "   5%, -2.8631363845692475\n",
            "Critial Values:\n",
            "   10%, -2.567619862152732\n",
            "Fail to reject nyll hypothesis. Data is non-stationary\n"
          ],
          "name": "stdout"
        }
      ]
    },
    {
      "cell_type": "markdown",
      "metadata": {
        "id": "_8BS7o_djYeX"
      },
      "source": [
        "The close price is not stationary. Need to apply differencing and transformations to make the close price stationary. "
      ]
    },
    {
      "cell_type": "code",
      "metadata": {
        "colab": {
          "base_uri": "https://localhost:8080/",
          "height": 297
        },
        "id": "wx-iLHxxt3rJ",
        "outputId": "094f84a8-d23c-44cc-fb52-1169426c4ded"
      },
      "source": [
        "train['Close_log'] = np.log(train['Close'])\n",
        "train['Close_log'].dropna().plot()"
      ],
      "execution_count": 13,
      "outputs": [
        {
          "output_type": "execute_result",
          "data": {
            "text/plain": [
              "<matplotlib.axes._subplots.AxesSubplot at 0x7f5840f3ae50>"
            ]
          },
          "metadata": {
            "tags": []
          },
          "execution_count": 13
        },
        {
          "output_type": "display_data",
          "data": {
            "image/png": "[encoded data removed]",
            "text/plain": [
              "<Figure size 432x288 with 1 Axes>"
            ]
          },
          "metadata": {
            "tags": [],
            "needs_background": "light"
          }
        }
      ]
    },
    {
      "cell_type": "code",
      "metadata": {
        "colab": {
          "base_uri": "https://localhost:8080/"
        },
        "id": "duliXAIflQb1",
        "outputId": "1db90cd0-fc82-4490-b5d7-7be225872210"
      },
      "source": [
        "test_stationarity(train['Close_log'].dropna())"
      ],
      "execution_count": 14,
      "outputs": [
        {
          "output_type": "stream",
          "text": [
            "Results of Augmented Dickey Fuller Test\n",
            "Test Statistic: -2.253665410603503\n",
            "p-value: 0.18734729559719432\n",
            "No. of lags used: 13\n",
            "Number of observations used: 1812\n",
            "Critial Values:\n",
            "   1%, -3.4339640110318004\n",
            "Critial Values:\n",
            "   5%, -2.8631363845692475\n",
            "Critial Values:\n",
            "   10%, -2.567619862152732\n",
            "Fail to reject nyll hypothesis. Data is non-stationary\n"
          ],
          "name": "stdout"
        }
      ]
    },
    {
      "cell_type": "code",
      "metadata": {
        "colab": {
          "base_uri": "https://localhost:8080/",
          "height": 297
        },
        "id": "4rpo_FzZ0TtZ",
        "outputId": "ae40864a-e80b-4d8e-9a97-883e31077911"
      },
      "source": [
        "train['Adj_sqrt'] = np.sqrt(train['Close'])\n",
        "train['Adj_sqrt'].dropna().plot()"
      ],
      "execution_count": 15,
      "outputs": [
        {
          "output_type": "execute_result",
          "data": {
            "text/plain": [
              "<matplotlib.axes._subplots.AxesSubplot at 0x7f5840ea2590>"
            ]
          },
          "metadata": {
            "tags": []
          },
          "execution_count": 15
        },
        {
          "output_type": "display_data",
          "data": {
            "image/png": "[encoded data removed]",
            "text/plain": [
              "<Figure size 432x288 with 1 Axes>"
            ]
          },
          "metadata": {
            "tags": [],
            "needs_background": "light"
          }
        }
      ]
    },
    {
      "cell_type": "code",
      "metadata": {
        "colab": {
          "base_uri": "https://localhost:8080/"
        },
        "id": "m9mxQcoJlZlX",
        "outputId": "e280c508-d143-40d1-8434-1969d1384849"
      },
      "source": [
        "test_stationarity(train['Adj_sqrt'].dropna())"
      ],
      "execution_count": 16,
      "outputs": [
        {
          "output_type": "stream",
          "text": [
            "Results of Augmented Dickey Fuller Test\n",
            "Test Statistic: -2.270989189860908\n",
            "p-value: 0.18149528077365207\n",
            "No. of lags used: 13\n",
            "Number of observations used: 1812\n",
            "Critial Values:\n",
            "   1%, -3.4339640110318004\n",
            "Critial Values:\n",
            "   5%, -2.8631363845692475\n",
            "Critial Values:\n",
            "   10%, -2.567619862152732\n",
            "Fail to reject nyll hypothesis. Data is non-stationary\n"
          ],
          "name": "stdout"
        }
      ]
    },
    {
      "cell_type": "code",
      "metadata": {
        "colab": {
          "base_uri": "https://localhost:8080/",
          "height": 297
        },
        "id": "rrXBvncS0TkQ",
        "outputId": "66974c84-6a9e-4cd8-f487-5214efda37fd"
      },
      "source": [
        "train['Close_diff'] = train['Close'].diff()\n",
        "train['Close_diff'].dropna().plot()"
      ],
      "execution_count": 17,
      "outputs": [
        {
          "output_type": "execute_result",
          "data": {
            "text/plain": [
              "<matplotlib.axes._subplots.AxesSubplot at 0x7f58408a9c90>"
            ]
          },
          "metadata": {
            "tags": []
          },
          "execution_count": 17
        },
        {
          "output_type": "display_data",
          "data": {
            "image/png": "[encoded data removed]",
            "text/plain": [
              "<Figure size 432x288 with 1 Axes>"
            ]
          },
          "metadata": {
            "tags": [],
            "needs_background": "light"
          }
        }
      ]
    },
    {
      "cell_type": "code",
      "metadata": {
        "colab": {
          "base_uri": "https://localhost:8080/"
        },
        "id": "dunjRrLMlgTL",
        "outputId": "eb5bcbb3-c90e-4882-e83e-ec20505720af"
      },
      "source": [
        "test_stationarity(train['Close_diff'].dropna())"
      ],
      "execution_count": 18,
      "outputs": [
        {
          "output_type": "stream",
          "text": [
            "Results of Augmented Dickey Fuller Test\n",
            "Test Statistic: -12.260086806734142\n",
            "p-value: 9.120941583837678e-23\n",
            "No. of lags used: 12\n",
            "Number of observations used: 1812\n",
            "Critial Values:\n",
            "   1%, -3.4339640110318004\n",
            "Critial Values:\n",
            "   5%, -2.8631363845692475\n",
            "Critial Values:\n",
            "   10%, -2.567619862152732\n",
            "Reject null hypothesis. Data is stationary\n"
          ],
          "name": "stdout"
        }
      ]
    },
    {
      "cell_type": "code",
      "metadata": {
        "id": "lyPV10k2jzr5"
      },
      "source": [
        "Applied differencing. The data is now stationary."
      ],
      "execution_count": null,
      "outputs": []
    },
    {
      "cell_type": "code",
      "metadata": {
        "id": "3_EcNpKJm31G"
      },
      "source": [
        "train = train.dropna()"
      ],
      "execution_count": 19,
      "outputs": []
    },
    {
      "cell_type": "markdown",
      "metadata": {
        "id": "neMlTae_kAOz"
      },
      "source": [
        "**Testing for autocorrelation**"
      ]
    },
    {
      "cell_type": "code",
      "metadata": {
        "colab": {
          "base_uri": "https://localhost:8080/",
          "height": 281
        },
        "id": "51f3NN4-aqLp",
        "outputId": "9077a25e-1d39-4405-cf54-ec3d86558221"
      },
      "source": [
        "from statsmodels.graphics import tsaplots\n",
        "from statsmodels.tsa.stattools import acf\n",
        "from statsmodels.graphics.tsaplots import plot_acf\n",
        "plot_acf(train['Close'], lags=30);\n"
      ],
      "execution_count": 21,
      "outputs": [
        {
          "output_type": "display_data",
          "data": {
            "image/png": "[encoded data removed]",
            "text/plain": [
              "<Figure size 432x288 with 1 Axes>"
            ]
          },
          "metadata": {
            "tags": [],
            "needs_background": "light"
          }
        }
      ]
    },
    {
      "cell_type": "code",
      "metadata": {
        "colab": {
          "base_uri": "https://localhost:8080/",
          "height": 281
        },
        "id": "TxxODOv6fx63",
        "outputId": "ad5f8fde-2453-4f8f-a67a-1f5f7b322ada"
      },
      "source": [
        "plot_acf(train['Close_diff'], lags=30);"
      ],
      "execution_count": 22,
      "outputs": [
        {
          "output_type": "display_data",
          "data": {
            "image/png": "[encoded data removed]",
            "text/plain": [
              "<Figure size 432x288 with 1 Axes>"
            ]
          },
          "metadata": {
            "tags": [],
            "needs_background": "light"
          }
        }
      ]
    },
    {
      "cell_type": "markdown",
      "metadata": {
        "id": "oU-2oxHfmv8C"
      },
      "source": [
        "**Testing for Seasonality**"
      ]
    },
    {
      "cell_type": "code",
      "metadata": {
        "id": "WIskSb5jmWWp"
      },
      "source": [
        "from statsmodels.tsa.seasonal import seasonal_decompose"
      ],
      "execution_count": 24,
      "outputs": []
    },
    {
      "cell_type": "code",
      "metadata": {
        "colab": {
          "base_uri": "https://localhost:8080/",
          "height": 298
        },
        "id": "fcAgJhvjnB81",
        "outputId": "4c70236c-1c99-4082-e5f4-90d92c657ff5"
      },
      "source": [
        "output = seasonal_decompose(train['Close'][:180], model='additive')\n",
        "output.plot();"
      ],
      "execution_count": 27,
      "outputs": [
        {
          "output_type": "display_data",
          "data": {
            "image/png": "[encoded data removed]",
            "text/plain": [
              "<Figure size 432x288 with 4 Axes>"
            ]
          },
          "metadata": {
            "tags": [],
            "needs_background": "light"
          }
        }
      ]
    },
    {
      "cell_type": "code",
      "metadata": {
        "colab": {
          "base_uri": "https://localhost:8080/",
          "height": 300
        },
        "id": "hgNHtDoumzQn",
        "outputId": "830131b3-efaa-4d48-b6a5-69c19fe9d413"
      },
      "source": [
        "decomposed = seasonal_decompose(train['Close_diff'][:180], model='additive')\n",
        "decomposed.plot();"
      ],
      "execution_count": 28,
      "outputs": [
        {
          "output_type": "display_data",
          "data": {
            "image/png": "[encoded data removed]",
            "text/plain": [
              "<Figure size 432x288 with 4 Axes>"
            ]
          },
          "metadata": {
            "tags": [],
            "needs_background": "light"
          }
        }
      ]
    },
    {
      "cell_type": "markdown",
      "metadata": {
        "id": "DwpLMd713xSl"
      },
      "source": [
        "Preparing train and test set for modeling"
      ]
    },
    {
      "cell_type": "code",
      "metadata": {
        "colab": {
          "base_uri": "https://localhost:8080/"
        },
        "id": "utQCxZjT8WqI",
        "outputId": "1aa0a6cb-56f1-4fc4-925a-20fa33fb392f"
      },
      "source": [
        "# dropping columns that will not be used for training the model\n",
        "train_diff = train.drop(['Close_log','Adj_sqrt','Close'],1)\n",
        "train_diff.shape"
      ],
      "execution_count": 30,
      "outputs": [
        {
          "output_type": "execute_result",
          "data": {
            "text/plain": [
              "(1825, 6)"
            ]
          },
          "metadata": {
            "tags": []
          },
          "execution_count": 30
        }
      ]
    },
    {
      "cell_type": "code",
      "metadata": {
        "colab": {
          "base_uri": "https://localhost:8080/",
          "height": 449
        },
        "id": "nNeuPOqOGHE5",
        "outputId": "657422b5-b1ac-4051-fb0b-bc15f5251c85"
      },
      "source": [
        "train_diff"
      ],
      "execution_count": 31,
      "outputs": [
        {
          "output_type": "execute_result",
          "data": {
            "text/html": [
              "<div>\n",
              "<style scoped>\n",
              "    .dataframe tbody tr th:only-of-type {\n",
              "        vertical-align: middle;\n",
              "    }\n",
              "\n",
              "    .dataframe tbody tr th {\n",
              "        vertical-align: top;\n",
              "    }\n",
              "\n",
              "    .dataframe thead th {\n",
              "        text-align: right;\n",
              "    }\n",
              "</style>\n",
              "<table border=\"1\" class=\"dataframe\">\n",
              "  <thead>\n",
              "    <tr style=\"text-align: right;\">\n",
              "      <th></th>\n",
              "      <th>Open</th>\n",
              "      <th>High</th>\n",
              "      <th>Low</th>\n",
              "      <th>Adj Close</th>\n",
              "      <th>Volume</th>\n",
              "      <th>Close_diff</th>\n",
              "    </tr>\n",
              "    <tr>\n",
              "      <th>Date</th>\n",
              "      <th></th>\n",
              "      <th></th>\n",
              "      <th></th>\n",
              "      <th></th>\n",
              "      <th></th>\n",
              "      <th></th>\n",
              "    </tr>\n",
              "  </thead>\n",
              "  <tbody>\n",
              "    <tr>\n",
              "      <th>2013-01-02</th>\n",
              "      <td>24.080000</td>\n",
              "      <td>24.120001</td>\n",
              "      <td>23.980000</td>\n",
              "      <td>16.935476</td>\n",
              "      <td>2812000</td>\n",
              "      <td>0.000000</td>\n",
              "    </tr>\n",
              "    <tr>\n",
              "      <th>2013-01-03</th>\n",
              "      <td>24.020000</td>\n",
              "      <td>24.115000</td>\n",
              "      <td>23.980000</td>\n",
              "      <td>16.903885</td>\n",
              "      <td>1941200</td>\n",
              "      <td>-0.045000</td>\n",
              "    </tr>\n",
              "    <tr>\n",
              "      <th>2013-01-04</th>\n",
              "      <td>23.959999</td>\n",
              "      <td>24.120001</td>\n",
              "      <td>23.959999</td>\n",
              "      <td>16.903885</td>\n",
              "      <td>1854800</td>\n",
              "      <td>0.000000</td>\n",
              "    </tr>\n",
              "    <tr>\n",
              "      <th>2013-01-05</th>\n",
              "      <td>23.995001</td>\n",
              "      <td>24.100000</td>\n",
              "      <td>23.975000</td>\n",
              "      <td>16.889841</td>\n",
              "      <td>1932200</td>\n",
              "      <td>-0.020000</td>\n",
              "    </tr>\n",
              "    <tr>\n",
              "      <th>2013-01-06</th>\n",
              "      <td>23.995001</td>\n",
              "      <td>24.100000</td>\n",
              "      <td>23.975000</td>\n",
              "      <td>16.889841</td>\n",
              "      <td>1932200</td>\n",
              "      <td>0.000000</td>\n",
              "    </tr>\n",
              "    <tr>\n",
              "      <th>...</th>\n",
              "      <td>...</td>\n",
              "      <td>...</td>\n",
              "      <td>...</td>\n",
              "      <td>...</td>\n",
              "      <td>...</td>\n",
              "      <td>...</td>\n",
              "    </tr>\n",
              "    <tr>\n",
              "      <th>2017-12-27</th>\n",
              "      <td>33.779999</td>\n",
              "      <td>33.799999</td>\n",
              "      <td>33.599998</td>\n",
              "      <td>29.914524</td>\n",
              "      <td>2566900</td>\n",
              "      <td>0.070000</td>\n",
              "    </tr>\n",
              "    <tr>\n",
              "      <th>2017-12-28</th>\n",
              "      <td>33.980000</td>\n",
              "      <td>34.200001</td>\n",
              "      <td>33.959999</td>\n",
              "      <td>30.260508</td>\n",
              "      <td>2445100</td>\n",
              "      <td>0.389999</td>\n",
              "    </tr>\n",
              "    <tr>\n",
              "      <th>2017-12-29</th>\n",
              "      <td>34.770000</td>\n",
              "      <td>34.950001</td>\n",
              "      <td>34.630001</td>\n",
              "      <td>30.783926</td>\n",
              "      <td>4096800</td>\n",
              "      <td>0.590000</td>\n",
              "    </tr>\n",
              "    <tr>\n",
              "      <th>2017-12-30</th>\n",
              "      <td>35.240002</td>\n",
              "      <td>35.439999</td>\n",
              "      <td>34.950001</td>\n",
              "      <td>31.387186</td>\n",
              "      <td>6107400</td>\n",
              "      <td>0.680000</td>\n",
              "    </tr>\n",
              "    <tr>\n",
              "      <th>2017-12-31</th>\n",
              "      <td>35.240002</td>\n",
              "      <td>35.439999</td>\n",
              "      <td>34.950001</td>\n",
              "      <td>31.387186</td>\n",
              "      <td>6107400</td>\n",
              "      <td>0.000000</td>\n",
              "    </tr>\n",
              "  </tbody>\n",
              "</table>\n",
              "<p>1825 rows × 6 columns</p>\n",
              "</div>"
            ],
            "text/plain": [
              "                 Open       High        Low  Adj Close   Volume  Close_diff\n",
              "Date                                                                       \n",
              "2013-01-02  24.080000  24.120001  23.980000  16.935476  2812000    0.000000\n",
              "2013-01-03  24.020000  24.115000  23.980000  16.903885  1941200   -0.045000\n",
              "2013-01-04  23.959999  24.120001  23.959999  16.903885  1854800    0.000000\n",
              "2013-01-05  23.995001  24.100000  23.975000  16.889841  1932200   -0.020000\n",
              "2013-01-06  23.995001  24.100000  23.975000  16.889841  1932200    0.000000\n",
              "...               ...        ...        ...        ...      ...         ...\n",
              "2017-12-27  33.779999  33.799999  33.599998  29.914524  2566900    0.070000\n",
              "2017-12-28  33.980000  34.200001  33.959999  30.260508  2445100    0.389999\n",
              "2017-12-29  34.770000  34.950001  34.630001  30.783926  4096800    0.590000\n",
              "2017-12-30  35.240002  35.439999  34.950001  31.387186  6107400    0.680000\n",
              "2017-12-31  35.240002  35.439999  34.950001  31.387186  6107400    0.000000\n",
              "\n",
              "[1825 rows x 6 columns]"
            ]
          },
          "metadata": {
            "tags": []
          },
          "execution_count": 31
        }
      ]
    },
    {
      "cell_type": "code",
      "metadata": {
        "id": "v4Vh8r_J3xoj"
      },
      "source": [
        "X_train = train_diff.drop('Close_diff', 1)\n",
        "X_test = test.drop('Close',1)\n",
        "\n",
        "y_train = train_diff['Close_diff'].values\n",
        "y_test = test['Close'].values"
      ],
      "execution_count": 32,
      "outputs": []
    },
    {
      "cell_type": "markdown",
      "metadata": {
        "id": "9_-CsPIyvsJi"
      },
      "source": [
        "**Linear Regression Model**"
      ]
    },
    {
      "cell_type": "code",
      "metadata": {
        "id": "MOA-8QZ-vuPF"
      },
      "source": [
        "from sklearn.linear_model import LinearRegression\n",
        "model = LinearRegression().fit(X_train,y_train)"
      ],
      "execution_count": 33,
      "outputs": []
    },
    {
      "cell_type": "code",
      "metadata": {
        "id": "yazSi_uGPQ8L"
      },
      "source": [
        "y_prediction = model.predict(X_test)"
      ],
      "execution_count": 34,
      "outputs": []
    },
    {
      "cell_type": "code",
      "metadata": {
        "colab": {
          "base_uri": "https://localhost:8080/"
        },
        "id": "h217DgsqWAQ9",
        "outputId": "2ca8806c-dfbc-4568-935f-f35aa74c98c3"
      },
      "source": [
        "predictions_diff = pd.Series(y_prediction, copy=True)\n",
        "\n",
        "print('Total no of predictions: ', len(predictions_diff))\n",
        "predictions_diff.head()"
      ],
      "execution_count": 35,
      "outputs": [
        {
          "output_type": "stream",
          "text": [
            "Total no of predictions:  730\n"
          ],
          "name": "stdout"
        },
        {
          "output_type": "execute_result",
          "data": {
            "text/plain": [
              "0   -0.019162\n",
              "1   -0.019162\n",
              "2    0.079653\n",
              "3   -0.053769\n",
              "4    0.102965\n",
              "dtype: float64"
            ]
          },
          "metadata": {
            "tags": []
          },
          "execution_count": 35
        }
      ]
    },
    {
      "cell_type": "code",
      "metadata": {
        "colab": {
          "base_uri": "https://localhost:8080/"
        },
        "id": "dJ_gaR2tWLtd",
        "outputId": "83bb501e-7e4f-4669-cbc3-e0142ee4b10f"
      },
      "source": [
        "# applying cumsum to the prediction to inverse the differencing applied to train set\n",
        "predictions_diff_cumsum = predictions_diff.cumsum()\n",
        "predictions_diff_cumsum.head()"
      ],
      "execution_count": 36,
      "outputs": [
        {
          "output_type": "execute_result",
          "data": {
            "text/plain": [
              "0   -0.019162\n",
              "1   -0.038323\n",
              "2    0.041330\n",
              "3   -0.012439\n",
              "4    0.090525\n",
              "dtype: float64"
            ]
          },
          "metadata": {
            "tags": []
          },
          "execution_count": 36
        }
      ]
    },
    {
      "cell_type": "code",
      "metadata": {
        "id": "zljqS6lMwCqt"
      },
      "source": [
        "# add values from predictions_diff_cumsum to last value in train['Close']\n",
        "last_price = train['Close'].iloc[-1] # Series of base number\n",
        "price_diff_rev = []\n",
        "\n",
        "for i in predictions_diff_cumsum:\n",
        "    close_pred = last_price + i\n",
        "    price_diff_rev.append(close_pred)"
      ],
      "execution_count": 37,
      "outputs": []
    },
    {
      "cell_type": "code",
      "metadata": {
        "id": "emobJyOxflEt"
      },
      "source": [
        "y_pred = np.array(price_diff_rev)"
      ],
      "execution_count": 38,
      "outputs": []
    },
    {
      "cell_type": "code",
      "metadata": {
        "colab": {
          "base_uri": "https://localhost:8080/"
        },
        "id": "CYCHy7UHPzEa",
        "outputId": "50bb04b4-ea29-432b-d9c1-21f4784ee698"
      },
      "source": [
        "from sklearn import metrics\n",
        "from sklearn.metrics import mean_squared_error, mean_absolute_error, mean_absolute_error, r2_score\n",
        "print (\"R2 of Linear Regresson:\", r2_score(y_test,y_pred) )\n",
        "print('MAE: ',metrics.mean_absolute_error(y_test, y_pred))\n",
        "print('MSE: ',metrics.mean_squared_error(y_test, y_pred))\n",
        "print('RMSE:',np.sqrt(metrics.mean_squared_error(y_test, y_pred)))"
      ],
      "execution_count": 39,
      "outputs": [
        {
          "output_type": "stream",
          "text": [
            "R2 of Linear Regresson: 0.8168717734359894\n",
            "MAE:  1.4015855824929555\n",
            "MSE:  3.0885890549710244\n",
            "RMSE: 1.757438208009324\n"
          ],
          "name": "stdout"
        }
      ]
    },
    {
      "cell_type": "code",
      "metadata": {
        "colab": {
          "base_uri": "https://localhost:8080/",
          "height": 328
        },
        "id": "rqySL6z-t8JN",
        "outputId": "8b53b678-27cd-417f-cebf-67665b478e8e"
      },
      "source": [
        "# plotting the close price from test set and predicted price\n",
        "forecast = pd.Series(y_pred, copy=True, index=test.index)\n",
        "plt.plot(test['Close'])\n",
        "plt.plot(forecast)\n",
        "plt.xticks(rotation=45)"
      ],
      "execution_count": 41,
      "outputs": [
        {
          "output_type": "execute_result",
          "data": {
            "text/plain": [
              "(array([736695., 736785., 736876., 736968., 737060., 737150., 737241.,\n",
              "        737333., 737425.]), <a list of 9 Text major ticklabel objects>)"
            ]
          },
          "metadata": {
            "tags": []
          },
          "execution_count": 41
        },
        {
          "output_type": "display_data",
          "data": {
            "image/png": "[encoded data removed]",
            "text/plain": [
              "<Figure size 432x288 with 1 Axes>"
            ]
          },
          "metadata": {
            "tags": [],
            "needs_background": "light"
          }
        }
      ]
    },
    {
      "cell_type": "markdown",
      "metadata": {
        "id": "OgY-rUuLaZvy"
      },
      "source": [
        "**KNN Regression**"
      ]
    },
    {
      "cell_type": "code",
      "metadata": {
        "colab": {
          "base_uri": "https://localhost:8080/"
        },
        "id": "Jh_DuKJ0fEzm",
        "outputId": "4cdc6731-3ed6-481e-d402-45f0f07a72b2"
      },
      "source": [
        "from sklearn.neighbors import KNeighborsRegressor\n",
        "\n",
        "Knn = KNeighborsRegressor(n_neighbors=3)\n",
        "Knn.fit(X_train, y_train)  "
      ],
      "execution_count": null,
      "outputs": [
        {
          "output_type": "execute_result",
          "data": {
            "text/plain": [
              "KNeighborsRegressor(algorithm='auto', leaf_size=30, metric='minkowski',\n",
              "                    metric_params=None, n_jobs=None, n_neighbors=3, p=2,\n",
              "                    weights='uniform')"
            ]
          },
          "metadata": {
            "tags": []
          },
          "execution_count": 89
        }
      ]
    },
    {
      "cell_type": "code",
      "metadata": {
        "id": "F6MgwWKmpyeH",
        "colab": {
          "base_uri": "https://localhost:8080/"
        },
        "outputId": "89a92bd9-3723-485e-ec7a-4db2d2ff5ce8"
      },
      "source": [
        "knn_y_pred = Knn.predict(X_test)\n",
        "print('MSE: ', mean_squared_error(y_test, knn_y_pred))\n",
        "print('RMSE:',np.sqrt(mean_squared_error(y_test, knn_y_pred)))"
      ],
      "execution_count": null,
      "outputs": [
        {
          "output_type": "stream",
          "text": [
            "MSE:  1583.3650698530105\n",
            "RMSE: 39.79152007467182\n"
          ],
          "name": "stdout"
        }
      ]
    }
  ]
}