{
  "nbformat": 4,
  "nbformat_minor": 0,
  "metadata": {
    "colab": {
      "name": "AstraZeneca Stock Prices.ipynb",
      "provenance": [],
      "collapsed_sections": [],
      "authorship_tag": "ABX9TyPDn7V0IKDWyNpSoQukVVPf"
    },
    "kernelspec": {
      "display_name": "Python 3",
      "name": "python3"
    },
    "language_info": {
      "name": "python"
    }
  },
  "cells": [
    {
      "cell_type": "markdown",
      "metadata": {
        "id": "AobJPrFpuCx-"
      },
      "source": [
        "# Predicting AstraZeneca Stock Prices\n",
        "### Melania Czobit\n"
      ]
    },
    {
      "cell_type": "code",
      "metadata": {
        "id": "s4ot9ScE3dFc"
      },
      "source": [
        "import warnings\n",
        "warnings.filterwarnings('ignore')"
      ],
      "execution_count": 1,
      "outputs": []
    },
    {
      "cell_type": "code",
      "metadata": {
        "colab": {
          "base_uri": "https://localhost:8080/"
        },
        "id": "HG4JPpqEt5Sa",
        "outputId": "c1a7b79b-5311-4ec2-ce91-dc9540bd40c8"
      },
      "source": [
        "!pip install yfinance\n",
        "\n",
        "import pandas as pd\n",
        "import numpy as np\n",
        "import matplotlib.pyplot as plt\n",
        "import yfinance as yf\n",
        "import seaborn as sns"
      ],
      "execution_count": 2,
      "outputs": [
        {
          "output_type": "stream",
          "text": [
            "Collecting yfinance\n",
            "  Downloading https://files.pythonhosted.org/packages/85/13/5c0605a41d3d811ef508858d7fe75031fa324ec4fc620c4be01ddf90025d/yfinance-0.1.61.tar.gz\n",
            "Requirement already satisfied: pandas>=0.24 in /usr/local/lib/python3.7/dist-packages (from yfinance) (1.1.5)\n",
            "Requirement already satisfied: numpy>=1.15 in /usr/local/lib/python3.7/dist-packages (from yfinance) (1.19.5)\n",
            "Requirement already satisfied: requests>=2.20 in /usr/local/lib/python3.7/dist-packages (from yfinance) (2.23.0)\n",
            "Requirement already satisfied: multitasking>=0.0.7 in /usr/local/lib/python3.7/dist-packages (from yfinance) (0.0.9)\n",
            "Collecting lxml>=4.5.1\n",
            "\u001b[?25l  Downloading https://files.pythonhosted.org/packages/30/c0/d0526314971fc661b083ab135747dc68446a3022686da8c16d25fcf6ef07/lxml-4.6.3-cp37-cp37m-manylinux2014_x86_64.whl (6.3MB)\n",
            "\u001b[K     |████████████████████████████████| 6.3MB 17.0MB/s \n",
            "\u001b[?25hRequirement already satisfied: pytz>=2017.2 in /usr/local/lib/python3.7/dist-packages (from pandas>=0.24->yfinance) (2018.9)\n",
            "Requirement already satisfied: python-dateutil>=2.7.3 in /usr/local/lib/python3.7/dist-packages (from pandas>=0.24->yfinance) (2.8.1)\n",
            "Requirement already satisfied: urllib3!=1.25.0,!=1.25.1,<1.26,>=1.21.1 in /usr/local/lib/python3.7/dist-packages (from requests>=2.20->yfinance) (1.24.3)\n",
            "Requirement already satisfied: certifi>=2017.4.17 in /usr/local/lib/python3.7/dist-packages (from requests>=2.20->yfinance) (2021.5.30)\n",
            "Requirement already satisfied: chardet<4,>=3.0.2 in /usr/local/lib/python3.7/dist-packages (from requests>=2.20->yfinance) (3.0.4)\n",
            "Requirement already satisfied: idna<3,>=2.5 in /usr/local/lib/python3.7/dist-packages (from requests>=2.20->yfinance) (2.10)\n",
            "Requirement already satisfied: six>=1.5 in /usr/local/lib/python3.7/dist-packages (from python-dateutil>=2.7.3->pandas>=0.24->yfinance) (1.15.0)\n",
            "Building wheels for collected packages: yfinance\n",
            "  Building wheel for yfinance (setup.py) ... \u001b[?25l\u001b[?25hdone\n",
            "  Created wheel for yfinance: filename=yfinance-0.1.61-py2.py3-none-any.whl size=23818 sha256=6d7eb903c14ce5417a751b228e110c1014261fd4b9b62e776a7c43d62a33ddd8\n",
            "  Stored in directory: /root/.cache/pip/wheels/9c/b3/31/b5f2bcf2e3fd3f42e5ca1a3d20ada27eae8cbda7de75a5a2a0\n",
            "Successfully built yfinance\n",
            "Installing collected packages: lxml, yfinance\n",
            "  Found existing installation: lxml 4.2.6\n",
            "    Uninstalling lxml-4.2.6:\n",
            "      Successfully uninstalled lxml-4.2.6\n",
            "Successfully installed lxml-4.6.3 yfinance-0.1.61\n"
          ],
          "name": "stdout"
        }
      ]
    },
    {
      "cell_type": "markdown",
      "metadata": {
        "id": "nDrk8RhZudGw"
      },
      "source": [
        "**Importing stock data**"
      ]
    },
    {
      "cell_type": "markdown",
      "metadata": {
        "id": "2xXXKcmQYUnT"
      },
      "source": [
        "The AZN stock price data will be obtained from Yahoo finance. "
      ]
    },
    {
      "cell_type": "code",
      "metadata": {
        "colab": {
          "base_uri": "https://localhost:8080/"
        },
        "id": "QQJOdJZhuQ6l",
        "outputId": "702df5ab-c3fe-435c-b6f8-32bbeffdef3a"
      },
      "source": [
        "df = yf.download('AZN','2012-12-31','2020-01-01')"
      ],
      "execution_count": 3,
      "outputs": [
        {
          "output_type": "stream",
          "text": [
            "\r[*********************100%***********************]  1 of 1 completed\n"
          ],
          "name": "stdout"
        }
      ]
    },
    {
      "cell_type": "markdown",
      "metadata": {
        "id": "FL6CpYHryvBU"
      },
      "source": [
        "**Data Preparation**"
      ]
    },
    {
      "cell_type": "code",
      "metadata": {
        "colab": {
          "base_uri": "https://localhost:8080/",
          "height": 235
        },
        "id": "7xH4VYRhvsr6",
        "outputId": "69f3c5f1-dce3-4c98-f76b-4792db737c3b"
      },
      "source": [
        "df.head()"
      ],
      "execution_count": null,
      "outputs": [
        {
          "output_type": "execute_result",
          "data": {
            "text/html": [
              "<div>\n",
              "<style scoped>\n",
              "    .dataframe tbody tr th:only-of-type {\n",
              "        vertical-align: middle;\n",
              "    }\n",
              "\n",
              "    .dataframe tbody tr th {\n",
              "        vertical-align: top;\n",
              "    }\n",
              "\n",
              "    .dataframe thead th {\n",
              "        text-align: right;\n",
              "    }\n",
              "</style>\n",
              "<table border=\"1\" class=\"dataframe\">\n",
              "  <thead>\n",
              "    <tr style=\"text-align: right;\">\n",
              "      <th></th>\n",
              "      <th>Open</th>\n",
              "      <th>High</th>\n",
              "      <th>Low</th>\n",
              "      <th>Close</th>\n",
              "      <th>Adj Close</th>\n",
              "      <th>Volume</th>\n",
              "    </tr>\n",
              "    <tr>\n",
              "      <th>Date</th>\n",
              "      <th></th>\n",
              "      <th></th>\n",
              "      <th></th>\n",
              "      <th></th>\n",
              "      <th></th>\n",
              "      <th></th>\n",
              "    </tr>\n",
              "  </thead>\n",
              "  <tbody>\n",
              "    <tr>\n",
              "      <th>2012-12-31</th>\n",
              "      <td>23.375000</td>\n",
              "      <td>23.660000</td>\n",
              "      <td>23.360001</td>\n",
              "      <td>23.635000</td>\n",
              "      <td>16.594944</td>\n",
              "      <td>1916600</td>\n",
              "    </tr>\n",
              "    <tr>\n",
              "      <th>2013-01-02</th>\n",
              "      <td>24.080000</td>\n",
              "      <td>24.120001</td>\n",
              "      <td>23.980000</td>\n",
              "      <td>24.120001</td>\n",
              "      <td>16.935476</td>\n",
              "      <td>2812000</td>\n",
              "    </tr>\n",
              "    <tr>\n",
              "      <th>2013-01-03</th>\n",
              "      <td>24.020000</td>\n",
              "      <td>24.115000</td>\n",
              "      <td>23.980000</td>\n",
              "      <td>24.075001</td>\n",
              "      <td>16.903885</td>\n",
              "      <td>1941200</td>\n",
              "    </tr>\n",
              "    <tr>\n",
              "      <th>2013-01-04</th>\n",
              "      <td>23.959999</td>\n",
              "      <td>24.120001</td>\n",
              "      <td>23.959999</td>\n",
              "      <td>24.075001</td>\n",
              "      <td>16.903885</td>\n",
              "      <td>1854800</td>\n",
              "    </tr>\n",
              "    <tr>\n",
              "      <th>2013-01-07</th>\n",
              "      <td>23.995001</td>\n",
              "      <td>24.100000</td>\n",
              "      <td>23.975000</td>\n",
              "      <td>24.055000</td>\n",
              "      <td>16.889841</td>\n",
              "      <td>1932200</td>\n",
              "    </tr>\n",
              "  </tbody>\n",
              "</table>\n",
              "</div>"
            ],
            "text/plain": [
              "                 Open       High        Low      Close  Adj Close   Volume\n",
              "Date                                                                      \n",
              "2012-12-31  23.375000  23.660000  23.360001  23.635000  16.594944  1916600\n",
              "2013-01-02  24.080000  24.120001  23.980000  24.120001  16.935476  2812000\n",
              "2013-01-03  24.020000  24.115000  23.980000  24.075001  16.903885  1941200\n",
              "2013-01-04  23.959999  24.120001  23.959999  24.075001  16.903885  1854800\n",
              "2013-01-07  23.995001  24.100000  23.975000  24.055000  16.889841  1932200"
            ]
          },
          "metadata": {
            "tags": []
          },
          "execution_count": 4
        }
      ]
    },
    {
      "cell_type": "code",
      "metadata": {
        "colab": {
          "base_uri": "https://localhost:8080/"
        },
        "id": "LfFkA-lPcTlh",
        "outputId": "ba00d63b-7492-4771-9f9f-9a67e05d41d4"
      },
      "source": [
        "df.info()"
      ],
      "execution_count": null,
      "outputs": [
        {
          "output_type": "stream",
          "text": [
            "<class 'pandas.core.frame.DataFrame'>\n",
            "DatetimeIndex: 1763 entries, 2012-12-31 to 2019-12-31\n",
            "Data columns (total 6 columns):\n",
            " #   Column     Non-Null Count  Dtype  \n",
            "---  ------     --------------  -----  \n",
            " 0   Open       1763 non-null   float64\n",
            " 1   High       1763 non-null   float64\n",
            " 2   Low        1763 non-null   float64\n",
            " 3   Close      1763 non-null   float64\n",
            " 4   Adj Close  1763 non-null   float64\n",
            " 5   Volume     1763 non-null   int64  \n",
            "dtypes: float64(5), int64(1)\n",
            "memory usage: 96.4 KB\n"
          ],
          "name": "stdout"
        }
      ]
    },
    {
      "cell_type": "markdown",
      "metadata": {
        "id": "05L8kBTgXXE3"
      },
      "source": [
        "The dataset is missing a few days - weekends and holidays are not in the dataset. These values will be added into the dataset by backfilling. "
      ]
    },
    {
      "cell_type": "code",
      "metadata": {
        "colab": {
          "base_uri": "https://localhost:8080/",
          "height": 455
        },
        "id": "2bWqV3OhZIcF",
        "outputId": "5448aedf-9001-41fe-e5f4-b8c8822f5818"
      },
      "source": [
        "df = df.resample('D').bfill()\n",
        "df"
      ],
      "execution_count": 4,
      "outputs": [
        {
          "output_type": "execute_result",
          "data": {
            "text/html": [
              "<div>\n",
              "<style scoped>\n",
              "    .dataframe tbody tr th:only-of-type {\n",
              "        vertical-align: middle;\n",
              "    }\n",
              "\n",
              "    .dataframe tbody tr th {\n",
              "        vertical-align: top;\n",
              "    }\n",
              "\n",
              "    .dataframe thead th {\n",
              "        text-align: right;\n",
              "    }\n",
              "</style>\n",
              "<table border=\"1\" class=\"dataframe\">\n",
              "  <thead>\n",
              "    <tr style=\"text-align: right;\">\n",
              "      <th></th>\n",
              "      <th>Open</th>\n",
              "      <th>High</th>\n",
              "      <th>Low</th>\n",
              "      <th>Close</th>\n",
              "      <th>Adj Close</th>\n",
              "      <th>Volume</th>\n",
              "    </tr>\n",
              "    <tr>\n",
              "      <th>Date</th>\n",
              "      <th></th>\n",
              "      <th></th>\n",
              "      <th></th>\n",
              "      <th></th>\n",
              "      <th></th>\n",
              "      <th></th>\n",
              "    </tr>\n",
              "  </thead>\n",
              "  <tbody>\n",
              "    <tr>\n",
              "      <th>2012-12-31</th>\n",
              "      <td>23.375000</td>\n",
              "      <td>23.660000</td>\n",
              "      <td>23.360001</td>\n",
              "      <td>23.635000</td>\n",
              "      <td>16.594944</td>\n",
              "      <td>1916600</td>\n",
              "    </tr>\n",
              "    <tr>\n",
              "      <th>2013-01-01</th>\n",
              "      <td>24.080000</td>\n",
              "      <td>24.120001</td>\n",
              "      <td>23.980000</td>\n",
              "      <td>24.120001</td>\n",
              "      <td>16.935476</td>\n",
              "      <td>2812000</td>\n",
              "    </tr>\n",
              "    <tr>\n",
              "      <th>2013-01-02</th>\n",
              "      <td>24.080000</td>\n",
              "      <td>24.120001</td>\n",
              "      <td>23.980000</td>\n",
              "      <td>24.120001</td>\n",
              "      <td>16.935476</td>\n",
              "      <td>2812000</td>\n",
              "    </tr>\n",
              "    <tr>\n",
              "      <th>2013-01-03</th>\n",
              "      <td>24.020000</td>\n",
              "      <td>24.115000</td>\n",
              "      <td>23.980000</td>\n",
              "      <td>24.075001</td>\n",
              "      <td>16.903885</td>\n",
              "      <td>1941200</td>\n",
              "    </tr>\n",
              "    <tr>\n",
              "      <th>2013-01-04</th>\n",
              "      <td>23.959999</td>\n",
              "      <td>24.120001</td>\n",
              "      <td>23.959999</td>\n",
              "      <td>24.075001</td>\n",
              "      <td>16.903885</td>\n",
              "      <td>1854800</td>\n",
              "    </tr>\n",
              "    <tr>\n",
              "      <th>...</th>\n",
              "      <td>...</td>\n",
              "      <td>...</td>\n",
              "      <td>...</td>\n",
              "      <td>...</td>\n",
              "      <td>...</td>\n",
              "      <td>...</td>\n",
              "    </tr>\n",
              "    <tr>\n",
              "      <th>2019-12-27</th>\n",
              "      <td>50.570000</td>\n",
              "      <td>50.660000</td>\n",
              "      <td>50.299999</td>\n",
              "      <td>50.439999</td>\n",
              "      <td>48.110725</td>\n",
              "      <td>1636200</td>\n",
              "    </tr>\n",
              "    <tr>\n",
              "      <th>2019-12-28</th>\n",
              "      <td>50.830002</td>\n",
              "      <td>50.840000</td>\n",
              "      <td>49.810001</td>\n",
              "      <td>50.009998</td>\n",
              "      <td>47.700581</td>\n",
              "      <td>1960300</td>\n",
              "    </tr>\n",
              "    <tr>\n",
              "      <th>2019-12-29</th>\n",
              "      <td>50.830002</td>\n",
              "      <td>50.840000</td>\n",
              "      <td>49.810001</td>\n",
              "      <td>50.009998</td>\n",
              "      <td>47.700581</td>\n",
              "      <td>1960300</td>\n",
              "    </tr>\n",
              "    <tr>\n",
              "      <th>2019-12-30</th>\n",
              "      <td>50.830002</td>\n",
              "      <td>50.840000</td>\n",
              "      <td>49.810001</td>\n",
              "      <td>50.009998</td>\n",
              "      <td>47.700581</td>\n",
              "      <td>1960300</td>\n",
              "    </tr>\n",
              "    <tr>\n",
              "      <th>2019-12-31</th>\n",
              "      <td>49.770000</td>\n",
              "      <td>49.939999</td>\n",
              "      <td>49.680000</td>\n",
              "      <td>49.860001</td>\n",
              "      <td>47.557510</td>\n",
              "      <td>1750000</td>\n",
              "    </tr>\n",
              "  </tbody>\n",
              "</table>\n",
              "<p>2557 rows × 6 columns</p>\n",
              "</div>"
            ],
            "text/plain": [
              "                 Open       High        Low      Close  Adj Close   Volume\n",
              "Date                                                                      \n",
              "2012-12-31  23.375000  23.660000  23.360001  23.635000  16.594944  1916600\n",
              "2013-01-01  24.080000  24.120001  23.980000  24.120001  16.935476  2812000\n",
              "2013-01-02  24.080000  24.120001  23.980000  24.120001  16.935476  2812000\n",
              "2013-01-03  24.020000  24.115000  23.980000  24.075001  16.903885  1941200\n",
              "2013-01-04  23.959999  24.120001  23.959999  24.075001  16.903885  1854800\n",
              "...               ...        ...        ...        ...        ...      ...\n",
              "2019-12-27  50.570000  50.660000  50.299999  50.439999  48.110725  1636200\n",
              "2019-12-28  50.830002  50.840000  49.810001  50.009998  47.700581  1960300\n",
              "2019-12-29  50.830002  50.840000  49.810001  50.009998  47.700581  1960300\n",
              "2019-12-30  50.830002  50.840000  49.810001  50.009998  47.700581  1960300\n",
              "2019-12-31  49.770000  49.939999  49.680000  49.860001  47.557510  1750000\n",
              "\n",
              "[2557 rows x 6 columns]"
            ]
          },
          "metadata": {
            "tags": []
          },
          "execution_count": 4
        }
      ]
    },
    {
      "cell_type": "markdown",
      "metadata": {
        "id": "FHu1RyeyXlkc"
      },
      "source": [
        "The first row, with date 2012-12-31, will be omitted. It was required to backfill the row for 2013-01-01. "
      ]
    },
    {
      "cell_type": "code",
      "metadata": {
        "colab": {
          "base_uri": "https://localhost:8080/",
          "height": 455
        },
        "id": "dFTv6rmnFbxi",
        "outputId": "a1abc79f-2c0d-48bf-843e-5a991d9767c0"
      },
      "source": [
        "df = df.iloc[1:]\n",
        "df"
      ],
      "execution_count": 5,
      "outputs": [
        {
          "output_type": "execute_result",
          "data": {
            "text/html": [
              "<div>\n",
              "<style scoped>\n",
              "    .dataframe tbody tr th:only-of-type {\n",
              "        vertical-align: middle;\n",
              "    }\n",
              "\n",
              "    .dataframe tbody tr th {\n",
              "        vertical-align: top;\n",
              "    }\n",
              "\n",
              "    .dataframe thead th {\n",
              "        text-align: right;\n",
              "    }\n",
              "</style>\n",
              "<table border=\"1\" class=\"dataframe\">\n",
              "  <thead>\n",
              "    <tr style=\"text-align: right;\">\n",
              "      <th></th>\n",
              "      <th>Open</th>\n",
              "      <th>High</th>\n",
              "      <th>Low</th>\n",
              "      <th>Close</th>\n",
              "      <th>Adj Close</th>\n",
              "      <th>Volume</th>\n",
              "    </tr>\n",
              "    <tr>\n",
              "      <th>Date</th>\n",
              "      <th></th>\n",
              "      <th></th>\n",
              "      <th></th>\n",
              "      <th></th>\n",
              "      <th></th>\n",
              "      <th></th>\n",
              "    </tr>\n",
              "  </thead>\n",
              "  <tbody>\n",
              "    <tr>\n",
              "      <th>2013-01-01</th>\n",
              "      <td>24.080000</td>\n",
              "      <td>24.120001</td>\n",
              "      <td>23.980000</td>\n",
              "      <td>24.120001</td>\n",
              "      <td>16.935476</td>\n",
              "      <td>2812000</td>\n",
              "    </tr>\n",
              "    <tr>\n",
              "      <th>2013-01-02</th>\n",
              "      <td>24.080000</td>\n",
              "      <td>24.120001</td>\n",
              "      <td>23.980000</td>\n",
              "      <td>24.120001</td>\n",
              "      <td>16.935476</td>\n",
              "      <td>2812000</td>\n",
              "    </tr>\n",
              "    <tr>\n",
              "      <th>2013-01-03</th>\n",
              "      <td>24.020000</td>\n",
              "      <td>24.115000</td>\n",
              "      <td>23.980000</td>\n",
              "      <td>24.075001</td>\n",
              "      <td>16.903885</td>\n",
              "      <td>1941200</td>\n",
              "    </tr>\n",
              "    <tr>\n",
              "      <th>2013-01-04</th>\n",
              "      <td>23.959999</td>\n",
              "      <td>24.120001</td>\n",
              "      <td>23.959999</td>\n",
              "      <td>24.075001</td>\n",
              "      <td>16.903885</td>\n",
              "      <td>1854800</td>\n",
              "    </tr>\n",
              "    <tr>\n",
              "      <th>2013-01-05</th>\n",
              "      <td>23.995001</td>\n",
              "      <td>24.100000</td>\n",
              "      <td>23.975000</td>\n",
              "      <td>24.055000</td>\n",
              "      <td>16.889841</td>\n",
              "      <td>1932200</td>\n",
              "    </tr>\n",
              "    <tr>\n",
              "      <th>...</th>\n",
              "      <td>...</td>\n",
              "      <td>...</td>\n",
              "      <td>...</td>\n",
              "      <td>...</td>\n",
              "      <td>...</td>\n",
              "      <td>...</td>\n",
              "    </tr>\n",
              "    <tr>\n",
              "      <th>2019-12-27</th>\n",
              "      <td>50.570000</td>\n",
              "      <td>50.660000</td>\n",
              "      <td>50.299999</td>\n",
              "      <td>50.439999</td>\n",
              "      <td>48.110725</td>\n",
              "      <td>1636200</td>\n",
              "    </tr>\n",
              "    <tr>\n",
              "      <th>2019-12-28</th>\n",
              "      <td>50.830002</td>\n",
              "      <td>50.840000</td>\n",
              "      <td>49.810001</td>\n",
              "      <td>50.009998</td>\n",
              "      <td>47.700581</td>\n",
              "      <td>1960300</td>\n",
              "    </tr>\n",
              "    <tr>\n",
              "      <th>2019-12-29</th>\n",
              "      <td>50.830002</td>\n",
              "      <td>50.840000</td>\n",
              "      <td>49.810001</td>\n",
              "      <td>50.009998</td>\n",
              "      <td>47.700581</td>\n",
              "      <td>1960300</td>\n",
              "    </tr>\n",
              "    <tr>\n",
              "      <th>2019-12-30</th>\n",
              "      <td>50.830002</td>\n",
              "      <td>50.840000</td>\n",
              "      <td>49.810001</td>\n",
              "      <td>50.009998</td>\n",
              "      <td>47.700581</td>\n",
              "      <td>1960300</td>\n",
              "    </tr>\n",
              "    <tr>\n",
              "      <th>2019-12-31</th>\n",
              "      <td>49.770000</td>\n",
              "      <td>49.939999</td>\n",
              "      <td>49.680000</td>\n",
              "      <td>49.860001</td>\n",
              "      <td>47.557510</td>\n",
              "      <td>1750000</td>\n",
              "    </tr>\n",
              "  </tbody>\n",
              "</table>\n",
              "<p>2556 rows × 6 columns</p>\n",
              "</div>"
            ],
            "text/plain": [
              "                 Open       High        Low      Close  Adj Close   Volume\n",
              "Date                                                                      \n",
              "2013-01-01  24.080000  24.120001  23.980000  24.120001  16.935476  2812000\n",
              "2013-01-02  24.080000  24.120001  23.980000  24.120001  16.935476  2812000\n",
              "2013-01-03  24.020000  24.115000  23.980000  24.075001  16.903885  1941200\n",
              "2013-01-04  23.959999  24.120001  23.959999  24.075001  16.903885  1854800\n",
              "2013-01-05  23.995001  24.100000  23.975000  24.055000  16.889841  1932200\n",
              "...               ...        ...        ...        ...        ...      ...\n",
              "2019-12-27  50.570000  50.660000  50.299999  50.439999  48.110725  1636200\n",
              "2019-12-28  50.830002  50.840000  49.810001  50.009998  47.700581  1960300\n",
              "2019-12-29  50.830002  50.840000  49.810001  50.009998  47.700581  1960300\n",
              "2019-12-30  50.830002  50.840000  49.810001  50.009998  47.700581  1960300\n",
              "2019-12-31  49.770000  49.939999  49.680000  49.860001  47.557510  1750000\n",
              "\n",
              "[2556 rows x 6 columns]"
            ]
          },
          "metadata": {
            "tags": []
          },
          "execution_count": 5
        }
      ]
    },
    {
      "cell_type": "code",
      "metadata": {
        "colab": {
          "base_uri": "https://localhost:8080/"
        },
        "id": "2gic84BRbxOj",
        "outputId": "49c903eb-33f1-4614-f97a-61216ea8c6a0"
      },
      "source": [
        "df.info()"
      ],
      "execution_count": null,
      "outputs": [
        {
          "output_type": "stream",
          "text": [
            "<class 'pandas.core.frame.DataFrame'>\n",
            "DatetimeIndex: 2556 entries, 2013-01-01 to 2019-12-31\n",
            "Freq: D\n",
            "Data columns (total 6 columns):\n",
            " #   Column     Non-Null Count  Dtype  \n",
            "---  ------     --------------  -----  \n",
            " 0   Open       2556 non-null   float64\n",
            " 1   High       2556 non-null   float64\n",
            " 2   Low        2556 non-null   float64\n",
            " 3   Close      2556 non-null   float64\n",
            " 4   Adj Close  2556 non-null   float64\n",
            " 5   Volume     2556 non-null   int64  \n",
            "dtypes: float64(5), int64(1)\n",
            "memory usage: 139.8 KB\n"
          ],
          "name": "stdout"
        }
      ]
    },
    {
      "cell_type": "code",
      "metadata": {
        "colab": {
          "base_uri": "https://localhost:8080/",
          "height": 235
        },
        "id": "D7-7rjULbyOu",
        "outputId": "85d37ce0-82fc-435a-9731-8b8091bd79cd"
      },
      "source": [
        "df.head()"
      ],
      "execution_count": null,
      "outputs": [
        {
          "output_type": "execute_result",
          "data": {
            "text/html": [
              "<div>\n",
              "<style scoped>\n",
              "    .dataframe tbody tr th:only-of-type {\n",
              "        vertical-align: middle;\n",
              "    }\n",
              "\n",
              "    .dataframe tbody tr th {\n",
              "        vertical-align: top;\n",
              "    }\n",
              "\n",
              "    .dataframe thead th {\n",
              "        text-align: right;\n",
              "    }\n",
              "</style>\n",
              "<table border=\"1\" class=\"dataframe\">\n",
              "  <thead>\n",
              "    <tr style=\"text-align: right;\">\n",
              "      <th></th>\n",
              "      <th>Open</th>\n",
              "      <th>High</th>\n",
              "      <th>Low</th>\n",
              "      <th>Close</th>\n",
              "      <th>Adj Close</th>\n",
              "      <th>Volume</th>\n",
              "    </tr>\n",
              "    <tr>\n",
              "      <th>Date</th>\n",
              "      <th></th>\n",
              "      <th></th>\n",
              "      <th></th>\n",
              "      <th></th>\n",
              "      <th></th>\n",
              "      <th></th>\n",
              "    </tr>\n",
              "  </thead>\n",
              "  <tbody>\n",
              "    <tr>\n",
              "      <th>2013-01-01</th>\n",
              "      <td>24.080000</td>\n",
              "      <td>24.120001</td>\n",
              "      <td>23.980000</td>\n",
              "      <td>24.120001</td>\n",
              "      <td>16.935476</td>\n",
              "      <td>2812000</td>\n",
              "    </tr>\n",
              "    <tr>\n",
              "      <th>2013-01-02</th>\n",
              "      <td>24.080000</td>\n",
              "      <td>24.120001</td>\n",
              "      <td>23.980000</td>\n",
              "      <td>24.120001</td>\n",
              "      <td>16.935476</td>\n",
              "      <td>2812000</td>\n",
              "    </tr>\n",
              "    <tr>\n",
              "      <th>2013-01-03</th>\n",
              "      <td>24.020000</td>\n",
              "      <td>24.115000</td>\n",
              "      <td>23.980000</td>\n",
              "      <td>24.075001</td>\n",
              "      <td>16.903885</td>\n",
              "      <td>1941200</td>\n",
              "    </tr>\n",
              "    <tr>\n",
              "      <th>2013-01-04</th>\n",
              "      <td>23.959999</td>\n",
              "      <td>24.120001</td>\n",
              "      <td>23.959999</td>\n",
              "      <td>24.075001</td>\n",
              "      <td>16.903885</td>\n",
              "      <td>1854800</td>\n",
              "    </tr>\n",
              "    <tr>\n",
              "      <th>2013-01-05</th>\n",
              "      <td>23.995001</td>\n",
              "      <td>24.100000</td>\n",
              "      <td>23.975000</td>\n",
              "      <td>24.055000</td>\n",
              "      <td>16.889841</td>\n",
              "      <td>1932200</td>\n",
              "    </tr>\n",
              "  </tbody>\n",
              "</table>\n",
              "</div>"
            ],
            "text/plain": [
              "                 Open       High        Low      Close  Adj Close   Volume\n",
              "Date                                                                      \n",
              "2013-01-01  24.080000  24.120001  23.980000  24.120001  16.935476  2812000\n",
              "2013-01-02  24.080000  24.120001  23.980000  24.120001  16.935476  2812000\n",
              "2013-01-03  24.020000  24.115000  23.980000  24.075001  16.903885  1941200\n",
              "2013-01-04  23.959999  24.120001  23.959999  24.075001  16.903885  1854800\n",
              "2013-01-05  23.995001  24.100000  23.975000  24.055000  16.889841  1932200"
            ]
          },
          "metadata": {
            "tags": []
          },
          "execution_count": 9
        }
      ]
    },
    {
      "cell_type": "code",
      "metadata": {
        "colab": {
          "base_uri": "https://localhost:8080/",
          "height": 296
        },
        "id": "InSAHbifvvtu",
        "outputId": "90989d46-e3d3-4d0a-d472-9dfe0439e646"
      },
      "source": [
        "df.describe()"
      ],
      "execution_count": null,
      "outputs": [
        {
          "output_type": "execute_result",
          "data": {
            "text/html": [
              "<div>\n",
              "<style scoped>\n",
              "    .dataframe tbody tr th:only-of-type {\n",
              "        vertical-align: middle;\n",
              "    }\n",
              "\n",
              "    .dataframe tbody tr th {\n",
              "        vertical-align: top;\n",
              "    }\n",
              "\n",
              "    .dataframe thead th {\n",
              "        text-align: right;\n",
              "    }\n",
              "</style>\n",
              "<table border=\"1\" class=\"dataframe\">\n",
              "  <thead>\n",
              "    <tr style=\"text-align: right;\">\n",
              "      <th></th>\n",
              "      <th>Open</th>\n",
              "      <th>High</th>\n",
              "      <th>Low</th>\n",
              "      <th>Close</th>\n",
              "      <th>Adj Close</th>\n",
              "      <th>Volume</th>\n",
              "    </tr>\n",
              "  </thead>\n",
              "  <tbody>\n",
              "    <tr>\n",
              "      <th>count</th>\n",
              "      <td>2556.000000</td>\n",
              "      <td>2556.000000</td>\n",
              "      <td>2556.000000</td>\n",
              "      <td>2556.000000</td>\n",
              "      <td>2556.000000</td>\n",
              "      <td>2.556000e+03</td>\n",
              "    </tr>\n",
              "    <tr>\n",
              "      <th>mean</th>\n",
              "      <td>33.604810</td>\n",
              "      <td>33.817005</td>\n",
              "      <td>33.396299</td>\n",
              "      <td>33.609597</td>\n",
              "      <td>28.449691</td>\n",
              "      <td>4.351601e+06</td>\n",
              "    </tr>\n",
              "    <tr>\n",
              "      <th>std</th>\n",
              "      <td>5.512456</td>\n",
              "      <td>5.542782</td>\n",
              "      <td>5.461036</td>\n",
              "      <td>5.494346</td>\n",
              "      <td>6.639866</td>\n",
              "      <td>3.781834e+06</td>\n",
              "    </tr>\n",
              "    <tr>\n",
              "      <th>min</th>\n",
              "      <td>22.370001</td>\n",
              "      <td>22.385000</td>\n",
              "      <td>22.230000</td>\n",
              "      <td>22.334999</td>\n",
              "      <td>16.336739</td>\n",
              "      <td>7.558000e+05</td>\n",
              "    </tr>\n",
              "    <tr>\n",
              "      <th>25%</th>\n",
              "      <td>29.600000</td>\n",
              "      <td>29.815000</td>\n",
              "      <td>29.500000</td>\n",
              "      <td>29.655000</td>\n",
              "      <td>24.651939</td>\n",
              "      <td>2.574800e+06</td>\n",
              "    </tr>\n",
              "    <tr>\n",
              "      <th>50%</th>\n",
              "      <td>33.732500</td>\n",
              "      <td>34.035000</td>\n",
              "      <td>33.599998</td>\n",
              "      <td>33.840000</td>\n",
              "      <td>27.463512</td>\n",
              "      <td>3.566650e+06</td>\n",
              "    </tr>\n",
              "    <tr>\n",
              "      <th>75%</th>\n",
              "      <td>36.759998</td>\n",
              "      <td>36.980000</td>\n",
              "      <td>36.560001</td>\n",
              "      <td>36.778751</td>\n",
              "      <td>31.883987</td>\n",
              "      <td>4.868800e+06</td>\n",
              "    </tr>\n",
              "    <tr>\n",
              "      <th>max</th>\n",
              "      <td>50.830002</td>\n",
              "      <td>51.230000</td>\n",
              "      <td>50.330002</td>\n",
              "      <td>50.459999</td>\n",
              "      <td>48.129799</td>\n",
              "      <td>5.746580e+07</td>\n",
              "    </tr>\n",
              "  </tbody>\n",
              "</table>\n",
              "</div>"
            ],
            "text/plain": [
              "              Open         High  ...    Adj Close        Volume\n",
              "count  2556.000000  2556.000000  ...  2556.000000  2.556000e+03\n",
              "mean     33.604810    33.817005  ...    28.449691  4.351601e+06\n",
              "std       5.512456     5.542782  ...     6.639866  3.781834e+06\n",
              "min      22.370001    22.385000  ...    16.336739  7.558000e+05\n",
              "25%      29.600000    29.815000  ...    24.651939  2.574800e+06\n",
              "50%      33.732500    34.035000  ...    27.463512  3.566650e+06\n",
              "75%      36.759998    36.980000  ...    31.883987  4.868800e+06\n",
              "max      50.830002    51.230000  ...    48.129799  5.746580e+07\n",
              "\n",
              "[8 rows x 6 columns]"
            ]
          },
          "metadata": {
            "tags": []
          },
          "execution_count": 10
        }
      ]
    },
    {
      "cell_type": "code",
      "metadata": {
        "colab": {
          "base_uri": "https://localhost:8080/"
        },
        "id": "NyqeiIS1cqLi",
        "outputId": "4c1b4a49-a5e5-4881-be36-4c79d4ff3cb3"
      },
      "source": [
        "df.shape"
      ],
      "execution_count": null,
      "outputs": [
        {
          "output_type": "execute_result",
          "data": {
            "text/plain": [
              "(2556, 6)"
            ]
          },
          "metadata": {
            "tags": []
          },
          "execution_count": 11
        }
      ]
    },
    {
      "cell_type": "code",
      "metadata": {
        "colab": {
          "base_uri": "https://localhost:8080/"
        },
        "id": "q20Sid1wyBLc",
        "outputId": "ef79a5d4-cf39-44d8-b0ad-a350103318ef"
      },
      "source": [
        "df.isnull().values.any()"
      ],
      "execution_count": null,
      "outputs": [
        {
          "output_type": "execute_result",
          "data": {
            "text/plain": [
              "False"
            ]
          },
          "metadata": {
            "tags": []
          },
          "execution_count": 12
        }
      ]
    },
    {
      "cell_type": "code",
      "metadata": {
        "colab": {
          "base_uri": "https://localhost:8080/"
        },
        "id": "AMtu-CpiF0kB",
        "outputId": "5128d977-4a10-4af9-9037-963304e36cc6"
      },
      "source": [
        "df.isnull().sum()"
      ],
      "execution_count": null,
      "outputs": [
        {
          "output_type": "execute_result",
          "data": {
            "text/plain": [
              "Open         0\n",
              "High         0\n",
              "Low          0\n",
              "Close        0\n",
              "Adj Close    0\n",
              "Volume       0\n",
              "dtype: int64"
            ]
          },
          "metadata": {
            "tags": []
          },
          "execution_count": 13
        }
      ]
    },
    {
      "cell_type": "markdown",
      "metadata": {
        "id": "KcUCM4SZ6UbO"
      },
      "source": [
        "**Splitting into train and test set**"
      ]
    },
    {
      "cell_type": "markdown",
      "metadata": {
        "id": "88SVSoL7-Kkq"
      },
      "source": [
        "The data will be split into a train and test set.  The data preparation will be applied to the train set only to prevent leaking information from the test set."
      ]
    },
    {
      "cell_type": "code",
      "metadata": {
        "id": "S7aXI9HM5IUN"
      },
      "source": [
        "train = df.iloc[:-730,:]\n",
        "test = df.iloc[-730:,:]"
      ],
      "execution_count": 6,
      "outputs": []
    },
    {
      "cell_type": "code",
      "metadata": {
        "colab": {
          "base_uri": "https://localhost:8080/",
          "height": 287
        },
        "id": "wErEL2ZSySB4",
        "outputId": "c18469f3-fe23-4d89-c8c8-e70bb34e5824"
      },
      "source": [
        "corr_matrix=train.corr()\n",
        "sns.heatmap(corr_matrix,cmap='YlGnBu',annot=True)"
      ],
      "execution_count": null,
      "outputs": [
        {
          "output_type": "execute_result",
          "data": {
            "text/plain": [
              "<matplotlib.axes._subplots.AxesSubplot at 0x7f144dc9b350>"
            ]
          },
          "metadata": {
            "tags": []
          },
          "execution_count": 15
        },
        {
          "output_type": "display_data",
          "data": {
            "image/png": "[encoded data removed]",
            "text/plain": [
              "<Figure size 432x288 with 2 Axes>"
            ]
          },
          "metadata": {
            "tags": [],
            "needs_background": "light"
          }
        }
      ]
    },
    {
      "cell_type": "code",
      "metadata": {
        "colab": {
          "base_uri": "https://localhost:8080/",
          "height": 345
        },
        "id": "FhErbeuQv19O",
        "outputId": "e4054e67-b1b8-403a-e843-df3e7ce28b25"
      },
      "source": [
        "figure, axis = plt.subplots(ncols=5, figsize = (20,5))\n",
        "axis[0].plot(train[\"Open\"])\n",
        "axis[0].set_title(\"Open\")\n",
        "axis[0].set_xlabel(\"Date\")\n",
        "axis[0].set_ylabel(\"Price\")\n",
        "\n",
        "axis[1].plot(train[\"High\"])\n",
        "axis[1].set_title(\"High\")\n",
        "axis[1].set_xlabel(\"Date\")\n",
        "axis[1].set_ylabel(\"Price\")\n",
        "\n",
        "axis[2].plot(train[\"Low\"])\n",
        "axis[2].set_title(\"Low\")\n",
        "axis[2].set_xlabel(\"Date\")\n",
        "axis[2].set_ylabel(\"Price\")\n",
        "\n",
        "axis[3].plot(train[\"Close\"])\n",
        "axis[3].set_title(\"Close\")\n",
        "axis[3].set_xlabel(\"Date\")\n",
        "axis[3].set_ylabel(\"Price\")\n",
        "\n",
        "axis[4].plot(train[\"Adj Close\"])\n",
        "axis[4].set_title(\"Adj Close\")\n",
        "axis[4].set_xlabel(\"Date\")\n",
        "axis[4].set_ylabel(\"Price\")\n",
        "\n",
        "plt.show()"
      ],
      "execution_count": 7,
      "outputs": [
        {
          "output_type": "display_data",
          "data": {
            "image/png": "[encoded data removed]",
            "text/plain": [
              "<Figure size 1440x360 with 5 Axes>"
            ]
          },
          "metadata": {
            "tags": [],
            "needs_background": "light"
          }
        }
      ]
    },
    {
      "cell_type": "code",
      "metadata": {
        "colab": {
          "base_uri": "https://localhost:8080/",
          "height": 299
        },
        "id": "ARAcPYHnHkY5",
        "outputId": "a61f3b9a-c7cd-413b-f49e-cf6ed600d40f"
      },
      "source": [
        "boxplot1 = train.boxplot(column=['Open','High','Low','Close','Adj Close'])\n",
        "plt.title('Distribution of Stock Price Attributes')\n",
        "plt.ylabel('Price')"
      ],
      "execution_count": 18,
      "outputs": [
        {
          "output_type": "execute_result",
          "data": {
            "text/plain": [
              "Text(0, 0.5, 'Price')"
            ]
          },
          "metadata": {
            "tags": []
          },
          "execution_count": 18
        },
        {
          "output_type": "display_data",
          "data": {
            "image/png": "[encoded data removed]",
            "text/plain": [
              "<Figure size 432x288 with 1 Axes>"
            ]
          },
          "metadata": {
            "tags": [],
            "needs_background": "light"
          }
        }
      ]
    },
    {
      "cell_type": "code",
      "metadata": {
        "colab": {
          "base_uri": "https://localhost:8080/",
          "height": 299
        },
        "id": "de7dg76dJsRk",
        "outputId": "4c1a283d-c7a7-44ee-9f05-6f5e36c31006"
      },
      "source": [
        "boxplot2 = train.boxplot('Volume')\n",
        "plt.title('Distirbution of Stock Volume')\n",
        "plt.ylabel(\"Number of Shares (e7)\")"
      ],
      "execution_count": 21,
      "outputs": [
        {
          "output_type": "execute_result",
          "data": {
            "text/plain": [
              "Text(0, 0.5, 'Number of Shares (e7)')"
            ]
          },
          "metadata": {
            "tags": []
          },
          "execution_count": 21
        },
        {
          "output_type": "display_data",
          "data": {
            "image/png": "[encoded data removed]",
            "text/plain": [
              "<Figure size 432x288 with 1 Axes>"
            ]
          },
          "metadata": {
            "tags": [],
            "needs_background": "light"
          }
        }
      ]
    },
    {
      "cell_type": "code",
      "metadata": {
        "colab": {
          "base_uri": "https://localhost:8080/",
          "height": 295
        },
        "id": "2SvUTjWEyspt",
        "outputId": "536d4d1b-226b-4fe9-d9a5-590b2d26d282"
      },
      "source": [
        "plt.hist(train['Close'])\n",
        "plt.title('Histogram of Close Price')\n",
        "plt.xlabel('Close Price')\n",
        "plt.ylabel('Frequency')\n",
        "plt.show()"
      ],
      "execution_count": 22,
      "outputs": [
        {
          "output_type": "display_data",
          "data": {
            "image/png": "[encoded data removed]",
            "text/plain": [
              "<Figure size 432x288 with 1 Axes>"
            ]
          },
          "metadata": {
            "tags": [],
            "needs_background": "light"
          }
        }
      ]
    },
    {
      "cell_type": "markdown",
      "metadata": {
        "id": "B48fMa8dX-50"
      },
      "source": [
        "The distribution of the close price is skewed right. "
      ]
    },
    {
      "cell_type": "markdown",
      "metadata": {
        "id": "XV2zP3yYrRYf"
      },
      "source": [
        "**Testing for Stationarity**"
      ]
    },
    {
      "cell_type": "code",
      "metadata": {
        "id": "xIzc_GrwhASe"
      },
      "source": [
        "import statsmodels\n",
        "from statsmodels.tsa.stattools import adfuller"
      ],
      "execution_count": null,
      "outputs": []
    },
    {
      "cell_type": "code",
      "metadata": {
        "id": "A9kf8RAbiui7"
      },
      "source": [
        "def test_stationarity(timeseries):\n",
        "\n",
        "  results = adfuller(timeseries, autolag='AIC')\n",
        "  print('Results of Augmented Dickey Fuller Test')\n",
        "  print('Test Statistic: ' + str(results[0]))\n",
        "  print('p-value: ' + str(results[1]))\n",
        "  print('No. of lags used: ' + str(results[2]))\n",
        "  print('Number of observations used: ' + str(results[3]))\n",
        "\n",
        "  for key, value in results[4].items():\n",
        "    print('Critial Values:')\n",
        "    print(f'   {key}, {value}')\n",
        "\n",
        "  if results[1] <= 0.05:\n",
        "    print (\"Reject null hypothesis. Data is stationary\")\n",
        "  else:\n",
        "    print (\"Fail to reject nyll hypothesis. Data is non-stationary\")"
      ],
      "execution_count": null,
      "outputs": []
    },
    {
      "cell_type": "markdown",
      "metadata": {
        "id": "-5UBSYvEEzqu"
      },
      "source": [
        "It is important to determine whether the data is stationary. We apply the test_stationarity function to the close price. "
      ]
    },
    {
      "cell_type": "code",
      "metadata": {
        "colab": {
          "base_uri": "https://localhost:8080/"
        },
        "id": "s28LUkhJkMGQ",
        "outputId": "70e1133e-9ace-463e-ae25-6e6e93aa3d24"
      },
      "source": [
        "test_stationarity(train['Close'])"
      ],
      "execution_count": null,
      "outputs": [
        {
          "output_type": "stream",
          "text": [
            "Results of Augmented Dickey Fuller Test\n",
            "Test Statistic: -2.2968065487610594\n",
            "p-value: 0.1729999917965782\n",
            "No. of lags used: 13\n",
            "Number of observations used: 1812\n",
            "Critial Values:\n",
            "   1%, -3.4339640110318004\n",
            "Critial Values:\n",
            "   5%, -2.8631363845692475\n",
            "Critial Values:\n",
            "   10%, -2.567619862152732\n",
            "Fail to reject nyll hypothesis. Data is non-stationary\n"
          ],
          "name": "stdout"
        }
      ]
    },
    {
      "cell_type": "markdown",
      "metadata": {
        "id": "_8BS7o_djYeX"
      },
      "source": [
        "The close price is not stationary. Need to apply differencing and transformations to make the close price stationary. \n",
        "\n",
        "The close price will undergo the following transformations separately:\n",
        "\n",
        "* Log transformation\n",
        "* Square root transformation\n",
        "* First degree differencing\n"
      ]
    },
    {
      "cell_type": "code",
      "metadata": {
        "id": "W-l2tuSCUppE"
      },
      "source": [
        "train['Close_log'] = np.log(train['Close'])\n",
        "train['Close_sqrt'] = np.sqrt(train['Close'])\n",
        "train['Close_diff'] = train['Close'].diff()"
      ],
      "execution_count": 24,
      "outputs": []
    },
    {
      "cell_type": "markdown",
      "metadata": {
        "id": "T68EXDqLVFnA"
      },
      "source": [
        "The transformations will be plotted to visually identify if the time-series data is stationary. "
      ]
    },
    {
      "cell_type": "code",
      "metadata": {
        "colab": {
          "base_uri": "https://localhost:8080/",
          "height": 345
        },
        "id": "RIviuy8UBAer",
        "outputId": "4ebea7b1-b966-46c1-8d10-2cc566d6a5a1"
      },
      "source": [
        "figure, axis = plt.subplots(ncols=4, figsize = (20,5))\n",
        "axis[0].plot(train[\"Close\"])\n",
        "axis[0].set_title(\"Original Data\")\n",
        "axis[0].set_xlabel(\"Date\")\n",
        "axis[0].set_ylabel(\"Price\")\n",
        "\n",
        "axis[1].plot(train[\"Close_log\"])\n",
        "axis[1].set_title(\"Log Transformation\")\n",
        "axis[1].set_xlabel(\"Date\")\n",
        "axis[1].set_ylabel(\"Log Price\")\n",
        "\n",
        "axis[2].plot(train[\"Close_sqrt\"])\n",
        "axis[2].set_title(\"Square Root Transformation\")\n",
        "axis[2].set_xlabel(\"Date\")\n",
        "axis[2].set_ylabel(\"Square Root Price\")\n",
        "\n",
        "axis[3].plot(train[\"Close_diff\"])\n",
        "axis[3].set_title(\"First Degree Differencing\")\n",
        "axis[3].set_xlabel(\"Date\")\n",
        "axis[3].set_ylabel(\"Differenced Price\")\n",
        "\n",
        "plt.show()"
      ],
      "execution_count": 25,
      "outputs": [
        {
          "output_type": "display_data",
          "data": {
            "image/png": "[encoded data removed]",
            "text/plain": [
              "<Figure size 1440x360 with 4 Axes>"
            ]
          },
          "metadata": {
            "tags": [],
            "needs_background": "light"
          }
        }
      ]
    },
    {
      "cell_type": "markdown",
      "metadata": {
        "id": "eghb68FaWFvU"
      },
      "source": [
        "Visually, the dataset looks stationary following first degree differencing. By applying the Augmented Dickey-Fuller test, we can determine if the dataset is stationary. A p-value of less than 0.05 indicates the dataset is stationary. "
      ]
    },
    {
      "cell_type": "code",
      "metadata": {
        "id": "3_EcNpKJm31G"
      },
      "source": [
        "train = train.dropna()"
      ],
      "execution_count": null,
      "outputs": []
    },
    {
      "cell_type": "code",
      "metadata": {
        "colab": {
          "base_uri": "https://localhost:8080/"
        },
        "id": "dunjRrLMlgTL",
        "outputId": "a78c31e8-2735-42fa-b6bc-3ad805411744"
      },
      "source": [
        "test_stationarity(train['Close_diff'])"
      ],
      "execution_count": null,
      "outputs": [
        {
          "output_type": "stream",
          "text": [
            "Results of Augmented Dickey Fuller Test\n",
            "Test Statistic: -12.260086806734092\n",
            "p-value: 9.120941583839775e-23\n",
            "No. of lags used: 12\n",
            "Number of observations used: 1812\n",
            "Critial Values:\n",
            "   1%, -3.4339640110318004\n",
            "Critial Values:\n",
            "   5%, -2.8631363845692475\n",
            "Critial Values:\n",
            "   10%, -2.567619862152732\n",
            "Reject null hypothesis. Data is stationary\n"
          ],
          "name": "stdout"
        }
      ]
    },
    {
      "cell_type": "markdown",
      "metadata": {
        "id": "neMlTae_kAOz"
      },
      "source": [
        "**Testing for autocorrelation**"
      ]
    },
    {
      "cell_type": "code",
      "metadata": {
        "id": "51f3NN4-aqLp"
      },
      "source": [
        "from statsmodels.graphics import tsaplots\n",
        "from statsmodels.tsa.stattools import acf\n",
        "from statsmodels.graphics.tsaplots import plot_acf"
      ],
      "execution_count": null,
      "outputs": []
    },
    {
      "cell_type": "markdown",
      "metadata": {
        "id": "PkPijY_Z-cFc"
      },
      "source": [
        "Autocorrelation will be tested on the close price and the differenced close price for comparison. "
      ]
    },
    {
      "cell_type": "code",
      "metadata": {
        "colab": {
          "base_uri": "https://localhost:8080/",
          "height": 281
        },
        "id": "zRgGN74S-Y4J",
        "outputId": "8538f1df-a9f2-4301-ec35-a6225a5bc8e9"
      },
      "source": [
        "plot_acf(train['Close'], lags=30);"
      ],
      "execution_count": null,
      "outputs": [
        {
          "output_type": "display_data",
          "data": {
            "image/png": "[encoded data removed]",
            "text/plain": [
              "<Figure size 432x288 with 1 Axes>"
            ]
          },
          "metadata": {
            "tags": [],
            "needs_background": "light"
          }
        }
      ]
    },
    {
      "cell_type": "code",
      "metadata": {
        "colab": {
          "base_uri": "https://localhost:8080/",
          "height": 281
        },
        "id": "TxxODOv6fx63",
        "outputId": "087c1944-6310-427f-bf8a-1239f4162e61"
      },
      "source": [
        "plot_acf(train['Close_diff'], lags=30);"
      ],
      "execution_count": null,
      "outputs": [
        {
          "output_type": "display_data",
          "data": {
            "image/png": "[encoded data removed]",
            "text/plain": [
              "<Figure size 432x288 with 1 Axes>"
            ]
          },
          "metadata": {
            "tags": [],
            "needs_background": "light"
          }
        }
      ]
    },
    {
      "cell_type": "markdown",
      "metadata": {
        "id": "k1h8k_3Fobx7"
      },
      "source": [
        "From the autocorrelation plot of the differenced close price, it is evident that the data is stationary. "
      ]
    },
    {
      "cell_type": "markdown",
      "metadata": {
        "id": "oU-2oxHfmv8C"
      },
      "source": [
        "**Testing for Seasonality**"
      ]
    },
    {
      "cell_type": "code",
      "metadata": {
        "id": "WIskSb5jmWWp"
      },
      "source": [
        "from statsmodels.tsa.seasonal import seasonal_decompose"
      ],
      "execution_count": null,
      "outputs": []
    },
    {
      "cell_type": "code",
      "metadata": {
        "colab": {
          "base_uri": "https://localhost:8080/",
          "height": 298
        },
        "id": "fcAgJhvjnB81",
        "outputId": "c6baef5d-b0d7-4602-afc7-7c3c7b1487ea"
      },
      "source": [
        "output = seasonal_decompose(train['Close'][:180], model='additive')\n",
        "output.plot();"
      ],
      "execution_count": null,
      "outputs": [
        {
          "output_type": "display_data",
          "data": {
            "image/png": "[encoded data removed]",
            "text/plain": [
              "<Figure size 432x288 with 4 Axes>"
            ]
          },
          "metadata": {
            "tags": [],
            "needs_background": "light"
          }
        }
      ]
    },
    {
      "cell_type": "code",
      "metadata": {
        "colab": {
          "base_uri": "https://localhost:8080/",
          "height": 300
        },
        "id": "hgNHtDoumzQn",
        "outputId": "641c7aef-f01d-4ce2-e8a1-578da4747f12"
      },
      "source": [
        "decomposed = seasonal_decompose(train['Close_diff'][:180], model='additive')\n",
        "decomposed.plot();"
      ],
      "execution_count": null,
      "outputs": [
        {
          "output_type": "display_data",
          "data": {
            "image/png": "[encoded data removed]",
            "text/plain": [
              "<Figure size 432x288 with 4 Axes>"
            ]
          },
          "metadata": {
            "tags": [],
            "needs_background": "light"
          }
        }
      ]
    },
    {
      "cell_type": "markdown",
      "metadata": {
        "id": "DwpLMd713xSl"
      },
      "source": [
        "Prior to modeling, there are a few columns that will be dropped that will not be used to train the model."
      ]
    },
    {
      "cell_type": "code",
      "metadata": {
        "colab": {
          "base_uri": "https://localhost:8080/"
        },
        "id": "utQCxZjT8WqI",
        "outputId": "9d8f744f-afb1-4a47-8d89-0ec859cec551"
      },
      "source": [
        "train_diff = train.drop(['Close_log','Close_sqrt','Close'],1)\n",
        "train_diff.shape"
      ],
      "execution_count": null,
      "outputs": [
        {
          "output_type": "execute_result",
          "data": {
            "text/plain": [
              "(1825, 6)"
            ]
          },
          "metadata": {
            "tags": []
          },
          "execution_count": 12
        }
      ]
    },
    {
      "cell_type": "code",
      "metadata": {
        "colab": {
          "base_uri": "https://localhost:8080/",
          "height": 449
        },
        "id": "nNeuPOqOGHE5",
        "outputId": "b8d33106-443e-41a4-de84-cf8c5d46fc34"
      },
      "source": [
        "train_diff"
      ],
      "execution_count": null,
      "outputs": [
        {
          "output_type": "execute_result",
          "data": {
            "text/html": [
              "<div>\n",
              "<style scoped>\n",
              "    .dataframe tbody tr th:only-of-type {\n",
              "        vertical-align: middle;\n",
              "    }\n",
              "\n",
              "    .dataframe tbody tr th {\n",
              "        vertical-align: top;\n",
              "    }\n",
              "\n",
              "    .dataframe thead th {\n",
              "        text-align: right;\n",
              "    }\n",
              "</style>\n",
              "<table border=\"1\" class=\"dataframe\">\n",
              "  <thead>\n",
              "    <tr style=\"text-align: right;\">\n",
              "      <th></th>\n",
              "      <th>Open</th>\n",
              "      <th>High</th>\n",
              "      <th>Low</th>\n",
              "      <th>Adj Close</th>\n",
              "      <th>Volume</th>\n",
              "      <th>Close_diff</th>\n",
              "    </tr>\n",
              "    <tr>\n",
              "      <th>Date</th>\n",
              "      <th></th>\n",
              "      <th></th>\n",
              "      <th></th>\n",
              "      <th></th>\n",
              "      <th></th>\n",
              "      <th></th>\n",
              "    </tr>\n",
              "  </thead>\n",
              "  <tbody>\n",
              "    <tr>\n",
              "      <th>2013-01-02</th>\n",
              "      <td>24.080000</td>\n",
              "      <td>24.120001</td>\n",
              "      <td>23.980000</td>\n",
              "      <td>16.935476</td>\n",
              "      <td>2812000</td>\n",
              "      <td>0.000000</td>\n",
              "    </tr>\n",
              "    <tr>\n",
              "      <th>2013-01-03</th>\n",
              "      <td>24.020000</td>\n",
              "      <td>24.115000</td>\n",
              "      <td>23.980000</td>\n",
              "      <td>16.903885</td>\n",
              "      <td>1941200</td>\n",
              "      <td>-0.045000</td>\n",
              "    </tr>\n",
              "    <tr>\n",
              "      <th>2013-01-04</th>\n",
              "      <td>23.959999</td>\n",
              "      <td>24.120001</td>\n",
              "      <td>23.959999</td>\n",
              "      <td>16.903885</td>\n",
              "      <td>1854800</td>\n",
              "      <td>0.000000</td>\n",
              "    </tr>\n",
              "    <tr>\n",
              "      <th>2013-01-05</th>\n",
              "      <td>23.995001</td>\n",
              "      <td>24.100000</td>\n",
              "      <td>23.975000</td>\n",
              "      <td>16.889841</td>\n",
              "      <td>1932200</td>\n",
              "      <td>-0.020000</td>\n",
              "    </tr>\n",
              "    <tr>\n",
              "      <th>2013-01-06</th>\n",
              "      <td>23.995001</td>\n",
              "      <td>24.100000</td>\n",
              "      <td>23.975000</td>\n",
              "      <td>16.889841</td>\n",
              "      <td>1932200</td>\n",
              "      <td>0.000000</td>\n",
              "    </tr>\n",
              "    <tr>\n",
              "      <th>...</th>\n",
              "      <td>...</td>\n",
              "      <td>...</td>\n",
              "      <td>...</td>\n",
              "      <td>...</td>\n",
              "      <td>...</td>\n",
              "      <td>...</td>\n",
              "    </tr>\n",
              "    <tr>\n",
              "      <th>2017-12-27</th>\n",
              "      <td>33.779999</td>\n",
              "      <td>33.799999</td>\n",
              "      <td>33.599998</td>\n",
              "      <td>29.914524</td>\n",
              "      <td>2566900</td>\n",
              "      <td>0.070000</td>\n",
              "    </tr>\n",
              "    <tr>\n",
              "      <th>2017-12-28</th>\n",
              "      <td>33.980000</td>\n",
              "      <td>34.200001</td>\n",
              "      <td>33.959999</td>\n",
              "      <td>30.260508</td>\n",
              "      <td>2445100</td>\n",
              "      <td>0.389999</td>\n",
              "    </tr>\n",
              "    <tr>\n",
              "      <th>2017-12-29</th>\n",
              "      <td>34.770000</td>\n",
              "      <td>34.950001</td>\n",
              "      <td>34.630001</td>\n",
              "      <td>30.783926</td>\n",
              "      <td>4096800</td>\n",
              "      <td>0.590000</td>\n",
              "    </tr>\n",
              "    <tr>\n",
              "      <th>2017-12-30</th>\n",
              "      <td>35.240002</td>\n",
              "      <td>35.439999</td>\n",
              "      <td>34.950001</td>\n",
              "      <td>31.387186</td>\n",
              "      <td>6107400</td>\n",
              "      <td>0.680000</td>\n",
              "    </tr>\n",
              "    <tr>\n",
              "      <th>2017-12-31</th>\n",
              "      <td>35.240002</td>\n",
              "      <td>35.439999</td>\n",
              "      <td>34.950001</td>\n",
              "      <td>31.387186</td>\n",
              "      <td>6107400</td>\n",
              "      <td>0.000000</td>\n",
              "    </tr>\n",
              "  </tbody>\n",
              "</table>\n",
              "<p>1825 rows × 6 columns</p>\n",
              "</div>"
            ],
            "text/plain": [
              "                 Open       High        Low  Adj Close   Volume  Close_diff\n",
              "Date                                                                       \n",
              "2013-01-02  24.080000  24.120001  23.980000  16.935476  2812000    0.000000\n",
              "2013-01-03  24.020000  24.115000  23.980000  16.903885  1941200   -0.045000\n",
              "2013-01-04  23.959999  24.120001  23.959999  16.903885  1854800    0.000000\n",
              "2013-01-05  23.995001  24.100000  23.975000  16.889841  1932200   -0.020000\n",
              "2013-01-06  23.995001  24.100000  23.975000  16.889841  1932200    0.000000\n",
              "...               ...        ...        ...        ...      ...         ...\n",
              "2017-12-27  33.779999  33.799999  33.599998  29.914524  2566900    0.070000\n",
              "2017-12-28  33.980000  34.200001  33.959999  30.260508  2445100    0.389999\n",
              "2017-12-29  34.770000  34.950001  34.630001  30.783926  4096800    0.590000\n",
              "2017-12-30  35.240002  35.439999  34.950001  31.387186  6107400    0.680000\n",
              "2017-12-31  35.240002  35.439999  34.950001  31.387186  6107400    0.000000\n",
              "\n",
              "[1825 rows x 6 columns]"
            ]
          },
          "metadata": {
            "tags": []
          },
          "execution_count": 34
        }
      ]
    },
    {
      "cell_type": "code",
      "metadata": {
        "id": "v4Vh8r_J3xoj"
      },
      "source": [
        "X_train = train_diff.drop('Close_diff', 1)\n",
        "X_test = test.drop('Close',1)\n",
        "\n",
        "y_train = train_diff['Close_diff'].values\n",
        "y_test = test['Close'].values"
      ],
      "execution_count": null,
      "outputs": []
    },
    {
      "cell_type": "markdown",
      "metadata": {
        "id": "9_-CsPIyvsJi"
      },
      "source": [
        "**Linear Regression Model**"
      ]
    },
    {
      "cell_type": "code",
      "metadata": {
        "id": "MOA-8QZ-vuPF"
      },
      "source": [
        "from sklearn.linear_model import LinearRegression\n",
        "from sklearn import metrics\n",
        "from sklearn.metrics import mean_squared_error, mean_absolute_error, mean_absolute_error, r2_score"
      ],
      "execution_count": null,
      "outputs": []
    },
    {
      "cell_type": "code",
      "metadata": {
        "id": "hJwufgAWRjdY"
      },
      "source": [
        "model = LinearRegression().fit(X_train,y_train)"
      ],
      "execution_count": null,
      "outputs": []
    },
    {
      "cell_type": "code",
      "metadata": {
        "id": "yazSi_uGPQ8L"
      },
      "source": [
        "y_prediction = model.predict(X_test)"
      ],
      "execution_count": null,
      "outputs": []
    },
    {
      "cell_type": "code",
      "metadata": {
        "colab": {
          "base_uri": "https://localhost:8080/"
        },
        "id": "h217DgsqWAQ9",
        "outputId": "52959f7b-2daf-4390-bb84-f63a0637cd2c"
      },
      "source": [
        "predictions_diff = pd.Series(y_prediction, copy=True)\n",
        "\n",
        "print('Total no of predictions: ', len(predictions_diff))\n",
        "predictions_diff.head()"
      ],
      "execution_count": null,
      "outputs": [
        {
          "output_type": "stream",
          "text": [
            "Total no of predictions:  730\n"
          ],
          "name": "stdout"
        },
        {
          "output_type": "execute_result",
          "data": {
            "text/plain": [
              "0   -0.019162\n",
              "1   -0.019162\n",
              "2    0.079653\n",
              "3   -0.053769\n",
              "4    0.102965\n",
              "dtype: float64"
            ]
          },
          "metadata": {
            "tags": []
          },
          "execution_count": 18
        }
      ]
    },
    {
      "cell_type": "markdown",
      "metadata": {
        "id": "WgnNOkrYYw6W"
      },
      "source": [
        "The cumulative sum (cumsum) function will be applied to the prediction to inverse the differencing applied to the train set. "
      ]
    },
    {
      "cell_type": "code",
      "metadata": {
        "colab": {
          "base_uri": "https://localhost:8080/"
        },
        "id": "dJ_gaR2tWLtd",
        "outputId": "f45553e6-6fc5-4ce8-d3d0-7a371c5065e0"
      },
      "source": [
        "predictions_diff_cumsum = predictions_diff.cumsum()\n",
        "predictions_diff_cumsum.head()"
      ],
      "execution_count": null,
      "outputs": [
        {
          "output_type": "execute_result",
          "data": {
            "text/plain": [
              "0   -0.019162\n",
              "1   -0.038323\n",
              "2    0.041330\n",
              "3   -0.012439\n",
              "4    0.090525\n",
              "dtype: float64"
            ]
          },
          "metadata": {
            "tags": []
          },
          "execution_count": 19
        }
      ]
    },
    {
      "cell_type": "markdown",
      "metadata": {
        "id": "0u2NL70OZc9D"
      },
      "source": [
        "The values from predictions_diff_cumsum will be added to the last value in train['Close'] "
      ]
    },
    {
      "cell_type": "code",
      "metadata": {
        "id": "zljqS6lMwCqt"
      },
      "source": [
        "last_price = train['Close'].iloc[-1] \n",
        "price_diff_rev = []\n",
        "\n",
        "for i in predictions_diff_cumsum:\n",
        "    close_pred = last_price + i\n",
        "    price_diff_rev.append(close_pred)"
      ],
      "execution_count": null,
      "outputs": []
    },
    {
      "cell_type": "code",
      "metadata": {
        "id": "emobJyOxflEt"
      },
      "source": [
        "y_pred = np.array(price_diff_rev) "
      ],
      "execution_count": null,
      "outputs": []
    },
    {
      "cell_type": "markdown",
      "metadata": {
        "id": "6Q_cFo5BZyHl"
      },
      "source": [
        "The model will be evaluated with the R2, MAE, MSE and RMSE values. "
      ]
    },
    {
      "cell_type": "code",
      "metadata": {
        "colab": {
          "base_uri": "https://localhost:8080/"
        },
        "id": "CYCHy7UHPzEa",
        "outputId": "93ceab62-28d5-4277-9091-5d952add253d"
      },
      "source": [
        "print (\"R2 of Linear Regresson:\", r2_score(y_test,y_pred) )\n",
        "print('MAE: ',metrics.mean_absolute_error(y_test, y_pred))\n",
        "print('MSE: ',metrics.mean_squared_error(y_test, y_pred))\n",
        "print('RMSE:',np.sqrt(metrics.mean_squared_error(y_test, y_pred)))"
      ],
      "execution_count": null,
      "outputs": [
        {
          "output_type": "stream",
          "text": [
            "R2 of Linear Regresson: 0.8168717734359878\n",
            "MAE:  1.401585582492963\n",
            "MSE:  3.0885890549710515\n",
            "RMSE: 1.7574382080093318\n"
          ],
          "name": "stdout"
        }
      ]
    },
    {
      "cell_type": "markdown",
      "metadata": {
        "id": "8xGsfOcPZ8GS"
      },
      "source": [
        "The actual and predicted close price are plotted for comparison. "
      ]
    },
    {
      "cell_type": "code",
      "metadata": {
        "colab": {
          "base_uri": "https://localhost:8080/",
          "height": 326
        },
        "id": "rqySL6z-t8JN",
        "outputId": "fb6bfdc1-2281-49d6-ede3-4e5439c019e9"
      },
      "source": [
        "forecast = pd.Series(y_pred, copy=True, index=test.index)\n",
        "plt.plot(test['Close'])\n",
        "plt.plot(forecast)\n",
        "plt.xticks(rotation=45)\n",
        "plt.title('Actual versus Predicted Close Price')"
      ],
      "execution_count": null,
      "outputs": [
        {
          "output_type": "execute_result",
          "data": {
            "text/plain": [
              "Text(0.5, 1.0, 'Actual versus Predicted Close Price')"
            ]
          },
          "metadata": {
            "tags": []
          },
          "execution_count": 43
        },
        {
          "output_type": "display_data",
          "data": {
            "image/png": "[encoded data removed]",
            "text/plain": [
              "<Figure size 432x288 with 1 Axes>"
            ]
          },
          "metadata": {
            "tags": [],
            "needs_background": "light"
          }
        }
      ]
    },
    {
      "cell_type": "markdown",
      "metadata": {
        "id": "Sxqv5p6fe-P2"
      },
      "source": [
        "To determine if the best model was produced, feature selection will be completed to determine the attributes that best predict the Close price."
      ]
    },
    {
      "cell_type": "code",
      "metadata": {
        "colab": {
          "base_uri": "https://localhost:8080/"
        },
        "id": "ps40eCsnRD2y",
        "outputId": "f21d805d-ad15-48f1-849d-1796d47f920c"
      },
      "source": [
        "X_train2 = train_diff.drop(['Volume','Close_diff'], 1)\n",
        "X_test2 = test.drop(['Volume','Close'],1)\n",
        "\n",
        "model = LinearRegression().fit(X_train2,y_train)\n",
        "y_prediction2 = model.predict(X_test2)\n",
        "predictions_diff2 = pd.Series(y_prediction2, copy=True)\n",
        "predictions_diff_cumsum2 = predictions_diff2.cumsum()\n",
        "last_price = train['Close'].iloc[-1] \n",
        "price_rev = []\n",
        "\n",
        "for i in predictions_diff_cumsum2:\n",
        "    close_pred = last_price + i\n",
        "    price_rev.append(close_pred)\n",
        "\n",
        "y_pred2 = np.array(price_rev) \n",
        "\n",
        "print (\"R2 of Linear Regresson:\", r2_score(y_test,y_pred2) )\n",
        "print('MAE: ',metrics.mean_absolute_error(y_test, y_pred2))\n",
        "print('MSE: ',metrics.mean_squared_error(y_test, y_pred2))\n",
        "print('RMSE:',np.sqrt(metrics.mean_squared_error(y_test, y_pred2)))"
      ],
      "execution_count": null,
      "outputs": [
        {
          "output_type": "stream",
          "text": [
            "R2 of Linear Regresson: 0.7911992040126639\n",
            "MAE:  1.4847568263273943\n",
            "MSE:  3.5215753751118544\n",
            "RMSE: 1.8765860958431548\n"
          ],
          "name": "stdout"
        }
      ]
    },
    {
      "cell_type": "code",
      "metadata": {
        "colab": {
          "base_uri": "https://localhost:8080/"
        },
        "id": "OS8SWgAFT7jv",
        "outputId": "1c0ccb53-c29b-41fc-f020-ddbb4779ce28"
      },
      "source": [
        "X_train3 = train_diff.drop(['Adj Close','Volume','Close_diff'], 1)\n",
        "X_test3 = test.drop(['Adj Close','Volume','Close'],1)\n",
        "\n",
        "model = LinearRegression().fit(X_train3,y_train)\n",
        "y_prediction3 = model.predict(X_test3)\n",
        "predictions_diff3 = pd.Series(y_prediction3, copy=True)\n",
        "predictions_diff_cumsum3 = predictions_diff3.cumsum()\n",
        "last_price = train['Close'].iloc[-1] \n",
        "price_diff_rev = []\n",
        "\n",
        "for i in predictions_diff_cumsum3:\n",
        "    close_pred = last_price + i\n",
        "    price_diff_rev.append(close_pred)\n",
        "\n",
        "y_pred3 = np.array(price_diff_rev) \n",
        "\n",
        "print (\"R2 of Linear Regresson:\", r2_score(y_test,y_pred3))\n",
        "print('MAE: ',metrics.mean_absolute_error(y_test, y_pred3))\n",
        "print('MSE: ',metrics.mean_squared_error(y_test, y_pred3))\n",
        "print('RMSE:',np.sqrt(metrics.mean_squared_error(y_test, y_pred3)))"
      ],
      "execution_count": null,
      "outputs": [
        {
          "output_type": "stream",
          "text": [
            "R2 of Linear Regresson: 0.8017853773190732\n",
            "MAE:  1.2997427384820621\n",
            "MSE:  3.3430319598138665\n",
            "RMSE: 1.8283960073829375\n"
          ],
          "name": "stdout"
        }
      ]
    },
    {
      "cell_type": "markdown",
      "metadata": {
        "id": "OgY-rUuLaZvy"
      },
      "source": [
        "**KNN Regression**"
      ]
    },
    {
      "cell_type": "code",
      "metadata": {
        "id": "Jh_DuKJ0fEzm"
      },
      "source": [
        "from sklearn.neighbors import KNeighborsRegressor"
      ],
      "execution_count": null,
      "outputs": []
    },
    {
      "cell_type": "code",
      "metadata": {
        "colab": {
          "base_uri": "https://localhost:8080/"
        },
        "id": "hLlyUlfwFjB5",
        "outputId": "fd1ae377-7dbd-44c2-bb2a-a97fb9388ac2"
      },
      "source": [
        "mse_dict = {}\n",
        "rmse = []\n",
        "\n",
        "for k in range(1,50,2):\n",
        "  Knn=KNeighborsRegressor(n_neighbors=k, metric='euclidean')\n",
        "  Knn.fit(X_train,y_train)\n",
        "  knn_y_prediction = Knn.predict(X_test)\n",
        "\n",
        "  knn_predictions_diff = pd.Series(knn_y_prediction, copy=True)\n",
        "  knn_predictions_diff_cumsum = knn_predictions_diff.cumsum()\n",
        "\n",
        "  last_price = train['Close'].iloc[-1] \n",
        "  knn_price_diff_rev = []\n",
        "\n",
        "  for i in knn_predictions_diff_cumsum:\n",
        "    pred = last_price + i\n",
        "    knn_price_diff_rev.append(pred)\n",
        "\n",
        "  knn_y_pred = np.array(knn_price_diff_rev) \n",
        "\n",
        "  MSE = mean_squared_error(y_test, knn_y_pred)\n",
        "  mse_dict[k] = MSE\n",
        "  best_k = min(mse_dict, key=mse_dict.get)\n",
        "\n",
        "  RMSE = np.sqrt(mean_squared_error(y_test, knn_y_pred))\n",
        "  rmse.append(RMSE)\n",
        "\n",
        "print('The k-value with the lowest MSE value is', best_k)\n",
        "print('The lowest RMSE value is', min(rmse))"
      ],
      "execution_count": null,
      "outputs": [
        {
          "output_type": "stream",
          "text": [
            "The k-value with the lowest MSE value is 33\n",
            "The lowest RMSE value is 3.7075009092625146\n"
          ],
          "name": "stdout"
        }
      ]
    },
    {
      "cell_type": "markdown",
      "metadata": {
        "id": "srfb0CyjRTTx"
      },
      "source": [
        "For k=13, let's obtain the predicted values. "
      ]
    },
    {
      "cell_type": "code",
      "metadata": {
        "id": "8_imPZ66RYu8"
      },
      "source": [
        "Knn=KNeighborsRegressor(n_neighbors=13, metric='euclidean')\n",
        "Knn.fit(X_train,y_train)\n",
        "knn_y_prediction = Knn.predict(X_test)\n",
        "\n",
        "knn_predictions_diff = pd.Series(knn_y_prediction, copy=True)\n",
        "knn_predictions_diff_cumsum = knn_predictions_diff.cumsum()\n",
        "\n",
        "last_price = train['Close'].iloc[-1] \n",
        "knn_price_diff_rev = []\n",
        "\n",
        "for i in knn_predictions_diff_cumsum:\n",
        "  pred = last_price + i\n",
        "  knn_price_diff_rev.append(pred)\n",
        "\n",
        "knn13_y_pred = np.array(knn_price_diff_rev) "
      ],
      "execution_count": null,
      "outputs": []
    },
    {
      "cell_type": "code",
      "metadata": {
        "colab": {
          "base_uri": "https://localhost:8080/",
          "height": 326
        },
        "id": "pUr9pJRJRkwj",
        "outputId": "05f89298-c7fe-4780-91dc-4b8c2f5beae9"
      },
      "source": [
        "knn_forecasted = pd.Series(knn13_y_pred, copy=True, index=test.index)\n",
        "plt.plot(test['Close'])\n",
        "plt.plot(knn_forecasted)\n",
        "plt.xticks(rotation=45)\n",
        "plt.title('KNN Regression')"
      ],
      "execution_count": null,
      "outputs": [
        {
          "output_type": "execute_result",
          "data": {
            "text/plain": [
              "Text(0.5, 1.0, 'KNN Regression')"
            ]
          },
          "metadata": {
            "tags": []
          },
          "execution_count": 29
        },
        {
          "output_type": "display_data",
          "data": {
            "image/png": "[encoded data removed]",
            "text/plain": [
              "<Figure size 432x288 with 1 Axes>"
            ]
          },
          "metadata": {
            "tags": [],
            "needs_background": "light"
          }
        }
      ]
    },
    {
      "cell_type": "markdown",
      "metadata": {
        "id": "GNaMdHyD8N_z"
      },
      "source": [
        "**LSTM Model**"
      ]
    },
    {
      "cell_type": "code",
      "metadata": {
        "id": "2Tfc-c8e8Qk6"
      },
      "source": [
        "from keras.models import Sequential\n",
        "from keras.layers import Dense\n",
        "from keras.layers import Dropout\n",
        "from keras.layers import LSTM"
      ],
      "execution_count": null,
      "outputs": []
    },
    {
      "cell_type": "code",
      "metadata": {
        "id": "VB_KmqDIVAnk"
      },
      "source": [
        ""
      ],
      "execution_count": null,
      "outputs": []
    }
  ]
}